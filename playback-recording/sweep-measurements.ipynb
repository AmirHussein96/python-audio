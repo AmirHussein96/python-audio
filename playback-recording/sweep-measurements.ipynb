{
 "cells": [
  {
   "cell_type": "code",
   "execution_count": 1,
   "metadata": {
    "collapsed": false
   },
   "outputs": [],
   "source": [
    "%matplotlib inline\n",
    "import matplotlib.pyplot as plt\n",
    "import numpy as np"
   ]
  },
  {
   "cell_type": "code",
   "execution_count": 2,
   "metadata": {
    "collapsed": false
   },
   "outputs": [],
   "source": [
    "def exponential_sweep(f1, f2, T, fs, fade_duration):\n",
    "    \"\"\"Create exponential sweep.\n",
    "    \n",
    "    f1, f2: start/stop frequency (Hz)\n",
    "    T: duration (sec)\n",
    "    fs: sample rate (Hz)\n",
    "    fade_duration: time to fade in/out (sec)\n",
    "    \n",
    "    \"\"\"\n",
    "    t = np.arange(0, T, 1 / fs)\n",
    "    L = T / np.log(f2 / f1);  # rate of exponential increase\n",
    "\n",
    "    phi = 2 * np.pi * f1 * L * (np.exp(t / L) - 1);\n",
    "\n",
    "    # force zero crossing at begin and end\n",
    "    phi = phi - phi[0]\n",
    "    phi = phi - np.linspace(0, np.mod(phi[-1], 2 * np.pi), len(t))\n",
    "\n",
    "    result = 0.5 * np.sin(phi)\n",
    "\n",
    "    fade_length = np.ceil(fade_duration * fs);\n",
    "    # make odd-length window\n",
    "    w = np.hanning(2 * fade_length + 1);\n",
    "    #idx = slice(fade_length);\n",
    "    #result[idx] = result[idx] * w[idx];\n",
    "    #idx = slice(-fade_length, None);\n",
    "    #result[idx] = result[idx] * w[idx];\n",
    "    \n",
    "    return result"
   ]
  },
  {
   "cell_type": "code",
   "execution_count": 3,
   "metadata": {
    "collapsed": false
   },
   "outputs": [],
   "source": [
    "T = 4\n",
    "fs = 44100\n",
    "f1 = 10\n",
    "f2 = fs\n",
    "fade_length = 0.1"
   ]
  },
  {
   "cell_type": "code",
   "execution_count": 23,
   "metadata": {
    "collapsed": false
   },
   "outputs": [],
   "source": [
    "sweep = exponential_sweep(f1, f2, T, fs, fade_length)"
   ]
  },
  {
   "cell_type": "code",
   "execution_count": 24,
   "metadata": {
    "collapsed": false
   },
   "outputs": [],
   "source": [
    "plt.plot(sweep);"
   ]
  },
  {
   "cell_type": "code",
   "execution_count": 6,
   "metadata": {
    "collapsed": false
   },
   "outputs": [],
   "source": [
    "from scipy import signal"
   ]
  },
  {
   "cell_type": "code",
   "execution_count": 18,
   "metadata": {
    "collapsed": false
   },
   "outputs": [],
   "source": [
    "t = np.arange(np.ceil(T * fs)) / fs"
   ]
  },
  {
   "cell_type": "code",
   "execution_count": 19,
   "metadata": {
    "collapsed": false
   },
   "outputs": [],
   "source": [
    "sweep = signal.chirp(t, f1, T, f2, 'log')"
   ]
  },
  {
   "cell_type": "code",
   "execution_count": 22,
   "metadata": {
    "collapsed": false
   },
   "outputs": [],
   "source": [
    "plt.plot(sweep);"
   ]
  },
  {
   "cell_type": "code",
   "execution_count": null,
   "metadata": {
    "collapsed": false
   },
   "outputs": [],
   "source": []
  }
 ],
 "metadata": {
  "kernelspec": {
   "display_name": "Python 3",
   "language": "python",
   "name": "python3"
  },
  "language_info": {
   "codemirror_mode": {
    "name": "ipython",
    "version": 3
   },
   "file_extension": ".py",
   "mimetype": "text/x-python",
   "name": "python",
   "nbconvert_exporter": "python",
   "pygments_lexer": "ipython3",
   "version": "3.4.3+"
  }
 },
 "nbformat": 4,
 "nbformat_minor": 0
}
