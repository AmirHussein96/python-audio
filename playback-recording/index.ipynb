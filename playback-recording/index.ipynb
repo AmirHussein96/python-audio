{
 "cells": [
  {
   "cell_type": "markdown",
   "metadata": {},
   "source": [
    "# Audio Playback and Recording"
   ]
  },
  {
   "cell_type": "markdown",
   "metadata": {},
   "source": [
    "[back to main page](../index.ipynb)"
   ]
  },
  {
   "cell_type": "markdown",
   "metadata": {},
   "source": [
    "This is work-in-progress!"
   ]
  },
  {
   "cell_type": "markdown",
   "metadata": {},
   "source": [
    "There are several libraries for audio playback and/or recording available for\n",
    "Python.\n",
    "They greatly differ in features, API, requirements, quality, ..."
   ]
  },
  {
   "cell_type": "markdown",
   "metadata": {},
   "source": [
    "## PySoundCard"
   ]
  },
  {
   "cell_type": "markdown",
   "metadata": {},
   "source": [
    "http://github.com/bastibe/PySoundCard/\n",
    "\n",
    "uses PortAudio via CFFI"
   ]
  },
  {
   "cell_type": "markdown",
   "metadata": {},
   "source": [
    "## PyAudio"
   ]
  },
  {
   "cell_type": "markdown",
   "metadata": {},
   "source": [
    "bindings for PortAudio\n",
    "\n",
    "http://people.csail.mit.edu/hubert/pyaudio/"
   ]
  },
  {
   "cell_type": "markdown",
   "metadata": {},
   "source": [
    "## pygame.mixer"
   ]
  },
  {
   "cell_type": "markdown",
   "metadata": {},
   "source": [
    "uses [SDL](http://www.libsdl.org/)\n",
    "\n",
    "http://pygame.org/docs/ref/mixer.html\n",
    "\n",
    "Debian package: python-pygame"
   ]
  },
  {
   "cell_type": "markdown",
   "metadata": {},
   "source": [
    "## pyglet"
   ]
  },
  {
   "cell_type": "markdown",
   "metadata": {},
   "source": [
    "http://pyglet.org\n",
    "\n",
    "DirectSound on Windows, ALSA on Linux, OpenAL on Windows/Linux/MacOSX: \n",
    "\n",
    "http://www.pyglet.org/doc/programming_guide/audio_drivers.html\n",
    "\n",
    "Debian package: python-pyglet\n",
    "\n",
    "Many codecs supported with [AVbin](http://code.google.com/p/avbin/).\n",
    "\n",
    "Debian package: libavbin0 and/or libavbin-dev?"
   ]
  },
  {
   "cell_type": "markdown",
   "metadata": {},
   "source": [
    "## pySFML"
   ]
  },
  {
   "cell_type": "markdown",
   "metadata": {},
   "source": [
    "http://python-sfml.org/examples.html\n",
    "\n",
    "Debian packages python-sfml and python3-sfml.\n",
    "\n",
    "Uses [OpenAL Soft][] for playback/recording and\n",
    "[libsndfile][] for audio file handling.\n",
    "\n",
    "[OpenAL Soft]: http://kcat.strangesoft.net/openal.html\n",
    "[libsndfile]: http://www.mega-nerd.com/libsndfile/"
   ]
  },
  {
   "cell_type": "markdown",
   "metadata": {},
   "source": [
    "## Snack"
   ]
  },
  {
   "cell_type": "markdown",
   "metadata": {},
   "source": [
    "Depends on Tkinter\n",
    "\n",
    "http://www.speech.kth.se/snack/  \n",
    "http://www.speech.kth.se/snack/man/snack2.2/python-man.html\n",
    "\n",
    "Debian package: libsnack2-alsa\n",
    "\n",
    "no new releases since December 2005!"
   ]
  },
  {
   "cell_type": "markdown",
   "metadata": {},
   "source": [
    "## PyAudiere!"
   ]
  },
  {
   "cell_type": "markdown",
   "metadata": {},
   "source": [
    "http://pyaudiere.org/\n",
    "\n",
    "uses audiere: http://audiere.sourceforge.net/"
   ]
  },
  {
   "cell_type": "markdown",
   "metadata": {},
   "source": [
    "## audioloop"
   ]
  },
  {
   "cell_type": "markdown",
   "metadata": {},
   "source": [
    "standard Python lib to manipulate raw audio data\n",
    "\n",
    "http://docs.python.org/library/audioop.html"
   ]
  },
  {
   "cell_type": "markdown",
   "metadata": {},
   "source": [
    "## PySndObj"
   ]
  },
  {
   "cell_type": "markdown",
   "metadata": {},
   "source": [
    "platform independent, including JACK!\n",
    "\n",
    "http://sndobj.sourceforge.net/"
   ]
  },
  {
   "cell_type": "markdown",
   "metadata": {},
   "source": [
    "## jackclient-python"
   ]
  },
  {
   "cell_type": "markdown",
   "metadata": {},
   "source": [
    "http://github.com/spatialaudio/jackclient-python/\n",
    "\n",
    "http://jackclient-python.rtfd.org/"
   ]
  },
  {
   "cell_type": "markdown",
   "metadata": {},
   "source": [
    "## PyJack"
   ]
  },
  {
   "cell_type": "markdown",
   "metadata": {},
   "source": [
    "http://sourceforge.net/projects/py-jack/"
   ]
  },
  {
   "cell_type": "markdown",
   "metadata": {},
   "source": [
    "## medussa"
   ]
  },
  {
   "cell_type": "markdown",
   "metadata": {},
   "source": [
    "http://www.medussa.us  \n",
    "https://code.google.com/p/medussa/"
   ]
  },
  {
   "cell_type": "markdown",
   "metadata": {},
   "source": [
    "## py-portaudio"
   ]
  },
  {
   "cell_type": "markdown",
   "metadata": {},
   "source": [
    "https://github.com/ranweiler/py-portaudio"
   ]
  }
 ],
 "metadata": {},
 "nbformat": 4,
 "nbformat_minor": 2
}
