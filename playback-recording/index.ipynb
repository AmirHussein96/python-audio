{
 "cells": [
  {
   "cell_type": "markdown",
   "metadata": {},
   "source": [
    "# Audio Playback and Recording\n",
    "\n",
    "[back to main page](../index.ipynb)\n",
    "\n",
    "This is work-in-progress!\n",
    "\n",
    "There are several libraries for audio playback and/or recording available for\n",
    "Python.\n",
    "They greatly differ in features, API, requirements, quality, ..."
   ]
  },
  {
   "cell_type": "markdown",
   "metadata": {},
   "source": [
    "## PySoundCard\n",
    "\n",
    "http://github.com/bastibe/PySoundCard/\n",
    "\n",
    "uses PortAudio via CFFI"
   ]
  },
  {
   "cell_type": "markdown",
   "metadata": {},
   "source": [
    "## PyAudio\n",
    "\n",
    "bindings for PortAudio\n",
    "\n",
    "http://people.csail.mit.edu/hubert/pyaudio/"
   ]
  },
  {
   "cell_type": "markdown",
   "metadata": {},
   "source": [
    "## pygame.mixer\n",
    "\n",
    "uses [SDL](http://www.libsdl.org/)\n",
    "\n",
    "http://pygame.org/docs/ref/mixer.html\n",
    "\n",
    "Debian package: python-pygame"
   ]
  },
  {
   "cell_type": "markdown",
   "metadata": {},
   "source": [
    "## pyglet\n",
    "\n",
    "http://pyglet.org\n",
    "\n",
    "DirectSound on Windows, ALSA on Linux, OpenAL on Windows/Linux/MacOSX: \n",
    "\n",
    "http://www.pyglet.org/doc/programming_guide/audio_drivers.html\n",
    "\n",
    "Debian package: python-pyglet\n",
    "\n",
    "Many codecs supported with [AVbin](http://code.google.com/p/avbin/).\n",
    "\n",
    "Debian package: libavbin0 and/or libavbin-dev?"
   ]
  },
  {
   "cell_type": "markdown",
   "metadata": {},
   "source": [
    "## pySFML\n",
    "\n",
    "http://python-sfml.org/examples.html\n",
    "\n",
    "Debian packages python-sfml and python3-sfml.\n",
    "\n",
    "Uses [OpenAL Soft][] for playback/recording and\n",
    "[libsndfile][] for audio file handling.\n",
    "\n",
    "[OpenAL Soft]: http://kcat.strangesoft.net/openal.html\n",
    "[libsndfile]: http://www.mega-nerd.com/libsndfile/"
   ]
  },
  {
   "cell_type": "markdown",
   "metadata": {},
   "source": [
    "## Snack\n",
    "\n",
    "Depends on Tkinter\n",
    "\n",
    "http://www.speech.kth.se/snack/  \n",
    "http://www.speech.kth.se/snack/man/snack2.2/python-man.html\n",
    "\n",
    "Debian package: libsnack2-alsa\n",
    "\n",
    "no new releases since December 2005!"
   ]
  },
  {
   "cell_type": "markdown",
   "metadata": {},
   "source": [
    "## PyAudiere!\n",
    "\n",
    "http://pyaudiere.org/\n",
    "\n",
    "uses audiere: http://audiere.sourceforge.net/"
   ]
  },
  {
   "cell_type": "markdown",
   "metadata": {},
   "source": [
    "## audioop\n",
    "\n",
    "standard Python lib to manipulate raw audio data\n",
    "\n",
    "http://docs.python.org/library/audioop.html"
   ]
  },
  {
   "cell_type": "markdown",
   "metadata": {},
   "source": [
    "## PySndObj\n",
    "\n",
    "platform independent, including JACK!\n",
    "\n",
    "http://sndobj.sourceforge.net/"
   ]
  },
  {
   "cell_type": "markdown",
   "metadata": {},
   "source": [
    "## jackclient-python\n",
    "\n",
    "http://github.com/spatialaudio/jackclient-python/\n",
    "\n",
    "http://jackclient-python.rtfd.org/"
   ]
  },
  {
   "cell_type": "markdown",
   "metadata": {},
   "source": [
    "## PyJack\n",
    "\n",
    "http://sourceforge.net/projects/py-jack/"
   ]
  },
  {
   "cell_type": "markdown",
   "metadata": {},
   "source": [
    "## medussa\n",
    "\n",
    "http://www.medussa.us  \n",
    "https://code.google.com/p/medussa/"
   ]
  },
  {
   "cell_type": "markdown",
   "metadata": {},
   "source": [
    "## py-portaudio\n",
    "\n",
    "https://github.com/ranweiler/py-portaudio"
   ]
  },
  {
   "cell_type": "markdown",
   "metadata": {},
   "source": [
    "<p xmlns:dct=\"http://purl.org/dc/terms/\">\n",
    "  <a rel=\"license\"\n",
    "     href=\"http://creativecommons.org/publicdomain/zero/1.0/\">\n",
    "    <img src=\"http://i.creativecommons.org/p/zero/1.0/88x31.png\" style=\"border-style: none;\" alt=\"CC0\" />\n",
    "  </a>\n",
    "  <br />\n",
    "  To the extent possible under law,\n",
    "  <span resource=\"[_:publisher]\" rel=\"dct:publisher\">\n",
    "    <span property=\"dct:title\">Matthias Geier</span></span>\n",
    "  has waived all copyright and related or neighboring rights to\n",
    "  this work.\n",
    "</p>"
   ]
  }
 ],
 "metadata": {
  "kernelspec": {
   "display_name": "Python 3",
   "language": "python",
   "name": "python3"
  },
  "language_info": {
   "codemirror_mode": {
    "name": "ipython",
    "version": 3
   },
   "file_extension": ".py",
   "mimetype": "text/x-python",
   "name": "python",
   "nbconvert_exporter": "python",
   "pygments_lexer": "ipython3",
   "version": "3.4.3+"
  }
 },
 "nbformat": 4,
 "nbformat_minor": 0
}
