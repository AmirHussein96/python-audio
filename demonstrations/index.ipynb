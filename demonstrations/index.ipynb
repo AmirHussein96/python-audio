{
 "cells": [
  {
   "cell_type": "markdown",
   "metadata": {},
   "source": [
    "# Demonstrations\n",
    "\n",
    "[back to main page](../index.ipynb)"
   ]
  },
  {
   "cell_type": "markdown",
   "metadata": {},
   "source": [
    "## Ideas"
   ]
  },
  {
   "cell_type": "markdown",
   "metadata": {},
   "source": [
    "### Shepard Tones\n",
    "\n",
    "http://tinyurl.com/shepard-risset/\n",
    "\n",
    "http://vihart.com/shepard-tones/\n",
    "\n",
    "https://en.wikipedia.org/wiki/Shepard_tone\n",
    "\n",
    "https://en.wikipedia.org/wiki/Tritone_paradox\n",
    "\n",
    "### Others\n",
    "\n",
    "[Illusions: What you see is what you hear](http://www.nature.com/nature/journal/v408/n6814/full/408788a0.html)"
   ]
  },
  {
   "cell_type": "markdown",
   "metadata": {},
   "source": [
    "## External Links\n",
    "\n",
    "Auditory Demonstrations (Houtsma, Rossing, Wagenaars):\n",
    "http://www.feilding.net/sfuad/musi3012-01/demos/audio/\n",
    "\n",
    "Matlab Auditory Demonstrations (MAD):  \n",
    "http://spandh.dcs.shef.ac.uk/ed_arena/mad/mad/docs/whatson.htm\n",
    "\n",
    "Handbook for Acoustic Ecology (with sound examples):  \n",
    "http://www.sfu.ca/sonic-studio/handbook/\n",
    "\n",
    "Java applets by Paul Falstad:  \n",
    "http://www.falstad.com/mathphysics.html\n",
    "\n",
    "Supplements to the book \"Why You Hear What You Hear\" by Eric J. Heller:  \n",
    "http://www.whyyouhearwhatyouhear.com/subpages/chapter1.html"
   ]
  },
  {
   "cell_type": "markdown",
   "metadata": {},
   "source": [
    "<p xmlns:dct=\"http://purl.org/dc/terms/\">\n",
    "  <a rel=\"license\"\n",
    "     href=\"http://creativecommons.org/publicdomain/zero/1.0/\">\n",
    "    <img src=\"http://i.creativecommons.org/p/zero/1.0/88x31.png\" style=\"border-style: none;\" alt=\"CC0\" />\n",
    "  </a>\n",
    "  <br />\n",
    "  To the extent possible under law,\n",
    "  <span resource=\"[_:publisher]\" rel=\"dct:publisher\">\n",
    "    <span property=\"dct:title\">Matthias Geier</span></span>\n",
    "  has waived all copyright and related or neighboring rights to\n",
    "  this work.\n",
    "</p>"
   ]
  }
 ],
 "metadata": {
  "kernelspec": {
   "display_name": "Python 3",
   "language": "python",
   "name": "python3"
  },
  "language_info": {
   "codemirror_mode": {
    "name": "ipython",
    "version": 3
   },
   "file_extension": ".py",
   "mimetype": "text/x-python",
   "name": "python",
   "nbconvert_exporter": "python",
   "pygments_lexer": "ipython3",
   "version": "3.5.1+"
  }
 },
 "nbformat": 4,
 "nbformat_minor": 0
}
