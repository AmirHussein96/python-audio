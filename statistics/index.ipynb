{
 "metadata": {
  "name": "",
  "signature": "sha256:7403dc8c986ba40f7484f9d9f62f9aa01ebda81ab499ed773e5ebbb3f26bb5f5"
 },
 "nbformat": 3,
 "nbformat_minor": 0,
 "worksheets": [
  {
   "cells": [
    {
     "cell_type": "heading",
     "level": 1,
     "metadata": {},
     "source": [
      "Statistics in Python"
     ]
    },
    {
     "cell_type": "markdown",
     "metadata": {},
     "source": [
      "[back to main page](../index.ipynb)"
     ]
    },
    {
     "cell_type": "markdown",
     "metadata": {},
     "source": [
      "pandas: http://pandas.pydata.org/"
     ]
    },
    {
     "cell_type": "heading",
     "level": 2,
     "metadata": {},
     "source": [
      "Freely Available Raw Data"
     ]
    },
    {
     "cell_type": "markdown",
     "metadata": {},
     "source": [
      "If you need some data to try out your statistics skills, maybe one of the\n",
      "following helps ...\n",
      "\n",
      "Andrew J. Tatem, Carlos A. Guerra, Peter M. Atkinson, Simon I. Hay  \n",
      "[Athletics:  Momentous sprint at the 2156 Olympics?](http://dx.doi.org/10.1038/431525a)  \n",
      "Nature Volume 431, Issue 525, 2004.  \n",
      "[supplementary information](http://www.nature.com/nature/journal/v431/n7008/suppinfo/431525a.html)"
     ]
    },
    {
     "cell_type": "heading",
     "level": 2,
     "metadata": {},
     "source": [
      "Tutorials etc."
     ]
    },
    {
     "cell_type": "markdown",
     "metadata": {},
     "source": [
      "Machine Learning for Hackers:  \n",
      "http://slendermeans.org/category/will-it-python.html\n",
      "\n",
      "CS109 Data Science (video lecture):  \n",
      "http://cs109.org/\n",
      "\n",
      "spurious correlations:  \n",
      "http://www.tylervigen.com/\n",
      "\n",
      "NIST/SEMATECH e-Handbook of Statistical Methods:  \n",
      "http://www.itl.nist.gov/div898/handbook/\n",
      "\n",
      "Implementing a Principal Component Analysis (PCA) in Python step by step:  \n",
      "http://sebastianraschka.com/Articles/2014_pca_step_by_step.html"
     ]
    },
    {
     "cell_type": "heading",
     "level": 2,
     "metadata": {},
     "source": [
      "Case Studies"
     ]
    },
    {
     "cell_type": "markdown",
     "metadata": {},
     "source": [
      "TODO: Try to analyze (and probably reproduce) some existing studies.\n",
      "\n",
      "Comparison of violins:\n",
      "\n",
      "http://www.pnas.org/content/109/3/760  \n",
      "http://www.pnas.org/content/early/2014/04/03/1323367111  \n",
      "http://phenomena.nationalgeographic.com/2014/04/07/stradivarius-violins-arent-better-than-new-ones-round-two/  \n",
      "http://josephcurtinstudios.com/article/the-indianapolis-experiment/  \n",
      "http://www.violinist.com/blog/laurie/20121/13039/  \n",
      "http://www.npr.org/blogs/deceptivecadence/2012/01/02/144482863/double-blind-violin-test-can-you-pick-the-strad  \n",
      "http://www.artsjournal.com/slippeddisc/2012/01/exclusive-how-i-blind-tested-old-violins-against-new.html  \n",
      "http://www.thestrad.com/latest/editorschoice/from-the-archive-classic-and-modern-violins-compared  \n",
      "http://www.thestrad.com/video/new-vs-old-follow-up-to-the-indianapolis-blind-testing-experiment  \n",
      "http://diepresse.com/home/meinung/marginalien/1587780/Bei-Stradivari-hat-vor-allem-der-Mythos-Klang  \n",
      "http://abcnews.go.com/Technology/wireStory/blind-test-soloists-violins-23227307  \n",
      "http://en.wikipedia.org/wiki/Player_preferences_among_new_and_old_violins"
     ]
    }
   ],
   "metadata": {}
  }
 ]
}