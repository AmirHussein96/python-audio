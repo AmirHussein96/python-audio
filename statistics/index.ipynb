{
 "cells": [
  {
   "cell_type": "markdown",
   "metadata": {},
   "source": [
    "# Statistics in Python\n",
    "\n",
    "[back to main page](../index.ipynb)"
   ]
  },
  {
   "cell_type": "markdown",
   "metadata": {},
   "source": [
    "pandas: http://pandas.pydata.org/\n",
    "\n",
    "http://statpages.org/"
   ]
  },
  {
   "cell_type": "markdown",
   "metadata": {},
   "source": [
    "## Freely Available Raw Data\n",
    "\n",
    "If you need some data to try out your statistics skills, maybe one of the\n",
    "following helps ...\n",
    "\n",
    "Andrew J. Tatem, Carlos A. Guerra, Peter M. Atkinson, Simon I. Hay  \n",
    "[Athletics:  Momentous sprint at the 2156 Olympics?](http://dx.doi.org/10.1038/431525a)  \n",
    "Nature Volume 431, Issue 525, 2004.  \n",
    "[supplementary information](http://www.nature.com/nature/journal/v431/n7008/suppinfo/431525a.html)"
   ]
  },
  {
   "cell_type": "markdown",
   "metadata": {},
   "source": [
    "## Tutorials etc.\n",
    "\n",
    "Machine Learning for Hackers:  \n",
    "http://slendermeans.org/category/will-it-python.html\n",
    "\n",
    "CS109 Data Science (video lecture):  \n",
    "http://cs109.org/\n",
    "\n",
    "spurious correlations:  \n",
    "http://www.tylervigen.com/\n",
    "\n",
    "NIST/SEMATECH e-Handbook of Statistical Methods:  \n",
    "http://www.itl.nist.gov/div898/handbook/\n",
    "\n",
    "Implementing a Principal Component Analysis (PCA) in Python step by step:  \n",
    "http://sebastianraschka.com/Articles/2014_pca_step_by_step.html\n",
    "\n",
    "What Educated Citizens Should Know About Statistics and Probability (Jessica Utts, The American Statistician Volume 57, Issue 2, 2003):  \n",
    "http://www.tandfonline.com/doi/abs/10.1198/0003130031630"
   ]
  },
  {
   "cell_type": "markdown",
   "metadata": {},
   "source": [
    "## Case Studies\n",
    "\n",
    "TODO: Try to analyze (and probably reproduce) some existing studies.\n",
    "\n",
    "Comparison of violins:\n",
    "\n",
    "http://www.pnas.org/content/109/3/760  \n",
    "http://www.pnas.org/content/early/2014/04/03/1323367111  \n",
    "http://phenomena.nationalgeographic.com/2014/04/07/stradivarius-violins-arent-better-than-new-ones-round-two/  \n",
    "http://josephcurtinstudios.com/article/the-indianapolis-experiment/  \n",
    "http://www.violinist.com/blog/laurie/20121/13039/  \n",
    "http://www.npr.org/blogs/deceptivecadence/2012/01/02/144482863/double-blind-violin-test-can-you-pick-the-strad  \n",
    "http://www.artsjournal.com/slippeddisc/2012/01/exclusive-how-i-blind-tested-old-violins-against-new.html  \n",
    "http://www.thestrad.com/latest/editorschoice/from-the-archive-classic-and-modern-violins-compared  \n",
    "http://www.thestrad.com/video/new-vs-old-follow-up-to-the-indianapolis-blind-testing-experiment  \n",
    "http://diepresse.com/home/meinung/marginalien/1587780/Bei-Stradivari-hat-vor-allem-der-Mythos-Klang  \n",
    "http://abcnews.go.com/Technology/wireStory/blind-test-soloists-violins-23227307  \n",
    "http://en.wikipedia.org/wiki/Player_preferences_among_new_and_old_violins"
   ]
  },
  {
   "cell_type": "markdown",
   "metadata": {},
   "source": [
    "<p xmlns:dct=\"http://purl.org/dc/terms/\">\n",
    "  <a rel=\"license\"\n",
    "     href=\"http://creativecommons.org/publicdomain/zero/1.0/\">\n",
    "    <img src=\"http://i.creativecommons.org/p/zero/1.0/88x31.png\" style=\"border-style: none;\" alt=\"CC0\" />\n",
    "  </a>\n",
    "  <br />\n",
    "  To the extent possible under law,\n",
    "  <span resource=\"[_:publisher]\" rel=\"dct:publisher\">\n",
    "    <span property=\"dct:title\">Matthias Geier</span></span>\n",
    "  has waived all copyright and related or neighboring rights to\n",
    "  this work.\n",
    "</p>"
   ]
  }
 ],
 "metadata": {
  "kernelspec": {
   "display_name": "Python 3",
   "language": "python",
   "name": "python3"
  },
  "language_info": {
   "codemirror_mode": {
    "name": "ipython",
    "version": 3
   },
   "file_extension": ".py",
   "mimetype": "text/x-python",
   "name": "python",
   "nbconvert_exporter": "python",
   "pygments_lexer": "ipython3",
   "version": "3.4.3+"
  }
 },
 "nbformat": 4,
 "nbformat_minor": 0
}
