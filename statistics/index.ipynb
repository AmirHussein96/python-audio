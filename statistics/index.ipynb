{
 "cells": [
  {
   "cell_type": "markdown",
   "metadata": {},
   "source": [
    "# Statistics in Python\n",
    "\n",
    "[back to main page](../index.ipynb)"
   ]
  },
  {
   "cell_type": "markdown",
   "metadata": {},
   "source": [
    "pandas: http://pandas.pydata.org/\n",
    "\n",
    "http://statpages.org/\n",
    "\n",
    "TODO: explain \"power\" and \"effect\""
   ]
  },
  {
   "cell_type": "markdown",
   "metadata": {},
   "source": [
    "## Freely Available Raw Data\n",
    "\n",
    "If you need some data to try out your statistics skills, maybe one of the\n",
    "following helps ...\n",
    "\n",
    "Andrew J. Tatem, Carlos A. Guerra, Peter M. Atkinson, Simon I. Hay  \n",
    "[Athletics:  Momentous sprint at the 2156 Olympics?](http://dx.doi.org/10.1038/431525a)  \n",
    "Nature Volume 431, Issue 525, 2004.  \n",
    "[supplementary information](http://www.nature.com/nature/journal/v431/n7008/suppinfo/431525a.html)\n",
    "\n",
    "Bicycle data from Seattle:  \n",
    "http://www.seattlebikeblog.com/2014/06/09/a-statistical-analysis-of-biking-on-the-fremont-bridge-part-1-overview/  \n",
    "https://jakevdp.github.io/blog/2014/06/10/is-seattle-really-seeing-an-uptick-in-cycling/  \n",
    "https://jakevdp.github.io/blog/2015/07/23/learning-seattles-work-habits-from-bicycle-counts/"
   ]
  },
  {
   "cell_type": "markdown",
   "metadata": {},
   "source": [
    "## Tutorials etc.\n",
    "\n",
    "Getting started with Pandas:  \n",
    "http://efavdb.com/pandas-tips-and-tricks/\n",
    "\n",
    "Analysing Weed Pricing across US:  \n",
    "https://github.com/amitkaps/weed\n",
    "\n",
    "Probability, Paradox, and the Reasonable Person Principle:  \n",
    "http://nbviewer.ipython.org/url/norvig.com/ipython/Probability.ipynb\n",
    "\n",
    "Machine Learning for Hackers:  \n",
    "http://slendermeans.org/category/will-it-python.html\n",
    "\n",
    "CS109 Data Science (video lecture):  \n",
    "http://cs109.org/\n",
    "\n",
    "spurious correlations:  \n",
    "http://www.tylervigen.com/\n",
    "\n",
    "NIST/SEMATECH e-Handbook of Statistical Methods:  \n",
    "http://www.itl.nist.gov/div898/handbook/\n",
    "\n",
    "Implementing a Principal Component Analysis (PCA) in Python step by step:  \n",
    "http://sebastianraschka.com/Articles/2014_pca_step_by_step.html\n",
    "\n",
    "What Educated Citizens Should Know About Statistics and Probability (Jessica Utts, The American Statistician Volume 57, Issue 2, 2003):  \n",
    "http://www.tandfonline.com/doi/abs/10.1198/0003130031630\n",
    "\n",
    "Things in Pandas I Wish I'd Known Earlier:  \n",
    "http://nbviewer.ipython.org/github/rasbt/python_reference/blob/master/tutorials/things_in_pandas.ipynb\n",
    "\n",
    "PCA:  \n",
    "http://nbviewer.ipython.org/github/rasbt/pattern_classification/blob/master/dimensionality_reduction/projection/principal_component_analysis.ipynb\n",
    "\n",
    "Probabilistic Programming & Bayesian Methods for Hackers:  \n",
    "http://camdavidsonpilon.github.io/Probabilistic-Programming-and-Bayesian-Methods-for-Hackers/\n",
    "\n",
    "A Concrete Introduction to Probability (using Python):  \n",
    "http://nbviewer.jupyter.org/url/norvig.com/ipython/Probability.ipynb\n",
    "\n",
    "Probability, Paradox, and the Reasonable Person Principle:  \n",
    "http://nbviewer.jupyter.org/url/norvig.com/ipython/ProbabilityParadox.ipynb\n",
    "\n",
    "Modern Pandas Series: \n",
    "[Modern Pandas](http://tomaugspurger.github.io/modern-1.html),\n",
    "[Method Chaining](http://tomaugspurger.github.io/method-chaining.html),\n",
    "[Indexes](http://tomaugspurger.github.io/modern-3-indexes.html),\n",
    "[Performance](http://tomaugspurger.github.io/modern-4-performance.html),\n",
    "[Tidy Data](http://tomaugspurger.github.io/modern-5-tidy.html),\n",
    "[Visualization](http://tomaugspurger.github.io/modern-6-visualization.html),\n",
    "Larger Data (forthcoming)\n",
    "\n",
    "[Distance Metrics for Fun and Profit](http://www.benfrederickson.com/distance-metrics/),\n",
    "[Finding Similar Music using Matrix Factorization](http://www.benfrederickson.com/matrix-factorization/)\n",
    "\n",
    "[Frequentism and Bayesianism: A Practical Introduction](http://jakevdp.github.io/blog/2014/03/11/frequentism-and-bayesianism-a-practical-intro/),\n",
    "[When Results Differ](http://jakevdp.github.io/blog/2014/06/06/frequentism-and-bayesianism-2-when-results-differ/),\n",
    "[Confidence, Credibility, and why Frequentism and Science do not Mix](http://jakevdp.github.io/blog/2014/06/12/frequentism-and-bayesianism-3-confidence-credibility/),\n",
    "[How to be a Bayesian in Python](http://jakevdp.github.io/blog/2014/06/14/frequentism-and-bayesianism-4-bayesian-in-python/),\n",
    "[Model Selection](http://jakevdp.github.io/blog/2015/08/07/frequentism-and-bayesianism-5-model-selection/)\n",
    "\n",
    "Easier data analysis in Python with pandas (video series):  \n",
    "http://www.dataschool.io/easier-data-analysis-with-pandas/)\n",
    "\n",
    "Think Stats, Think Bayes (free PDF books):\n",
    "http://greenteapress.com/thinkstats2/index.html, http://greenteapress.com/wp/think-bayes/\n",
    "\n",
    "Computational and Inferential Thinking: The Foundations of Data Science  \n",
    "http://www.inferentialthinking.com/\n",
    "\n",
    "Points of Significance  \n",
    "http://www.nature.com/collections/qghhqm/pointsofsignificance\n",
    "\n",
    "https://github.com/KIPAC/StatisticalMethods"
   ]
  },
  {
   "cell_type": "markdown",
   "metadata": {},
   "source": [
    "## Case Studies\n",
    "\n",
    "TODO: Try to analyze (and probably reproduce) some existing studies.\n",
    "\n",
    "Comparison of violins:\n",
    "\n",
    "http://www.pnas.org/content/109/3/760  \n",
    "http://www.pnas.org/content/early/2014/04/03/1323367111  \n",
    "http://phenomena.nationalgeographic.com/2014/04/07/stradivarius-violins-arent-better-than-new-ones-round-two/  \n",
    "http://josephcurtinstudios.com/article/the-indianapolis-experiment/  \n",
    "http://www.violinist.com/blog/laurie/20121/13039/  \n",
    "http://www.npr.org/blogs/deceptivecadence/2012/01/02/144482863/double-blind-violin-test-can-you-pick-the-strad  \n",
    "http://www.artsjournal.com/slippeddisc/2012/01/exclusive-how-i-blind-tested-old-violins-against-new.html  \n",
    "http://www.thestrad.com/latest/editorschoice/from-the-archive-classic-and-modern-violins-compared  \n",
    "http://www.thestrad.com/video/new-vs-old-follow-up-to-the-indianapolis-blind-testing-experiment  \n",
    "http://diepresse.com/home/meinung/marginalien/1587780/Bei-Stradivari-hat-vor-allem-der-Mythos-Klang  \n",
    "http://abcnews.go.com/Technology/wireStory/blind-test-soloists-violins-23227307  \n",
    "http://en.wikipedia.org/wiki/Player_preferences_among_new_and_old_violins"
   ]
  },
  {
   "cell_type": "markdown",
   "metadata": {},
   "source": [
    "## Other Stuff\n",
    "\n",
    "Matlab® routines for analyzing psychophysical data: http://www.palamedestoolbox.org/index.html"
   ]
  },
  {
   "cell_type": "markdown",
   "metadata": {},
   "source": [
    "<p xmlns:dct=\"http://purl.org/dc/terms/\">\n",
    "  <a rel=\"license\"\n",
    "     href=\"http://creativecommons.org/publicdomain/zero/1.0/\">\n",
    "    <img src=\"http://i.creativecommons.org/p/zero/1.0/88x31.png\" style=\"border-style: none;\" alt=\"CC0\" />\n",
    "  </a>\n",
    "  <br />\n",
    "  To the extent possible under law,\n",
    "  <span resource=\"[_:publisher]\" rel=\"dct:publisher\">\n",
    "    <span property=\"dct:title\">Matthias Geier</span></span>\n",
    "  has waived all copyright and related or neighboring rights to\n",
    "  this work.\n",
    "</p>"
   ]
  }
 ],
 "metadata": {
  "kernelspec": {
   "display_name": "Python 3",
   "language": "python",
   "name": "python3"
  },
  "language_info": {
   "codemirror_mode": {
    "name": "ipython",
    "version": 3
   },
   "file_extension": ".py",
   "mimetype": "text/x-python",
   "name": "python",
   "nbconvert_exporter": "python",
   "pygments_lexer": "ipython3",
   "version": "3.5.2+"
  }
 },
 "nbformat": 4,
 "nbformat_minor": 1
}
