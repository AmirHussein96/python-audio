{
 "metadata": {
  "name": "",
  "signature": "sha256:ee1b1925a066c3f6b05c92260fe4b0ddba21eb0c3e945bb1e84cd3943d321950"
 },
 "nbformat": 3,
 "nbformat_minor": 0,
 "worksheets": [
  {
   "cells": [
    {
     "cell_type": "heading",
     "level": 1,
     "metadata": {},
     "source": [
      "Signal Processing"
     ]
    },
    {
     "cell_type": "markdown",
     "metadata": {},
     "source": [
      "[back to main page](../index.ipynb)"
     ]
    },
    {
     "cell_type": "heading",
     "level": 2,
     "metadata": {},
     "source": [
      "Links"
     ]
    },
    {
     "cell_type": "markdown",
     "metadata": {},
     "source": [
      "http://bmcfee.github.io/librosa/"
     ]
    },
    {
     "cell_type": "markdown",
     "metadata": {},
     "source": [
      "<p xmlns:dct=\"http://purl.org/dc/terms/\">\n",
      "  <a rel=\"license\"\n",
      "     href=\"http://creativecommons.org/publicdomain/zero/1.0/\">\n",
      "    <img src=\"http://i.creativecommons.org/p/zero/1.0/88x31.png\" style=\"border-style: none;\" alt=\"CC0\" />\n",
      "  </a>\n",
      "  <br />\n",
      "  To the extent possible under law,\n",
      "  <span resource=\"[_:publisher]\" rel=\"dct:publisher\">\n",
      "    <span property=\"dct:title\">Matthias Geier</span></span>\n",
      "  has waived all copyright and related or neighboring rights to\n",
      "  this work.\n",
      "</p>"
     ]
    }
   ],
   "metadata": {}
  }
 ]
}