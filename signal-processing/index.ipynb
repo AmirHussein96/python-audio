{
 "cells": [
  {
   "cell_type": "markdown",
   "metadata": {
    "deletable": true,
    "editable": true
   },
   "source": [
    "# Signal Processing\n",
    "\n",
    "[back to main page](../index.ipynb)\n",
    "\n",
    "[audiolazy](audiolazy.ipynb)"
   ]
  },
  {
   "cell_type": "markdown",
   "metadata": {
    "deletable": true,
    "editable": true
   },
   "source": [
    "## Links\n",
    "\n",
    "http://scikits.appspot.com/talkbox\n",
    "\n",
    "http://bmcfee.github.io/librosa/\n",
    "\n",
    "http://thomas-cokelaer.info/software/spectrum/html/contents.html\n",
    "\n",
    "http://nipy.org/nitime/index.html\n",
    "\n",
    "https://github.com/MTG/sms-tools\n",
    "\n",
    "http://pythonhosted.org/audiolazy/\n",
    "\n",
    "http://ajaxsoundstudio.com/software/pyo/\n",
    "\n",
    "Bob (signal-processing and machine learning toolbox)  \n",
    "http://idiap.github.io/bob/\n",
    "\n",
    "Speech Signal Processing:  \n",
    "https://github.com/idiap/ssp\n",
    "\n",
    "http://siggigue.github.io/pyfilterbank/, https://github.com/SiggiGue/pyfilterbank\n",
    "\n",
    "https://github.com/fakufaku/AudioTools\n",
    "\n",
    "Signal Processing for Communications [Jupyter notebooks with examples](https://github.com/LCAV/DSPNumex), [free PDF book](http://www.sp4comm.org/download.html), [MOOC](https://www.coursera.org/course/dsp)\n",
    "\n",
    "MIT opencourseware video lectures:\n",
    "[Signals and Systems (Alan V. Oppenheim)](http://ocw.mit.edu/resources/res-6-007-signals-and-systems-spring-2011/),\n",
    "[Digital Signal Processing (Alan V. Oppenheim)](http://ocw.mit.edu/resources/res-6-008-digital-signal-processing-spring-2011/)\n",
    "\n",
    "Soundpipe (C library): http://paulbatchelor.github.io/proj/soundpipe.html, https://github.com/PaulBatchelor/Soundpipe\n",
    "\n",
    "libaudioverse, A (C++) library for 3D and environmental audio:  \n",
    "http://camlorn.github.io/libaudioverse/docs/branches/master/libaudioverse_manual.html  \n",
    "https://github.com/camlorn/libaudioverse  \n",
    "Python bindings: http://camlorn.github.io/libaudioverse/docs/branches/master/python/"
   ]
  },
  {
   "cell_type": "markdown",
   "metadata": {
    "deletable": true,
    "editable": true
   },
   "source": [
    "### Filter Design\n",
    "\n",
    "http://www.dsprelated.com/showarticle/164.php  \n",
    "http://www.dsprelated.com/showarticle/170.php  \n",
    "http://www.dsprelated.com/showarticle/194.php\n",
    "\n",
    "http://www.dsprelated.com/showcode/270.php\n",
    "\n",
    "http://scipy-cookbook.readthedocs.org/items/FIRFilter.html\n",
    "\n",
    "http://scipy-cookbook.readthedocs.org/items/FiltFilt.html"
   ]
  },
  {
   "cell_type": "markdown",
   "metadata": {
    "deletable": true,
    "editable": true
   },
   "source": [
    "### Fixed Point\n",
    "\n",
    "http://www.dsprelated.com/showarticle/580.php"
   ]
  },
  {
   "cell_type": "markdown",
   "metadata": {
    "deletable": true,
    "editable": true
   },
   "source": [
    "### MP3 Encoder\n",
    "\n",
    "http://nbviewer.ipython.org/github/LCAV/MP3Lab/blob/master/mp3python.ipynb"
   ]
  },
  {
   "cell_type": "markdown",
   "metadata": {
    "deletable": true,
    "editable": true
   },
   "source": [
    "### Digital Media\n",
    "\n",
    "http://xiph.org/video/"
   ]
  },
  {
   "cell_type": "markdown",
   "metadata": {
    "deletable": true,
    "editable": true
   },
   "source": [
    "### Time-Frequency Transforms\n",
    "\n",
    "https://en.wikipedia.org/wiki/Constant_Q_transform"
   ]
  },
  {
   "cell_type": "markdown",
   "metadata": {},
   "source": [
    "### Voice Activity Detection (VAD)\n",
    "\n",
    "https://github.com/wiseman/py-webrtcvad"
   ]
  },
  {
   "cell_type": "markdown",
   "metadata": {
    "deletable": true,
    "editable": true
   },
   "source": [
    "<p xmlns:dct=\"http://purl.org/dc/terms/\">\n",
    "  <a rel=\"license\"\n",
    "     href=\"http://creativecommons.org/publicdomain/zero/1.0/\">\n",
    "    <img src=\"http://i.creativecommons.org/p/zero/1.0/88x31.png\" style=\"border-style: none;\" alt=\"CC0\" />\n",
    "  </a>\n",
    "  <br />\n",
    "  To the extent possible under law,\n",
    "  <span resource=\"[_:publisher]\" rel=\"dct:publisher\">\n",
    "    <span property=\"dct:title\">Matthias Geier</span></span>\n",
    "  has waived all copyright and related or neighboring rights to\n",
    "  this work.\n",
    "</p>"
   ]
  }
 ],
 "metadata": {
  "kernelspec": {
   "display_name": "Python 3",
   "language": "python",
   "name": "python3"
  },
  "language_info": {
   "codemirror_mode": {
    "name": "ipython",
    "version": 3
   },
   "file_extension": ".py",
   "mimetype": "text/x-python",
   "name": "python",
   "nbconvert_exporter": "python",
   "pygments_lexer": "ipython3",
   "version": "3.5.2+"
  }
 },
 "nbformat": 4,
 "nbformat_minor": 1
}
