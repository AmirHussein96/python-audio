{
 "cells": [
  {
   "cell_type": "markdown",
   "metadata": {},
   "source": [
    "# DTMF Tones\n",
    "\n",
    "[back to overview page](index.ipynb)"
   ]
  },
  {
   "cell_type": "markdown",
   "metadata": {},
   "source": [
    "## External Links\n",
    "\n",
    "https://pypi.python.org/pypi/dtmf-detector/  \n",
    "https://github.com/nickrobinson/DTMFDetector  \n",
    "http://johnetherton.com/projects/pys60-dtmf-detector/  \n",
    "http://sourceforge.net/p/fbdtmfdetector/code/HEAD/tree/python/  \n",
    "https://github.com/nickrobinson/sipphone-automation/blob/master/src/SipPhoneLibrary/DTMFDetector.py  \n",
    "\n",
    "http://www.ece.uci.edu/~jhahn/python/DTMF.pyc\n",
    "\n",
    "http://www.dialabc.com/sound/generate/\n",
    "\n",
    "https://en.wikipedia.org/wiki/Goertzel_algorithm  \n",
    "https://en.wikipedia.org/wiki/Non-uniform_discrete_Fourier_transform\n",
    "\n",
    "https://github.com/hfeeki/dtmf\n",
    "\n",
    "https://github.com/mpenkov/dtmf-cpp/tree/master/scripts\n",
    "\n",
    "http://aluigi.altervista.org/mytoolz.htm (search for \"DTMF\")\n",
    "\n",
    "https://gist.github.com/soravux/1ce124315bc6d1f3d430\n",
    "\n",
    "http://www.mstarlabs.com/dsp/goertzel/goertzel.html\n",
    "\n",
    "http://www.noah.org/wiki/tones\n",
    "\n",
    "https://github.com/EliasOenal/multimon-ng"
   ]
  },
  {
   "cell_type": "markdown",
   "metadata": {},
   "source": [
    "<p xmlns:dct=\"http://purl.org/dc/terms/\">\n",
    "  <a rel=\"license\"\n",
    "     href=\"http://creativecommons.org/publicdomain/zero/1.0/\">\n",
    "    <img src=\"http://i.creativecommons.org/p/zero/1.0/88x31.png\" style=\"border-style: none;\" alt=\"CC0\" />\n",
    "  </a>\n",
    "  <br />\n",
    "  To the extent possible under law,\n",
    "  <span resource=\"[_:publisher]\" rel=\"dct:publisher\">\n",
    "    <span property=\"dct:title\">Matthias Geier</span></span>\n",
    "  has waived all copyright and related or neighboring rights to\n",
    "  this work.\n",
    "</p>"
   ]
  }
 ],
 "metadata": {
  "kernelspec": {
   "display_name": "Python 3",
   "language": "python",
   "name": "python3"
  },
  "language_info": {
   "codemirror_mode": {
    "name": "ipython",
    "version": 3
   },
   "file_extension": ".py",
   "mimetype": "text/x-python",
   "name": "python",
   "nbconvert_exporter": "python",
   "pygments_lexer": "ipython3",
   "version": "3.5.2+"
  }
 },
 "nbformat": 4,
 "nbformat_minor": 0
}
