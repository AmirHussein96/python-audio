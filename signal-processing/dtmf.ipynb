{
 "cells": [
  {
   "cell_type": "markdown",
   "metadata": {},
   "source": [
    "# DTMF Tones\n",
    "\n",
    "[back to overview page](index.ipynb)"
   ]
  },
  {
   "cell_type": "markdown",
   "metadata": {},
   "source": [
    "## External Links\n",
    "\n",
    "http://sourceforge.net/p/fbdtmfdetector/code/HEAD/tree/python/\n",
    "\n",
    "https://github.com/nickrobinson/DTMFDetector\n",
    "\n",
    "http://www.ece.uci.edu/~jhahn/python/DTMF.pyc\n",
    "\n",
    "http://www.dialabc.com/sound/generate/\n",
    "\n",
    "http://johnetherton.com/projects/pys60-dtmf-detector/\n",
    "\n",
    "https://en.wikipedia.org/wiki/Goertzel_algorithm\n",
    "\n",
    "https://github.com/hfeeki/dtmf\n",
    "\n",
    "https://github.com/mpenkov/dtmf-cpp/tree/master/scripts"
   ]
  },
  {
   "cell_type": "markdown",
   "metadata": {},
   "source": [
    "<p xmlns:dct=\"http://purl.org/dc/terms/\">\n",
    "  <a rel=\"license\"\n",
    "     href=\"http://creativecommons.org/publicdomain/zero/1.0/\">\n",
    "    <img src=\"http://i.creativecommons.org/p/zero/1.0/88x31.png\" style=\"border-style: none;\" alt=\"CC0\" />\n",
    "  </a>\n",
    "  <br />\n",
    "  To the extent possible under law,\n",
    "  <span resource=\"[_:publisher]\" rel=\"dct:publisher\">\n",
    "    <span property=\"dct:title\">Matthias Geier</span></span>\n",
    "  has waived all copyright and related or neighboring rights to\n",
    "  this work.\n",
    "</p>"
   ]
  }
 ],
 "metadata": {
  "kernelspec": {
   "display_name": "Python 3",
   "language": "python",
   "name": "python3"
  },
  "language_info": {
   "codemirror_mode": {
    "name": "ipython",
    "version": 3
   },
   "file_extension": ".py",
   "mimetype": "text/x-python",
   "name": "python",
   "nbconvert_exporter": "python",
   "pygments_lexer": "ipython3",
   "version": "3.4.3+"
  }
 },
 "nbformat": 4,
 "nbformat_minor": 0
}
