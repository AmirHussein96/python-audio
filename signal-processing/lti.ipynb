{
 "cells": [
  {
   "cell_type": "markdown",
   "metadata": {},
   "source": [
    "from http://www.shocksolution.com/2010/12/linear-system-simulation-with-python/"
   ]
  },
  {
   "cell_type": "code",
   "execution_count": null,
   "metadata": {},
   "outputs": [],
   "source": [
    "%pylab inline"
   ]
  },
  {
   "cell_type": "code",
   "execution_count": null,
   "metadata": {},
   "outputs": [],
   "source": [
    "from scipy import signal\n",
    "\n",
    "tau = 5.0 * 60  # 5 minutes\n",
    "h_times = arange(0.0, 10 * tau, 0.1)\n",
    "\n",
    "sys = signal.lti(1, [1, 1.0 / tau])\n",
    "\n",
    "step_response = sys.step(T=h_times)[1]\n",
    "plot(h_times, step_response / step_response.max())  # normalized\n",
    "axhline(0.63, color='red')\n",
    "axvline(tau, color='red')\n",
    "xlabel('t')\n",
    "title('Step response')\n",
    "show()"
   ]
  },
  {
   "cell_type": "markdown",
   "metadata": {},
   "source": [
    "`scipy.signal.iirdesign()` -> http://docs.scipy.org/doc/scipy/reference/generated/scipy.signal.iirdesign.html#scipy.signal.iirdesign\n",
    "\n",
    "`scipy.signal.lfilter()` -> http://docs.scipy.org/doc/scipy/reference/generated/scipy.signal.lfilter.html#scipy.signal.lfilter"
   ]
  }
 ],
 "metadata": {},
 "nbformat": 4,
 "nbformat_minor": 2
}
