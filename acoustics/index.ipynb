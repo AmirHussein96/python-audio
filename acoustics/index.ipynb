{
 "cells": [
  {
   "cell_type": "markdown",
   "metadata": {},
   "source": [
    "# Acoustics\n",
    "\n",
    "[back to main page](../index.ipynb)"
   ]
  },
  {
   "cell_type": "markdown",
   "metadata": {},
   "source": [
    "## External Links\n",
    "\n",
    "`acoustics` module for Python: [Github](https://github.com/python-acoustics/python-acoustics), [docs](http://python-acoustics.github.io/python-acoustics/)\n",
    "\n",
    "`pyroomacoustics` module for Python: [Github](https://github.com/LCAV/pyroomacoustics), [docs](http://pyroomacoustics.readthedocs.org/)\n",
    "\n",
    "`auraliser` module for Python: [Github](https://github.com/FRidh/auraliser), [docs](http://fridh.github.io/auraliser)\n",
    "\n",
    "`ism` (image source method) module for Python: [Github](https://github.com/FRidh/ism), [docs](http://fridh.github.io/ism/)\n",
    "\n",
    "Waves, Acoustics and Vibration: http://mysite.du.edu/~jcalvert/waves/wavhom.htm\n",
    "\n",
    "Room modes, FEM simulation: http://blog.kaistale.com/?p=969\n",
    "\n",
    "Room modes, WebGL: http://blog.kaistale.com/?p=889\n",
    "\n",
    "Room modes calculator: http://www.trikustik.at/knowledge/room-modes-calculator.html\n",
    "\n",
    "https://github.com/LCAV/TimeDomainAcousticRakeReceiver/tree/master/pyroomacoustics\n",
    "\n",
    "Room equalization: http://hccc.org.uk/pink.html\n",
    "\n",
    "https://en.wikibooks.org/wiki/Acoustics"
   ]
  },
  {
   "cell_type": "markdown",
   "metadata": {},
   "source": [
    "<p xmlns:dct=\"http://purl.org/dc/terms/\">\n",
    "  <a rel=\"license\"\n",
    "     href=\"http://creativecommons.org/publicdomain/zero/1.0/\">\n",
    "    <img src=\"http://i.creativecommons.org/p/zero/1.0/88x31.png\" style=\"border-style: none;\" alt=\"CC0\" />\n",
    "  </a>\n",
    "  <br />\n",
    "  To the extent possible under law,\n",
    "  <span resource=\"[_:publisher]\" rel=\"dct:publisher\">\n",
    "    <span property=\"dct:title\">Matthias Geier</span></span>\n",
    "  has waived all copyright and related or neighboring rights to\n",
    "  this work.\n",
    "</p>"
   ]
  }
 ],
 "metadata": {
  "kernelspec": {
   "display_name": "Python 3",
   "language": "python",
   "name": "python3"
  },
  "language_info": {
   "codemirror_mode": {
    "name": "ipython",
    "version": 3
   },
   "file_extension": ".py",
   "mimetype": "text/x-python",
   "name": "python",
   "nbconvert_exporter": "python",
   "pygments_lexer": "ipython3",
   "version": "3.5.2+"
  }
 },
 "nbformat": 4,
 "nbformat_minor": 0
}
