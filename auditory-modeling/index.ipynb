{
 "metadata": {
  "name": "",
  "signature": "sha256:32b4fc947092f9169828dd986475dd3f3397d16bdd9149cd879414520d2a80ef"
 },
 "nbformat": 3,
 "nbformat_minor": 0,
 "worksheets": [
  {
   "cells": [
    {
     "cell_type": "heading",
     "level": 1,
     "metadata": {},
     "source": [
      "Auditory Modeling"
     ]
    },
    {
     "cell_type": "markdown",
     "metadata": {},
     "source": [
      "[back to main page](../index.ipynb)"
     ]
    },
    {
     "cell_type": "markdown",
     "metadata": {},
     "source": [
      "This is not even work-in-progress, just some links ...\n",
      "\n",
      "Until now, I only found one Python library for auditory modeling, but I guess\n",
      "that's enough."
     ]
    },
    {
     "cell_type": "markdown",
     "metadata": {},
     "source": [
      "[Brian hears](http://www.briansimulator.org/docs/hears.html)"
     ]
    },
    {
     "cell_type": "markdown",
     "metadata": {},
     "source": [
      "<p xmlns:dct=\"http://purl.org/dc/terms/\">\n",
      "  <a rel=\"license\"\n",
      "     href=\"http://creativecommons.org/publicdomain/zero/1.0/\">\n",
      "    <img src=\"http://i.creativecommons.org/p/zero/1.0/88x31.png\" style=\"border-style: none;\" alt=\"CC0\" />\n",
      "  </a>\n",
      "  <br />\n",
      "  To the extent possible under law,\n",
      "  <span resource=\"[_:publisher]\" rel=\"dct:publisher\">\n",
      "    <span property=\"dct:title\">Matthias Geier</span></span>\n",
      "  has waived all copyright and related or neighboring rights to\n",
      "  this work.\n",
      "</p>"
     ]
    }
   ],
   "metadata": {}
  }
 ]
}