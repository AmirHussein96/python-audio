{
 "metadata": {
  "name": "",
  "signature": "sha256:ecb3298fe2c38328f48c252b862690e58402ff5a351ee44f8d7edf7b59838b37"
 },
 "nbformat": 3,
 "nbformat_minor": 0,
 "worksheets": [
  {
   "cells": [
    {
     "cell_type": "heading",
     "level": 1,
     "metadata": {},
     "source": [
      "Auditory Modeling"
     ]
    },
    {
     "cell_type": "markdown",
     "metadata": {},
     "source": [
      "[back to main page](../index.ipynb)"
     ]
    },
    {
     "cell_type": "markdown",
     "metadata": {},
     "source": [
      "This is not even work-in-progress, just some links ...\n",
      "\n",
      "Until now, I only found one Python library for auditory modeling, but I guess\n",
      "that's enough."
     ]
    },
    {
     "cell_type": "markdown",
     "metadata": {},
     "source": [
      "[Brian hears](http://www.briansimulator.org/docs/hears.html)"
     ]
    }
   ],
   "metadata": {}
  }
 ]
}