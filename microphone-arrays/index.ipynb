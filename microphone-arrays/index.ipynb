{
 "cells": [
  {
   "cell_type": "markdown",
   "metadata": {},
   "source": [
    "# Microphone Arrays\n",
    "\n",
    "[back to main page](../index.ipynb)\n",
    "\n",
    "http://www.acoular.org/, framework for acoustic beamforming  \n",
    "https://github.com/acoular/acoular  \n",
    "http://dx.doi.org/10.1016/j.apacoust.2016.09.015\n",
    "\n",
    "https://github.com/spatialaudio/sfa-numpy, Sound Field Analysis Toolbox for NumPy/Python\n",
    "\n",
    "https://qulab.github.io/sound_field_analysis-py/, Sound Field Analysis toolbox  \n",
    "https://github.com/QULab/sound_field_analysis-py"
   ]
  },
  {
   "cell_type": "markdown",
   "metadata": {},
   "source": [
    "## Stuff for Matlab\n",
    "\n",
    "http://research.spa.aalto.fi/projects/spharrayproc-lib/spharrayproc.html  \n",
    "https://github.com/polarch/Spherical-Array-Processing\n",
    "\n",
    "*SOFiA sound field analysis* toolbox for MATLAB:  \n",
    "http://audiogroup.web.th-koeln.de/SOFiA_wiki/WELCOME.html"
   ]
  },
  {
   "cell_type": "markdown",
   "metadata": {},
   "source": [
    "<p xmlns:dct=\"http://purl.org/dc/terms/\">\n",
    "  <a rel=\"license\"\n",
    "     href=\"http://creativecommons.org/publicdomain/zero/1.0/\">\n",
    "    <img src=\"http://i.creativecommons.org/p/zero/1.0/88x31.png\" style=\"border-style: none;\" alt=\"CC0\" />\n",
    "  </a>\n",
    "  <br />\n",
    "  To the extent possible under law,\n",
    "  <span rel=\"dct:publisher\" resource=\"[_:publisher]\">the person who associated CC0</span>\n",
    "  with this work has waived all copyright and related or neighboring\n",
    "  rights to this work.\n",
    "</p>"
   ]
  }
 ],
 "metadata": {
  "kernelspec": {
   "display_name": "Python 3",
   "language": "python",
   "name": "python3"
  },
  "language_info": {
   "codemirror_mode": {
    "name": "ipython",
    "version": 3
   },
   "file_extension": ".py",
   "mimetype": "text/x-python",
   "name": "python",
   "nbconvert_exporter": "python",
   "pygments_lexer": "ipython3",
   "version": "3.6.3"
  }
 },
 "nbformat": 4,
 "nbformat_minor": 1
}
