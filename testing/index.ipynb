{
 "cells": [
  {
   "cell_type": "markdown",
   "metadata": {},
   "source": [
    "# Testing Python Programs\n",
    "\n",
    "[back to main page](../index.ipynb)\n",
    "\n",
    "Due to the dynamic character of the Python language, many potential programming\n",
    "errors are only detected at runtime.\n",
    "To find some of them at an earlier stage, you should use *unit tests*,\n",
    "*syntax checkers* and probably more ...\n",
    "\n",
    "https://wiki.python.org/moin/PythonTestingToolsTaxonomy"
   ]
  },
  {
   "cell_type": "markdown",
   "metadata": {},
   "source": [
    "## Built-In Unit Testing\n",
    "\n",
    "[unittest](https://docs.python.org/3.4/library/unittest.html) (standard library)"
   ]
  },
  {
   "cell_type": "markdown",
   "metadata": {},
   "source": [
    "## Testing Frameworks\n",
    "\n",
    "[nose](https://nose.readthedocs.org/en/latest/)\n",
    "\n",
    "[py.test](http://pytest.org/latest/)\n",
    "\n",
    "[tox](http://testrun.org/tox/latest/)"
   ]
  },
  {
   "cell_type": "markdown",
   "metadata": {},
   "source": [
    "## Code Coverage\n",
    "\n",
    "https://pypi.python.org/pypi/coverage\n",
    "\n",
    "But don't try to blindly increase coverage, read this first:\n",
    "[How to Misuse Code Coverage](http://www.exampler.com/testing-com/writings/coverage.pdf)"
   ]
  },
  {
   "cell_type": "markdown",
   "metadata": {},
   "source": [
    "## Static Code Analysis\n",
    "\n",
    "[Syntax Checkers](syntax-checkers.ipynb)"
   ]
  },
  {
   "cell_type": "markdown",
   "metadata": {},
   "source": [
    "## External Links\n",
    "\n",
    "https://github.com/rasbt/python_reference/blob/master/tutorials/unit_testing.md"
   ]
  },
  {
   "cell_type": "markdown",
   "metadata": {},
   "source": [
    "<p xmlns:dct=\"http://purl.org/dc/terms/\">\n",
    "  <a rel=\"license\"\n",
    "     href=\"http://creativecommons.org/publicdomain/zero/1.0/\">\n",
    "    <img src=\"http://i.creativecommons.org/p/zero/1.0/88x31.png\" style=\"border-style: none;\" alt=\"CC0\" />\n",
    "  </a>\n",
    "  <br />\n",
    "  To the extent possible under law,\n",
    "  <span resource=\"[_:publisher]\" rel=\"dct:publisher\">\n",
    "    <span property=\"dct:title\">Matthias Geier</span></span>\n",
    "  has waived all copyright and related or neighboring rights to\n",
    "  this work.\n",
    "</p>"
   ]
  }
 ],
 "metadata": {
  "kernelspec": {
   "display_name": "Python 3",
   "language": "python",
   "name": "python3"
  },
  "language_info": {
   "codemirror_mode": {
    "name": "ipython",
    "version": 3
   },
   "file_extension": ".py",
   "mimetype": "text/x-python",
   "name": "python",
   "nbconvert_exporter": "python",
   "pygments_lexer": "ipython3",
   "version": "3.4.3+"
  }
 },
 "nbformat": 4,
 "nbformat_minor": 0
}
