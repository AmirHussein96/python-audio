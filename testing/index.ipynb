{
 "metadata": {
  "name": "",
  "signature": "sha256:3553228a50ef0719646da79c16e2dc4fc47f5a13fc3c80a8caed89054fdd002a"
 },
 "nbformat": 3,
 "nbformat_minor": 0,
 "worksheets": [
  {
   "cells": [
    {
     "cell_type": "heading",
     "level": 1,
     "metadata": {},
     "source": [
      "Testing Python Programs"
     ]
    },
    {
     "cell_type": "markdown",
     "metadata": {},
     "source": [
      "[back to main page](../index.ipynb)"
     ]
    },
    {
     "cell_type": "markdown",
     "metadata": {},
     "source": [
      "Due to the dynamic character of the Python language, many potential programming\n",
      "errors are only detected at runtime.\n",
      "To find some of them at an earlier stage, you should use *unit tests*,\n",
      "*syntax checkers* and probably more ...\n",
      "\n",
      "https://wiki.python.org/moin/PythonTestingToolsTaxonomy"
     ]
    },
    {
     "cell_type": "heading",
     "level": 2,
     "metadata": {},
     "source": [
      "Built-In Unit Testing"
     ]
    },
    {
     "cell_type": "markdown",
     "metadata": {},
     "source": [
      "[unittest](https://docs.python.org/3.4/library/unittest.html) (standard library)"
     ]
    },
    {
     "cell_type": "heading",
     "level": 2,
     "metadata": {},
     "source": [
      "Testing Frameworks"
     ]
    },
    {
     "cell_type": "markdown",
     "metadata": {},
     "source": [
      "[nose](https://nose.readthedocs.org/en/latest/)\n",
      "\n",
      "[py.test](http://pytest.org/latest/)\n",
      "\n",
      "[tox](http://testrun.org/tox/latest/)"
     ]
    },
    {
     "cell_type": "heading",
     "level": 2,
     "metadata": {},
     "source": [
      "Code Coverage"
     ]
    },
    {
     "cell_type": "markdown",
     "metadata": {},
     "source": [
      "https://pypi.python.org/pypi/coverage\n",
      "\n",
      "But don't try to blindly increase coverage, read this first:\n",
      "[How to Misuse Code Coverage](http://www.exampler.com/testing-com/writings/coverage.pdf)"
     ]
    },
    {
     "cell_type": "heading",
     "level": 2,
     "metadata": {},
     "source": [
      "Static Code Analysis"
     ]
    },
    {
     "cell_type": "markdown",
     "metadata": {},
     "source": [
      "[Syntax Checkers](syntax-checkers.ipynb)"
     ]
    }
   ],
   "metadata": {}
  }
 ]
}