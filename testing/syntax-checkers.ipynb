{
 "cells": [
  {
   "cell_type": "markdown",
   "metadata": {},
   "source": [
    "# Syntax Checkers"
   ]
  },
  {
   "cell_type": "markdown",
   "metadata": {},
   "source": [
    "[back to overview page](index.ipynb)"
   ]
  },
  {
   "cell_type": "markdown",
   "metadata": {},
   "source": [
    "There are several tools out there, this is just a random selection:"
   ]
  },
  {
   "cell_type": "markdown",
   "metadata": {},
   "source": [
    "## pylint"
   ]
  },
  {
   "cell_type": "markdown",
   "metadata": {},
   "source": [
    "Website: http://www.pylint.org/\n",
    "\n",
    "Docs: http://docs.pylint.org/\n",
    "\n",
    "Tutorial: http://docs.pylint.org/tutorial.html\n",
    "\n",
    "All message codes: http://pylint-messages.wikidot.com/all-codes\n",
    "\n",
    "Google coding style: http://google-styleguide.googlecode.com/svn/trunk/pyguide.html?showone=Lint#Lint"
   ]
  },
  {
   "cell_type": "markdown",
   "metadata": {},
   "source": [
    "To show how it works, let's check the file [bad_syntax.py](files/bad_syntax.py):"
   ]
  },
  {
   "cell_type": "code",
   "execution_count": null,
   "metadata": {},
   "outputs": [],
   "source": [
    "!pylint --reports=no bad_syntax.py"
   ]
  },
  {
   "cell_type": "markdown",
   "metadata": {},
   "source": [
    "TODO: on Debian, enable Python3 support"
   ]
  },
  {
   "cell_type": "markdown",
   "metadata": {},
   "source": [
    "If a file named `pylintrc` is available in the current directory, it is used a configuration file.\n",
    "To create a default configuration file, use:\n",
    "\n",
    "```bash\n",
    "pylint --generate-rcfile > pylintrc\n",
    "```"
   ]
  },
  {
   "cell_type": "markdown",
   "metadata": {},
   "source": [
    "TODO: disabling selected messages"
   ]
  },
  {
   "cell_type": "markdown",
   "metadata": {},
   "source": [
    "## pep8"
   ]
  },
  {
   "cell_type": "markdown",
   "metadata": {},
   "source": [
    "http://pypi.python.org/pypi/pep8\n",
    "\n",
    "Checks for style conventions specified in [PEP 8](http://www.python.org/dev/peps/pep-0008/).\n",
    "\n",
    "`pep8` shows a few things that `pylint` doesn't (and the other way round).\n",
    "\n",
    "Again, let's look at the file [bad_syntax.py](files/bad_syntax.py):"
   ]
  },
  {
   "cell_type": "code",
   "execution_count": null,
   "metadata": {},
   "outputs": [],
   "source": [
    "!pep8 --repeat --show-source --show-pep8 bad_syntax.py"
   ]
  },
  {
   "cell_type": "markdown",
   "metadata": {},
   "source": [
    "TODO: disabling selected messages"
   ]
  },
  {
   "cell_type": "markdown",
   "metadata": {},
   "source": [
    "# Text Editor Support"
   ]
  },
  {
   "cell_type": "markdown",
   "metadata": {},
   "source": [
    "Many text editors have plugins to automatically do syntax checks in the background.\n",
    "\n",
    "Here a few links for Vim-users:\n",
    "\n",
    "https://github.com/klen/python-mode\n",
    "\n",
    "https://github.com/scrooloose/syntastic\n",
    "\n",
    "http://www.vim.org/scripts/script.php?script_id=891"
   ]
  },
  {
   "cell_type": "markdown",
   "metadata": {},
   "source": [
    "<p xmlns:dct=\"http://purl.org/dc/terms/\">\n",
    "  <a rel=\"license\"\n",
    "     href=\"http://creativecommons.org/publicdomain/zero/1.0/\">\n",
    "    <img src=\"http://i.creativecommons.org/p/zero/1.0/88x31.png\" style=\"border-style: none;\" alt=\"CC0\" />\n",
    "  </a>\n",
    "  <br />\n",
    "  To the extent possible under law,\n",
    "  <span resource=\"[_:publisher]\" rel=\"dct:publisher\">\n",
    "    <span property=\"dct:title\">Matthias Geier</span></span>\n",
    "  has waived all copyright and related or neighboring rights to\n",
    "  this work.\n",
    "</p>"
   ]
  }
 ],
 "metadata": {},
 "nbformat": 4,
 "nbformat_minor": 2
}
