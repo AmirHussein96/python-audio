{
 "cells": [
  {
   "cell_type": "markdown",
   "metadata": {},
   "source": [
    "# Using Ti*k*Z inside IPython"
   ]
  },
  {
   "cell_type": "code",
   "execution_count": null,
   "metadata": {},
   "outputs": [],
   "source": [
    "%install_ext http://www.ipp.mpg.de/~mkraus/python/tikzmagic.py"
   ]
  },
  {
   "cell_type": "code",
   "execution_count": null,
   "metadata": {},
   "outputs": [],
   "source": [
    "%load_ext tikzmagic"
   ]
  },
  {
   "cell_type": "code",
   "execution_count": null,
   "metadata": {},
   "outputs": [],
   "source": [
    "%tikz \\draw (0,0) rectangle (1,1);"
   ]
  },
  {
   "cell_type": "code",
   "execution_count": null,
   "metadata": {},
   "outputs": [],
   "source": [
    "%%tikz --scale 2 --size 300,300 -f jpg\n",
    "\\draw (0,0) rectangle (1,1);\n",
    "\\filldraw (0.5,0.5) circle (.1);"
   ]
  },
  {
   "cell_type": "code",
   "execution_count": null,
   "metadata": {},
   "outputs": [],
   "source": [
    "%%tikz --scale 2 --size 300,300 -f svg\n",
    "\\draw (0,0) rectangle (1,1);\n",
    "\\filldraw (0.5,0.5) circle (.1);"
   ]
  },
  {
   "cell_type": "code",
   "execution_count": null,
   "metadata": {},
   "outputs": [],
   "source": [
    "%%tikz -s 400,400 -sc 1.2 -f png\n",
    "\\draw [style=help lines, step=2]\t\t\t\t(-1,-1)\tgrid\t\t(+7,+7);\n",
    "\\draw [line width=0.5mm, fill=blue!40!white]\t(+2,+2)\trectangle\t(+4,+4);\n",
    " \n",
    "\\draw [blue!60!white] (  2,  2) node[anchor=north east] {$(i  ,j  )$};\n",
    "\\draw [blue!60!white] (  4,  2) node[anchor=north west] {$(i+1,j  )$};\n",
    "\\draw [blue!60!white] (  4,  4) node[anchor=south west] {$(i+1,j+1)$};\n",
    "\\draw [blue!60!white] (  2,  4) node[anchor=south east] {$(i  ,j+1)$};\n",
    "\n",
    "\\filldraw [color=gray]\t(0,0) circle (.1);\n",
    "\\filldraw [color=gray]\t(0,2) circle (.1);\n",
    "\\filldraw [color=gray]\t(0,4) circle (.1);\n",
    "\\filldraw [color=gray]\t(0,6) circle (.1);\n",
    "\\filldraw [color=gray]\t(2,0) circle (.1);\n",
    "\\filldraw [color=black]\t(2,2) circle (.1);\n",
    "\\filldraw [color=black]\t(2,4) circle (.1);\n",
    "\\filldraw [color=gray]\t(2,6) circle (.1);\n",
    "\\filldraw [color=gray]\t(4,0) circle (.1);\n",
    "\\filldraw [color=black]\t(4,2) circle (.1);\n",
    "\\filldraw [color=black]\t(4,4) circle (.1);\n",
    "\\filldraw [color=gray]\t(4,6) circle (.1);\n",
    "\\filldraw [color=gray]\t(6,0) circle (.1);\n",
    "\\filldraw [color=gray]\t(6,2) circle (.1);\n",
    "\\filldraw [color=gray]\t(6,4) circle (.1);\n",
    "\\filldraw [color=gray]\t(6,6) circle (.1);\n"
   ]
  },
  {
   "cell_type": "code",
   "execution_count": null,
   "metadata": {},
   "outputs": [],
   "source": []
  }
 ],
 "metadata": {},
 "nbformat": 4,
 "nbformat_minor": 2
}
