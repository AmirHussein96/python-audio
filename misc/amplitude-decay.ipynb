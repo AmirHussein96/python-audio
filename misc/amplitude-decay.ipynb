{
 "cells": [
  {
   "cell_type": "markdown",
   "metadata": {},
   "source": [
    "# Amplitude Decay Curves\n",
    "\n",
    "[back to main page](../index.ipynb)\n",
    "\n",
    "Just a few plots to show the amplitude decay curves from [WebAudio](https://www.w3.org/TR/webaudio/), see [DistanceModelType](https://www.w3.org/TR/webaudio/#idl-def-DistanceModelType).\n",
    "\n",
    "$d$ .. distance between source and listener\n",
    "\n",
    "$d_\\text{ref}$ .. `refDistance`\n",
    "\n",
    "$d_\\text{max}$ .. `maxDistance`\n",
    "\n",
    "$f$ .. `rolloffFactor`"
   ]
  },
  {
   "cell_type": "code",
   "execution_count": null,
   "metadata": {},
   "outputs": [],
   "source": [
    "%matplotlib inline\n",
    "import matplotlib.pyplot as plt\n",
    "import numpy as np\n",
    "\n",
    "plt.rcParams['figure.figsize'] = 12, 4  # inch\n",
    "plt.rcParams['axes.grid'] = True"
   ]
  },
  {
   "cell_type": "code",
   "execution_count": null,
   "metadata": {},
   "outputs": [],
   "source": [
    "d = np.linspace(0, 40, num=200)"
   ]
  },
  {
   "cell_type": "code",
   "execution_count": null,
   "metadata": {},
   "outputs": [],
   "source": [
    "def plot_decay(data):\n",
    "    plt.plot(d, data)\n",
    "    plt.ylim(-0.1, 1.1)"
   ]
  },
  {
   "cell_type": "markdown",
   "metadata": {},
   "source": [
    "## `linear`\n",
    "\n",
    "$d$ is clamped to the interval $[dref, dmax]$."
   ]
  },
  {
   "cell_type": "code",
   "execution_count": null,
   "metadata": {},
   "outputs": [],
   "source": [
    "def linear(d_ref, d_max, f):\n",
    "    return 1 - f * (np.maximum(np.minimum(d, d_max), d_ref) - d_ref) / (d_max - d_ref)"
   ]
  },
  {
   "cell_type": "code",
   "execution_count": null,
   "metadata": {},
   "outputs": [],
   "source": [
    "plot_decay(linear(2, 5, 1))\n",
    "plot_decay(linear(2, 7, 1))\n",
    "plot_decay(linear(2, 9, 1))"
   ]
  },
  {
   "cell_type": "code",
   "execution_count": null,
   "metadata": {},
   "outputs": [],
   "source": [
    "plot_decay(linear(1, 7, 1))\n",
    "plot_decay(linear(2, 7, 1))\n",
    "plot_decay(linear(3, 7, 1))"
   ]
  },
  {
   "cell_type": "code",
   "execution_count": null,
   "metadata": {},
   "outputs": [],
   "source": [
    "plot_decay(linear(2, 7, 1))\n",
    "plot_decay(linear(2, 7, 0.5))\n",
    "plot_decay(linear(2, 7, 0.25))\n",
    "plot_decay(linear(2, 7, 0))"
   ]
  },
  {
   "cell_type": "markdown",
   "metadata": {},
   "source": [
    "## inverse\n",
    "\n",
    "$d$ is clamped to the interval $[d_\\text{ref}, \\infty)$."
   ]
  },
  {
   "cell_type": "code",
   "execution_count": null,
   "metadata": {},
   "outputs": [],
   "source": [
    "def inverse(d_ref, f):\n",
    "    return d_ref / (d_ref + f * (np.maximum(d, d_ref) - d_ref))"
   ]
  },
  {
   "cell_type": "code",
   "execution_count": null,
   "metadata": {},
   "outputs": [],
   "source": [
    "plot_decay(inverse(1, 1))\n",
    "plot_decay(inverse(5, 1))\n",
    "plot_decay(inverse(10, 1))"
   ]
  },
  {
   "cell_type": "code",
   "execution_count": null,
   "metadata": {},
   "outputs": [],
   "source": [
    "plot_decay(inverse(5, 1))\n",
    "plot_decay(inverse(5, 0.5))\n",
    "plot_decay(inverse(5, 0.25))\n",
    "plot_decay(inverse(5, 0))"
   ]
  },
  {
   "cell_type": "markdown",
   "metadata": {},
   "source": [
    "## `exponential`\n",
    "\n",
    "$d$ is clamped to the interval $[d_\\text{ref}, \\infty)$."
   ]
  },
  {
   "cell_type": "code",
   "execution_count": null,
   "metadata": {},
   "outputs": [],
   "source": [
    "def exponential(d_ref, f):\n",
    "    return (np.maximum(d, d_ref) / d_ref) ** -f"
   ]
  },
  {
   "cell_type": "code",
   "execution_count": null,
   "metadata": {},
   "outputs": [],
   "source": [
    "plot_decay(exponential(1, 1))\n",
    "plot_decay(exponential(5, 1))\n",
    "plot_decay(exponential(10, 1))"
   ]
  },
  {
   "cell_type": "code",
   "execution_count": null,
   "metadata": {},
   "outputs": [],
   "source": [
    "plot_decay(exponential(5, 1))\n",
    "plot_decay(exponential(5, 0.5))\n",
    "plot_decay(exponential(5, 0.25))\n",
    "plot_decay(exponential(5, 0))"
   ]
  },
  {
   "cell_type": "markdown",
   "metadata": {},
   "source": [
    "## Comparison of `inverse` and `exponential`"
   ]
  },
  {
   "cell_type": "code",
   "execution_count": null,
   "metadata": {},
   "outputs": [],
   "source": [
    "plot_decay(inverse(1, 0.5))\n",
    "plot_decay(inverse(5, 0.5))\n",
    "plot_decay(inverse(10, 0.5))\n",
    "\n",
    "plot_decay(exponential(1, 0.5))\n",
    "plot_decay(exponential(5, 0.5))\n",
    "plot_decay(exponential(10, 0.5))"
   ]
  },
  {
   "cell_type": "code",
   "execution_count": null,
   "metadata": {},
   "outputs": [],
   "source": [
    "plot_decay(inverse(1, 0.25))\n",
    "plot_decay(inverse(5, 0.25))\n",
    "plot_decay(inverse(10, 0.25))\n",
    "\n",
    "plot_decay(exponential(1, 0.25))\n",
    "plot_decay(exponential(5, 0.25))\n",
    "plot_decay(exponential(10, 0.25))"
   ]
  },
  {
   "cell_type": "code",
   "execution_count": null,
   "metadata": {},
   "outputs": [],
   "source": [
    "plot_decay(inverse(5, 0.5))\n",
    "plot_decay(exponential(5, 0.65))"
   ]
  },
  {
   "cell_type": "markdown",
   "metadata": {},
   "source": [
    "<p xmlns:dct=\"http://purl.org/dc/terms/\">\n",
    "  <a rel=\"license\"\n",
    "     href=\"http://creativecommons.org/publicdomain/zero/1.0/\">\n",
    "    <img src=\"http://i.creativecommons.org/p/zero/1.0/88x31.png\" style=\"border-style: none;\" alt=\"CC0\" />\n",
    "  </a>\n",
    "  <br />\n",
    "  To the extent possible under law,\n",
    "  <span rel=\"dct:publisher\" resource=\"[_:publisher]\">the person who associated CC0</span>\n",
    "  with this work has waived all copyright and related or neighboring\n",
    "  rights to this work.\n",
    "</p>"
   ]
  }
 ],
 "metadata": {
  "kernelspec": {
   "display_name": "Python 3",
   "language": "python",
   "name": "python3"
  },
  "language_info": {
   "codemirror_mode": {
    "name": "ipython",
    "version": 3
   },
   "file_extension": ".py",
   "mimetype": "text/x-python",
   "name": "python",
   "nbconvert_exporter": "python",
   "pygments_lexer": "ipython3",
   "version": "3.5.1+"
  }
 },
 "nbformat": 4,
 "nbformat_minor": 0
}
