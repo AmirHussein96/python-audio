{
 "cells": [
  {
   "cell_type": "markdown",
   "metadata": {
    "deletable": true,
    "editable": true
   },
   "source": [
    "# Floating-Point Numbers\n",
    "\n",
    "[back to main page](../index.ipynb)\n",
    "\n",
    "TODO: binary representation of floating-point numbers, errors in different orders of magnitude, ...\n",
    "\n",
    "What Every Computer Scientist Should Know About Floating-Point Arithmetic: http://docs.oracle.com/cd/E19957-01/806-3568/ncg_goldberg.html\n",
    "\n",
    "http://blog.reverberate.org/2014/09/what-every-computer-programmer-should.html\n",
    "\n",
    "http://blog.reverberate.org/2016/02/06/floating-point-demystified-part2.html"
   ]
  },
  {
   "cell_type": "markdown",
   "metadata": {
    "deletable": true,
    "editable": true
   },
   "source": [
    "## Double Precision vs. Single Precision\n",
    "\n",
    "http://www.katjaas.nl/doubleprecision/doubleprecision.html"
   ]
  },
  {
   "cell_type": "markdown",
   "metadata": {
    "deletable": true,
    "editable": true
   },
   "source": [
    "## Denormal Numbers\n",
    "\n",
    "https://en.wikipedia.org/wiki/Denormal_number\n",
    "\n",
    "http://ldesoras.free.fr/doc/articles/denormal-en.pdf\n",
    "\n",
    "https://github.com/rmcgibbo/ftz\n",
    "\n",
    "http://en.cppreference.com/w/cpp/types/numeric_limits/denorm_min\n",
    "\n",
    "Puredata: `PD_BIGORSMALL()` in [`src/m_pd.h`](https://sourceforge.net/p/pure-data/pure-data/ci/master/tree/src/m_pd.h)"
   ]
  },
  {
   "cell_type": "markdown",
   "metadata": {
    "deletable": true,
    "editable": true
   },
   "source": [
    "<p xmlns:dct=\"http://purl.org/dc/terms/\">\n",
    "  <a rel=\"license\"\n",
    "     href=\"http://creativecommons.org/publicdomain/zero/1.0/\">\n",
    "    <img src=\"http://i.creativecommons.org/p/zero/1.0/88x31.png\" style=\"border-style: none;\" alt=\"CC0\" />\n",
    "  </a>\n",
    "  <br />\n",
    "  To the extent possible under law,\n",
    "  <span rel=\"dct:publisher\" resource=\"[_:publisher]\">the person who associated CC0</span>\n",
    "  with this work has waived all copyright and related or neighboring\n",
    "  rights to this work.\n",
    "</p>"
   ]
  }
 ],
 "metadata": {
  "kernelspec": {
   "display_name": "Python 3",
   "language": "python",
   "name": "python3"
  },
  "language_info": {
   "codemirror_mode": {
    "name": "ipython",
    "version": 3
   },
   "file_extension": ".py",
   "mimetype": "text/x-python",
   "name": "python",
   "nbconvert_exporter": "python",
   "pygments_lexer": "ipython3",
   "version": "3.5.2+"
  }
 },
 "nbformat": 4,
 "nbformat_minor": 1
}
