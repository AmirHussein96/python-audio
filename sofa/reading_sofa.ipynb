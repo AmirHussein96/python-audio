{
 "cells": [
  {
   "cell_type": "markdown",
   "metadata": {},
   "source": [
    "# Reading SOFA Files With Python\n",
    "\n",
    "SOFA: http://www.sofaconventions.org/\n",
    "\n",
    "Example file from https://depositonce.tu-berlin.de/handle/11303/245.2, also available at http://sofacoustics.org/data/database/tuburo/.\n",
    "\n",
    "This is only about *reading* files, *creating* and *writing* to SOFA files is beyond the scope of this page."
   ]
  },
  {
   "cell_type": "markdown",
   "metadata": {},
   "source": [
    "## scipy.io.netcdf\n",
    "\n",
    "scipy.io.netcdf (v0.16) doesn't support NetCDF4.\n",
    "\n",
    "http://docs.scipy.org/doc/scipy/reference/generated/scipy.io.netcdf.netcdf_file.html"
   ]
  },
  {
   "cell_type": "markdown",
   "metadata": {},
   "source": [
    "## netcdf4-python\n",
    "\n",
    "based on Scientific.IO.NetCDF API\n",
    "\n",
    "http://unidata.github.io/netcdf4-python/\n",
    "\n",
    "https://github.com/Unidata/netcdf4-python\n",
    "\n",
    "http://nbviewer.ipython.org/github/Unidata/netcdf4-python/blob/master/examples/reading_netCDF.ipynb\n",
    "\n",
    "http://nbviewer.ipython.org/github/Unidata/netcdf4-python/blob/master/examples/writing_netCDF.ipynb\n",
    "\n",
    "For the installation on Debian, I had to define a few environment variables, see https://github.com/Unidata/netcdf4-python/issues/341#issuecomment-82465295"
   ]
  },
  {
   "cell_type": "code",
   "execution_count": 1,
   "metadata": {
    "collapsed": false
   },
   "outputs": [],
   "source": [
    "from netCDF4 import Dataset"
   ]
  },
  {
   "cell_type": "code",
   "execution_count": 17,
   "metadata": {
    "collapsed": false
   },
   "outputs": [
    {
     "data": {
      "text/plain": [
       "<class 'netCDF4._netCDF4.Dataset'>\n",
       "root group (NETCDF4 data model, file format UNDEFINED):\n",
       "    Conventions: SOFA\n",
       "    Version: 0.6\n",
       "    SOFAConventions: GeneralFIRE\n",
       "    SOFAConventionsVersion: 0.1\n",
       "    APIName: ARI SOFA API for Matlab/Octave\n",
       "    APIVersion: 0.4.4\n",
       "    ApplicationName: Matlab\n",
       "    ApplicationVersion: R2013a\n",
       "    AuthorContact: vera.erbes@uni-rostock.de\n",
       "    Comment: RIR measurements of 64-channel loudspeaker array at University of Rostock.\n",
       "    DataType: FIRE\n",
       "    History: Converted from the TU Berlin/University of Rostock format\n",
       "    License: Creative Commons Attribution-NonCommercial-ShareAlike 4.0\n",
       "    Organization: University of Rostock, Institute of Communications Engineering\n",
       "    References: V. Erbes, M. Geier, S. Weinzierl and S. Spors (2015): Database of single-channel and binaural room impulse responses of a 64-channel loudspeaker array. Proc. of the 138th AES Conv., Warsaw, Poland\n",
       "    RoomType: shoebox\n",
       "    Origin: Acoustically measured with omnidirectional microphone\n",
       "    DateCreated: 2014-12-01 13:50:46\n",
       "    DateModified: 2015-03-05 13:33:34\n",
       "    Title: Rostock RIR audio lab, broadband absorbers on walls and ceiling, listener in centre of array\n",
       "    RoomDescription: University of Rostock, INT Audio Lab, Room 8202, broadband absorbers on walls and ceiling, mid-frequency reverberation time = 0.32 s\n",
       "    ListenerDescription: iSEMcon EMX-7150\n",
       "    EmitterDescription: Neumann KH 120 A\n",
       "    DatabaseName: Multichannel RIRs University of Rostock\n",
       "    ListenerShortName: OmniMic\n",
       "    SourceDescription: 64-channel loudspeaker array\n",
       "    dimensions(sizes): I(1), C(3), R(1), E(64), N(44100), M(1), S(0)\n",
       "    variables(dimensions): float64 \u001b[4mListenerPosition\u001b[0m(I,C), float64 \u001b[4mReceiverPosition\u001b[0m(R,C,I), float64 \u001b[4mSourcePosition\u001b[0m(I,C), float64 \u001b[4mEmitterPosition\u001b[0m(E,C,I), float64 \u001b[4mSourceUp\u001b[0m(I,C), float64 \u001b[4mSourceView\u001b[0m(I,C), float64 \u001b[4mEmitterUp\u001b[0m(E,C,I), float64 \u001b[4mEmitterView\u001b[0m(E,C,I), float64 \u001b[4mRoomCornerA\u001b[0m(I,C), float64 \u001b[4mRoomCornerB\u001b[0m(I,C), float64 \u001b[4mData.IR\u001b[0m(M,R,E,N), float64 \u001b[4mData.SamplingRate\u001b[0m(I), float64 \u001b[4mData.Delay\u001b[0m(I,R,E)\n",
       "    groups: "
      ]
     },
     "execution_count": 17,
     "metadata": {},
     "output_type": "execute_result"
    }
   ],
   "source": [
    "f = Dataset('RIR_AllAbsorbers_ArrayCentre_Emitters1to64.sofa')\n",
    "f"
   ]
  },
  {
   "cell_type": "code",
   "execution_count": 6,
   "metadata": {
    "collapsed": false
   },
   "outputs": [
    {
     "data": {
      "text/plain": [
       "OrderedDict([('ListenerPosition', <class 'netCDF4._netCDF4.Variable'>\n",
       "float64 ListenerPosition(I, C)\n",
       "    Type: cartesian\n",
       "    Units: meter\n",
       "unlimited dimensions: \n",
       "current shape = (1, 3)\n",
       "filling on, default _FillValue of 9.969209968386869e+36 used\n",
       "), ('ReceiverPosition', <class 'netCDF4._netCDF4.Variable'>\n",
       "float64 ReceiverPosition(R, C, I)\n",
       "    Type: cartesian\n",
       "    Units: meter\n",
       "unlimited dimensions: \n",
       "current shape = (1, 3, 1)\n",
       "filling on, default _FillValue of 9.969209968386869e+36 used\n",
       "), ('SourcePosition', <class 'netCDF4._netCDF4.Variable'>\n",
       "float64 SourcePosition(I, C)\n",
       "    Type: cartesian\n",
       "    Units: meter\n",
       "unlimited dimensions: \n",
       "current shape = (1, 3)\n",
       "filling on, default _FillValue of 9.969209968386869e+36 used\n",
       "), ('EmitterPosition', <class 'netCDF4._netCDF4.Variable'>\n",
       "float64 EmitterPosition(E, C, I)\n",
       "    Type: cartesian\n",
       "    Units: meter\n",
       "unlimited dimensions: \n",
       "current shape = (64, 3, 1)\n",
       "filling on, default _FillValue of 9.969209968386869e+36 used\n",
       "), ('SourceUp', <class 'netCDF4._netCDF4.Variable'>\n",
       "float64 SourceUp(I, C)\n",
       "unlimited dimensions: \n",
       "current shape = (1, 3)\n",
       "filling on, default _FillValue of 9.969209968386869e+36 used\n",
       "), ('SourceView', <class 'netCDF4._netCDF4.Variable'>\n",
       "float64 SourceView(I, C)\n",
       "    Type: cartesian\n",
       "    Units: meter\n",
       "unlimited dimensions: \n",
       "current shape = (1, 3)\n",
       "filling on, default _FillValue of 9.969209968386869e+36 used\n",
       "), ('EmitterUp', <class 'netCDF4._netCDF4.Variable'>\n",
       "float64 EmitterUp(E, C, I)\n",
       "unlimited dimensions: \n",
       "current shape = (64, 3, 1)\n",
       "filling on, default _FillValue of 9.969209968386869e+36 used\n",
       "), ('EmitterView', <class 'netCDF4._netCDF4.Variable'>\n",
       "float64 EmitterView(E, C, I)\n",
       "    Type: cartesian\n",
       "    Units: meter\n",
       "unlimited dimensions: \n",
       "current shape = (64, 3, 1)\n",
       "filling on, default _FillValue of 9.969209968386869e+36 used\n",
       "), ('RoomCornerA', <class 'netCDF4._netCDF4.Variable'>\n",
       "float64 RoomCornerA(I, C)\n",
       "    Type: cartesian\n",
       "    Units: meter\n",
       "unlimited dimensions: \n",
       "current shape = (1, 3)\n",
       "filling on, default _FillValue of 9.969209968386869e+36 used\n",
       "), ('RoomCornerB', <class 'netCDF4._netCDF4.Variable'>\n",
       "float64 RoomCornerB(I, C)\n",
       "    Type: cartesian\n",
       "    Units: meter\n",
       "unlimited dimensions: \n",
       "current shape = (1, 3)\n",
       "filling on, default _FillValue of 9.969209968386869e+36 used\n",
       "), ('Data.IR', <class 'netCDF4._netCDF4.Variable'>\n",
       "float64 Data.IR(M, R, E, N)\n",
       "unlimited dimensions: \n",
       "current shape = (1, 1, 64, 44100)\n",
       "filling on, default _FillValue of 9.969209968386869e+36 used\n",
       "), ('Data.SamplingRate', <class 'netCDF4._netCDF4.Variable'>\n",
       "float64 Data.SamplingRate(I)\n",
       "    Units: hertz\n",
       "unlimited dimensions: \n",
       "current shape = (1,)\n",
       "filling on, default _FillValue of 9.969209968386869e+36 used\n",
       "), ('Data.Delay', <class 'netCDF4._netCDF4.Variable'>\n",
       "float64 Data.Delay(I, R, E)\n",
       "unlimited dimensions: \n",
       "current shape = (1, 1, 64)\n",
       "filling on, default _FillValue of 9.969209968386869e+36 used\n",
       ")])"
      ]
     },
     "execution_count": 6,
     "metadata": {},
     "output_type": "execute_result"
    }
   ],
   "source": [
    "f.variables"
   ]
  },
  {
   "cell_type": "code",
   "execution_count": 9,
   "metadata": {
    "collapsed": false
   },
   "outputs": [
    {
     "data": {
      "text/plain": [
       "<class 'netCDF4._netCDF4.Variable'>\n",
       "float64 Data.IR(M, R, E, N)\n",
       "unlimited dimensions: \n",
       "current shape = (1, 1, 64, 44100)\n",
       "filling on, default _FillValue of 9.969209968386869e+36 used"
      ]
     },
     "execution_count": 9,
     "metadata": {},
     "output_type": "execute_result"
    }
   ],
   "source": [
    "var = f.variables['Data.IR']\n",
    "var"
   ]
  },
  {
   "cell_type": "code",
   "execution_count": 16,
   "metadata": {
    "collapsed": false
   },
   "outputs": [
    {
     "data": {
      "text/plain": [
       "(64, 44100)"
      ]
     },
     "execution_count": 16,
     "metadata": {},
     "output_type": "execute_result"
    }
   ],
   "source": [
    "data = var[0, 0]\n",
    "data.shape"
   ]
  },
  {
   "cell_type": "markdown",
   "metadata": {},
   "source": [
    "## Scientific.IO.NetCDF\n",
    "\n",
    "ScientificPython (not to be confused with SciPy!)\n",
    "\n",
    "http://dirac.cnrs-orleans.fr/plone/software/scientificpython\n",
    "\n",
    "https://bitbucket.org/khinsen/scientificpython\n",
    "\n",
    "http://dirac.cnrs-orleans.fr/ScientificPython/ScientificPythonManual/Scientific.IO.NetCDF.NetCDFFile-class.html\n",
    "\n",
    "Only for Python 2, no Python 3 support?\n",
    "\n",
    "Example:\n",
    "\n",
    "```python\n",
    "from Scientific.IO.NetCDF import NetCDFFile\n",
    "\n",
    "f = NetCDFFile('RIR_AllAbsorbers_ArrayCentre_Emitters1to64.sofa')\n",
    "\n",
    "var = f.variables['Data.IR']\n",
    "\n",
    "var.typecode()  # 'd'\n",
    "\n",
    "data = var.getValue()\n",
    "\n",
    "data.shape  # (1, 1, 64, 44100)\n",
    "```"
   ]
  },
  {
   "cell_type": "markdown",
   "metadata": {},
   "source": [
    "## PyTables\n",
    "\n",
    "Open SOFA file as HDF5 (there are a lot of warnings but it seems to work)\n",
    "\n",
    "http://www.pytables.org/"
   ]
  },
  {
   "cell_type": "code",
   "execution_count": 1,
   "metadata": {
    "collapsed": false
   },
   "outputs": [],
   "source": [
    "import tables"
   ]
  },
  {
   "cell_type": "code",
   "execution_count": 4,
   "metadata": {
    "collapsed": false
   },
   "outputs": [
    {
     "name": "stderr",
     "output_type": "stream",
     "text": [
      "/usr/lib/python3/dist-packages/tables/attributeset.py:295: DataTypeWarning: Unsupported type for attribute 'REFERENCE_LIST' in node 'C'. Offending HDF5 class: 6\n",
      "  value = self._g_getattr(self._v_node, name)\n",
      "/usr/lib/python3/dist-packages/tables/attributeset.py:295: DataTypeWarning: Unsupported type for attribute 'DIMENSION_LIST' in node 'Data.Delay'. Offending HDF5 class: 9\n",
      "  value = self._g_getattr(self._v_node, name)\n",
      "/usr/lib/python3/dist-packages/tables/attributeset.py:295: DataTypeWarning: Unsupported type for attribute 'DIMENSION_LIST' in node 'Data.IR'. Offending HDF5 class: 9\n",
      "  value = self._g_getattr(self._v_node, name)\n",
      "/usr/lib/python3/dist-packages/tables/attributeset.py:295: DataTypeWarning: Unsupported type for attribute 'DIMENSION_LIST' in node 'Data.SamplingRate'. Offending HDF5 class: 9\n",
      "  value = self._g_getattr(self._v_node, name)\n",
      "/usr/lib/python3/dist-packages/tables/attributeset.py:295: DataTypeWarning: Unsupported type for attribute 'REFERENCE_LIST' in node 'E'. Offending HDF5 class: 6\n",
      "  value = self._g_getattr(self._v_node, name)\n",
      "/usr/lib/python3/dist-packages/tables/attributeset.py:295: DataTypeWarning: Unsupported type for attribute 'DIMENSION_LIST' in node 'EmitterPosition'. Offending HDF5 class: 9\n",
      "  value = self._g_getattr(self._v_node, name)\n",
      "/usr/lib/python3/dist-packages/tables/attributeset.py:295: DataTypeWarning: Unsupported type for attribute 'DIMENSION_LIST' in node 'EmitterUp'. Offending HDF5 class: 9\n",
      "  value = self._g_getattr(self._v_node, name)\n",
      "/usr/lib/python3/dist-packages/tables/attributeset.py:295: DataTypeWarning: Unsupported type for attribute 'DIMENSION_LIST' in node 'EmitterView'. Offending HDF5 class: 9\n",
      "  value = self._g_getattr(self._v_node, name)\n",
      "/usr/lib/python3/dist-packages/tables/attributeset.py:295: DataTypeWarning: Unsupported type for attribute 'REFERENCE_LIST' in node 'I'. Offending HDF5 class: 6\n",
      "  value = self._g_getattr(self._v_node, name)\n",
      "/usr/lib/python3/dist-packages/tables/attributeset.py:295: DataTypeWarning: Unsupported type for attribute 'DIMENSION_LIST' in node 'ListenerPosition'. Offending HDF5 class: 9\n",
      "  value = self._g_getattr(self._v_node, name)\n",
      "/usr/lib/python3/dist-packages/tables/attributeset.py:295: DataTypeWarning: Unsupported type for attribute 'REFERENCE_LIST' in node 'M'. Offending HDF5 class: 6\n",
      "  value = self._g_getattr(self._v_node, name)\n",
      "/usr/lib/python3/dist-packages/tables/attributeset.py:295: DataTypeWarning: Unsupported type for attribute 'REFERENCE_LIST' in node 'N'. Offending HDF5 class: 6\n",
      "  value = self._g_getattr(self._v_node, name)\n",
      "/usr/lib/python3/dist-packages/tables/attributeset.py:295: DataTypeWarning: Unsupported type for attribute 'REFERENCE_LIST' in node 'R'. Offending HDF5 class: 6\n",
      "  value = self._g_getattr(self._v_node, name)\n",
      "/usr/lib/python3/dist-packages/tables/attributeset.py:295: DataTypeWarning: Unsupported type for attribute 'DIMENSION_LIST' in node 'ReceiverPosition'. Offending HDF5 class: 9\n",
      "  value = self._g_getattr(self._v_node, name)\n",
      "/usr/lib/python3/dist-packages/tables/attributeset.py:295: DataTypeWarning: Unsupported type for attribute 'DIMENSION_LIST' in node 'RoomCornerA'. Offending HDF5 class: 9\n",
      "  value = self._g_getattr(self._v_node, name)\n",
      "/usr/lib/python3/dist-packages/tables/attributeset.py:295: DataTypeWarning: Unsupported type for attribute 'DIMENSION_LIST' in node 'RoomCornerB'. Offending HDF5 class: 9\n",
      "  value = self._g_getattr(self._v_node, name)\n",
      "/usr/lib/python3/dist-packages/tables/attributeset.py:295: DataTypeWarning: Unsupported type for attribute 'DIMENSION_LIST' in node 'SourcePosition'. Offending HDF5 class: 9\n",
      "  value = self._g_getattr(self._v_node, name)\n",
      "/usr/lib/python3/dist-packages/tables/attributeset.py:295: DataTypeWarning: Unsupported type for attribute 'DIMENSION_LIST' in node 'SourceUp'. Offending HDF5 class: 9\n",
      "  value = self._g_getattr(self._v_node, name)\n",
      "/usr/lib/python3/dist-packages/tables/attributeset.py:295: DataTypeWarning: Unsupported type for attribute 'DIMENSION_LIST' in node 'SourceView'. Offending HDF5 class: 9\n",
      "  value = self._g_getattr(self._v_node, name)\n"
     ]
    },
    {
     "data": {
      "text/plain": [
       "File(filename=RIR_AllAbsorbers_ArrayCentre_Emitters1to64.sofa, title='', mode='r', root_uep='/', filters=Filters(complevel=0, shuffle=False, fletcher32=False, least_significant_digit=None))\n",
       "/ (RootGroup) ''\n",
       "/C (Array(3,)) ''\n",
       "  atom := Float32Atom(shape=(), dflt=0.0)\n",
       "  maindim := 0\n",
       "  flavor := 'numpy'\n",
       "  byteorder := 'big'\n",
       "  chunkshape := None\n",
       "/Data.Delay (CArray(1, 1, 64), shuffle, zlib(1)) ''\n",
       "  atom := Float64Atom(shape=(), dflt=9.969209968386869e+36)\n",
       "  maindim := 0\n",
       "  flavor := 'numpy'\n",
       "  byteorder := 'little'\n",
       "  chunkshape := (1, 1, 64)\n",
       "/Data.IR (CArray(1, 1, 64, 44100), shuffle, zlib(1)) ''\n",
       "  atom := Float64Atom(shape=(), dflt=9.969209968386869e+36)\n",
       "  maindim := 0\n",
       "  flavor := 'numpy'\n",
       "  byteorder := 'little'\n",
       "  chunkshape := (1, 1, 20, 14596)\n",
       "/Data.SamplingRate (CArray(1,), shuffle, zlib(1)) ''\n",
       "  atom := Float64Atom(shape=(), dflt=9.969209968386869e+36)\n",
       "  maindim := 0\n",
       "  flavor := 'numpy'\n",
       "  byteorder := 'little'\n",
       "  chunkshape := (1,)\n",
       "/E (Array(64,)) ''\n",
       "  atom := Float32Atom(shape=(), dflt=0.0)\n",
       "  maindim := 0\n",
       "  flavor := 'numpy'\n",
       "  byteorder := 'big'\n",
       "  chunkshape := None\n",
       "/EmitterPosition (CArray(64, 3, 1), shuffle, zlib(1)) ''\n",
       "  atom := Float64Atom(shape=(), dflt=9.969209968386869e+36)\n",
       "  maindim := 0\n",
       "  flavor := 'numpy'\n",
       "  byteorder := 'little'\n",
       "  chunkshape := (64, 3, 1)\n",
       "/EmitterUp (CArray(64, 3, 1), shuffle, zlib(1)) ''\n",
       "  atom := Float64Atom(shape=(), dflt=9.969209968386869e+36)\n",
       "  maindim := 0\n",
       "  flavor := 'numpy'\n",
       "  byteorder := 'little'\n",
       "  chunkshape := (64, 3, 1)\n",
       "/EmitterView (CArray(64, 3, 1), shuffle, zlib(1)) ''\n",
       "  atom := Float64Atom(shape=(), dflt=9.969209968386869e+36)\n",
       "  maindim := 0\n",
       "  flavor := 'numpy'\n",
       "  byteorder := 'little'\n",
       "  chunkshape := (64, 3, 1)\n",
       "/I (Array(1,)) ''\n",
       "  atom := Float32Atom(shape=(), dflt=0.0)\n",
       "  maindim := 0\n",
       "  flavor := 'numpy'\n",
       "  byteorder := 'big'\n",
       "  chunkshape := None\n",
       "/ListenerPosition (CArray(1, 3), shuffle, zlib(1)) ''\n",
       "  atom := Float64Atom(shape=(), dflt=9.969209968386869e+36)\n",
       "  maindim := 0\n",
       "  flavor := 'numpy'\n",
       "  byteorder := 'little'\n",
       "  chunkshape := (1, 3)\n",
       "/M (Array(1,)) ''\n",
       "  atom := Float32Atom(shape=(), dflt=0.0)\n",
       "  maindim := 0\n",
       "  flavor := 'numpy'\n",
       "  byteorder := 'big'\n",
       "  chunkshape := None\n",
       "/N (Array(44100,)) ''\n",
       "  atom := Float32Atom(shape=(), dflt=0.0)\n",
       "  maindim := 0\n",
       "  flavor := 'numpy'\n",
       "  byteorder := 'big'\n",
       "  chunkshape := None\n",
       "/R (Array(1,)) ''\n",
       "  atom := Float32Atom(shape=(), dflt=0.0)\n",
       "  maindim := 0\n",
       "  flavor := 'numpy'\n",
       "  byteorder := 'big'\n",
       "  chunkshape := None\n",
       "/ReceiverPosition (CArray(1, 3, 1), shuffle, zlib(1)) ''\n",
       "  atom := Float64Atom(shape=(), dflt=9.969209968386869e+36)\n",
       "  maindim := 0\n",
       "  flavor := 'numpy'\n",
       "  byteorder := 'little'\n",
       "  chunkshape := (1, 3, 1)\n",
       "/RoomCornerA (CArray(1, 3), shuffle, zlib(1)) ''\n",
       "  atom := Float64Atom(shape=(), dflt=9.969209968386869e+36)\n",
       "  maindim := 0\n",
       "  flavor := 'numpy'\n",
       "  byteorder := 'little'\n",
       "  chunkshape := (1, 3)\n",
       "/RoomCornerB (CArray(1, 3), shuffle, zlib(1)) ''\n",
       "  atom := Float64Atom(shape=(), dflt=9.969209968386869e+36)\n",
       "  maindim := 0\n",
       "  flavor := 'numpy'\n",
       "  byteorder := 'little'\n",
       "  chunkshape := (1, 3)\n",
       "/S (EArray(0,)) ''\n",
       "  atom := Float32Atom(shape=(), dflt=0.0)\n",
       "  maindim := 0\n",
       "  flavor := 'numpy'\n",
       "  byteorder := 'big'\n",
       "  chunkshape := (1,)\n",
       "/SourcePosition (CArray(1, 3), shuffle, zlib(1)) ''\n",
       "  atom := Float64Atom(shape=(), dflt=9.969209968386869e+36)\n",
       "  maindim := 0\n",
       "  flavor := 'numpy'\n",
       "  byteorder := 'little'\n",
       "  chunkshape := (1, 3)\n",
       "/SourceUp (CArray(1, 3), shuffle, zlib(1)) ''\n",
       "  atom := Float64Atom(shape=(), dflt=9.969209968386869e+36)\n",
       "  maindim := 0\n",
       "  flavor := 'numpy'\n",
       "  byteorder := 'little'\n",
       "  chunkshape := (1, 3)\n",
       "/SourceView (CArray(1, 3), shuffle, zlib(1)) ''\n",
       "  atom := Float64Atom(shape=(), dflt=9.969209968386869e+36)\n",
       "  maindim := 0\n",
       "  flavor := 'numpy'\n",
       "  byteorder := 'little'\n",
       "  chunkshape := (1, 3)"
      ]
     },
     "execution_count": 4,
     "metadata": {},
     "output_type": "execute_result"
    }
   ],
   "source": [
    "f = tables.open_file('RIR_AllAbsorbers_ArrayCentre_Emitters1to64.sofa')\n",
    "f"
   ]
  },
  {
   "cell_type": "code",
   "execution_count": 6,
   "metadata": {
    "collapsed": false
   },
   "outputs": [
    {
     "data": {
      "text/plain": [
       "/ (RootGroup) ''\n",
       "  children := ['S' (EArray), 'SourcePosition' (CArray), 'SourceView' (CArray), 'Data.IR' (CArray), 'N' (Array), 'EmitterUp' (CArray), 'R' (Array), 'EmitterView' (CArray), 'EmitterPosition' (CArray), 'Data.Delay' (CArray), 'E' (Array), 'C' (Array), 'RoomCornerA' (CArray), 'ListenerPosition' (CArray), 'M' (Array), 'Data.SamplingRate' (CArray), 'RoomCornerB' (CArray), 'SourceUp' (CArray), 'I' (Array), 'ReceiverPosition' (CArray)]"
      ]
     },
     "execution_count": 6,
     "metadata": {},
     "output_type": "execute_result"
    }
   ],
   "source": [
    "f.root"
   ]
  },
  {
   "cell_type": "markdown",
   "metadata": {},
   "source": [
    "It's impossible to get `Data.IR` by attribute access because sadly it contains a period."
   ]
  },
  {
   "cell_type": "code",
   "execution_count": 18,
   "metadata": {
    "collapsed": false
   },
   "outputs": [
    {
     "data": {
      "text/plain": [
       "/Data.IR (CArray(1, 1, 64, 44100), shuffle, zlib(1)) ''\n",
       "  atom := Float64Atom(shape=(), dflt=9.969209968386869e+36)\n",
       "  maindim := 0\n",
       "  flavor := 'numpy'\n",
       "  byteorder := 'little'\n",
       "  chunkshape := (1, 1, 20, 14596)"
      ]
     },
     "execution_count": 18,
     "metadata": {},
     "output_type": "execute_result"
    }
   ],
   "source": [
    "var = f.get_node('/Data.IR')\n",
    "var"
   ]
  },
  {
   "cell_type": "markdown",
   "metadata": {},
   "source": [
    "`CArray` $\\to$ chunked array"
   ]
  },
  {
   "cell_type": "code",
   "execution_count": 22,
   "metadata": {
    "collapsed": false
   },
   "outputs": [
    {
     "data": {
      "text/plain": [
       "dtype('float64')"
      ]
     },
     "execution_count": 22,
     "metadata": {},
     "output_type": "execute_result"
    }
   ],
   "source": [
    "var.dtype"
   ]
  },
  {
   "cell_type": "code",
   "execution_count": 23,
   "metadata": {
    "collapsed": false
   },
   "outputs": [
    {
     "data": {
      "text/plain": [
       "(1, 1, 64, 44100)"
      ]
     },
     "execution_count": 23,
     "metadata": {},
     "output_type": "execute_result"
    }
   ],
   "source": [
    "var.shape"
   ]
  },
  {
   "cell_type": "code",
   "execution_count": 28,
   "metadata": {
    "collapsed": false
   },
   "outputs": [
    {
     "data": {
      "text/plain": [
       "numpy.ndarray"
      ]
     },
     "execution_count": 28,
     "metadata": {},
     "output_type": "execute_result"
    }
   ],
   "source": [
    "data = var[0, 0]\n",
    "type(data)"
   ]
  },
  {
   "cell_type": "markdown",
   "metadata": {},
   "source": [
    "## h5py\n",
    "\n",
    "http://www.h5py.org/\n",
    "\n",
    "http://docs.h5py.org/"
   ]
  },
  {
   "cell_type": "code",
   "execution_count": 1,
   "metadata": {
    "collapsed": false
   },
   "outputs": [],
   "source": [
    "import h5py"
   ]
  },
  {
   "cell_type": "code",
   "execution_count": 4,
   "metadata": {
    "collapsed": false
   },
   "outputs": [
    {
     "data": {
      "text/plain": [
       "<HDF5 file \"RIR_AllAbsorbers_ArrayCentre_Emitters1to64.sofa\" (mode r+)>"
      ]
     },
     "execution_count": 4,
     "metadata": {},
     "output_type": "execute_result"
    }
   ],
   "source": [
    "f = h5py.File('RIR_AllAbsorbers_ArrayCentre_Emitters1to64.sofa')\n",
    "f"
   ]
  },
  {
   "cell_type": "code",
   "execution_count": 6,
   "metadata": {
    "collapsed": false
   },
   "outputs": [
    {
     "data": {
      "text/plain": [
       "<HDF5 dataset \"Data.IR\": shape (1, 1, 64, 44100), type \"<f8\">"
      ]
     },
     "execution_count": 6,
     "metadata": {},
     "output_type": "execute_result"
    }
   ],
   "source": [
    "var = f['Data.IR']\n",
    "var"
   ]
  },
  {
   "cell_type": "code",
   "execution_count": 10,
   "metadata": {
    "collapsed": false
   },
   "outputs": [
    {
     "data": {
      "text/plain": [
       "numpy.ndarray"
      ]
     },
     "execution_count": 10,
     "metadata": {},
     "output_type": "execute_result"
    }
   ],
   "source": [
    "data = var[0, 0]\n",
    "type(data)"
   ]
  }
 ],
 "metadata": {
  "kernelspec": {
   "display_name": "Python 3",
   "language": "python",
   "name": "python3"
  },
  "language_info": {
   "codemirror_mode": {
    "name": "ipython",
    "version": 3
   },
   "file_extension": ".py",
   "mimetype": "text/x-python",
   "name": "python",
   "nbconvert_exporter": "python",
   "pygments_lexer": "ipython3",
   "version": "3.4.3+"
  }
 },
 "nbformat": 4,
 "nbformat_minor": 0
}
