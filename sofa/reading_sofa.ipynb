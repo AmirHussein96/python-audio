{
 "cells": [
  {
   "cell_type": "markdown",
   "metadata": {},
   "source": [
    "# Reading SOFA Files With Python\n",
    "\n",
    "SOFA: http://www.sofaconventions.org/\n",
    "\n",
    "Example file from https://depositonce.tu-berlin.de/handle/11303/245.2, also available at http://sofacoustics.org/data/database/tuburo/.\n",
    "\n",
    "This is only about *reading* files, *creating* and *writing* to SOFA files is beyond the scope of this page."
   ]
  },
  {
   "cell_type": "markdown",
   "metadata": {},
   "source": [
    "## scipy.io.netcdf\n",
    "\n",
    "scipy.io.netcdf (v0.16) doesn't support NetCDF4.\n",
    "\n",
    "http://docs.scipy.org/doc/scipy/reference/generated/scipy.io.netcdf.netcdf_file.html"
   ]
  },
  {
   "cell_type": "markdown",
   "metadata": {},
   "source": [
    "## netcdf4-python\n",
    "\n",
    "based on Scientific.IO.NetCDF API\n",
    "\n",
    "http://unidata.github.io/netcdf4-python/\n",
    "\n",
    "https://github.com/Unidata/netcdf4-python\n",
    "\n",
    "http://nbviewer.ipython.org/github/Unidata/netcdf4-python/blob/master/examples/reading_netCDF.ipynb\n",
    "\n",
    "http://nbviewer.ipython.org/github/Unidata/netcdf4-python/blob/master/examples/writing_netCDF.ipynb\n",
    "\n",
    "For the installation on Debian, I had to define a few environment variables, see https://github.com/Unidata/netcdf4-python/issues/341#issuecomment-82465295"
   ]
  },
  {
   "cell_type": "code",
   "execution_count": null,
   "metadata": {},
   "outputs": [],
   "source": [
    "from netCDF4 import Dataset"
   ]
  },
  {
   "cell_type": "code",
   "execution_count": null,
   "metadata": {},
   "outputs": [],
   "source": [
    "f = Dataset('RIR_AllAbsorbers_ArrayCentre_Emitters1to64.sofa')\n",
    "f"
   ]
  },
  {
   "cell_type": "code",
   "execution_count": null,
   "metadata": {},
   "outputs": [],
   "source": [
    "f.variables"
   ]
  },
  {
   "cell_type": "code",
   "execution_count": null,
   "metadata": {},
   "outputs": [],
   "source": [
    "var = f.variables['Data.IR']\n",
    "var"
   ]
  },
  {
   "cell_type": "code",
   "execution_count": null,
   "metadata": {},
   "outputs": [],
   "source": [
    "data = var[0, 0]\n",
    "data.shape"
   ]
  },
  {
   "cell_type": "markdown",
   "metadata": {},
   "source": [
    "## Scientific.IO.NetCDF\n",
    "\n",
    "ScientificPython (not to be confused with SciPy!)\n",
    "\n",
    "http://dirac.cnrs-orleans.fr/plone/software/scientificpython\n",
    "\n",
    "https://bitbucket.org/khinsen/scientificpython\n",
    "\n",
    "http://dirac.cnrs-orleans.fr/ScientificPython/ScientificPythonManual/Scientific.IO.NetCDF.NetCDFFile-class.html\n",
    "\n",
    "Only for Python 2, no Python 3 support?\n",
    "\n",
    "Example:\n",
    "\n",
    "```python\n",
    "from Scientific.IO.NetCDF import NetCDFFile\n",
    "\n",
    "f = NetCDFFile('RIR_AllAbsorbers_ArrayCentre_Emitters1to64.sofa')\n",
    "\n",
    "var = f.variables['Data.IR']\n",
    "\n",
    "var.typecode()  # 'd'\n",
    "\n",
    "data = var.getValue()\n",
    "\n",
    "data.shape  # (1, 1, 64, 44100)\n",
    "```"
   ]
  },
  {
   "cell_type": "markdown",
   "metadata": {},
   "source": [
    "## PyTables\n",
    "\n",
    "Open SOFA file as HDF5 (there are a lot of warnings but it seems to work)\n",
    "\n",
    "http://www.pytables.org/"
   ]
  },
  {
   "cell_type": "code",
   "execution_count": null,
   "metadata": {},
   "outputs": [],
   "source": [
    "import tables"
   ]
  },
  {
   "cell_type": "code",
   "execution_count": null,
   "metadata": {},
   "outputs": [],
   "source": [
    "f = tables.open_file('RIR_AllAbsorbers_ArrayCentre_Emitters1to64.sofa')\n",
    "f"
   ]
  },
  {
   "cell_type": "code",
   "execution_count": null,
   "metadata": {},
   "outputs": [],
   "source": [
    "f.root"
   ]
  },
  {
   "cell_type": "markdown",
   "metadata": {},
   "source": [
    "It's impossible to get `Data.IR` by attribute access because sadly it contains a period."
   ]
  },
  {
   "cell_type": "code",
   "execution_count": null,
   "metadata": {},
   "outputs": [],
   "source": [
    "var = f.get_node('/Data.IR')\n",
    "var"
   ]
  },
  {
   "cell_type": "markdown",
   "metadata": {},
   "source": [
    "`CArray` $\\to$ chunked array"
   ]
  },
  {
   "cell_type": "code",
   "execution_count": null,
   "metadata": {},
   "outputs": [],
   "source": [
    "var.dtype"
   ]
  },
  {
   "cell_type": "code",
   "execution_count": null,
   "metadata": {},
   "outputs": [],
   "source": [
    "var.shape"
   ]
  },
  {
   "cell_type": "code",
   "execution_count": null,
   "metadata": {},
   "outputs": [],
   "source": [
    "data = var[0, 0]\n",
    "type(data)"
   ]
  },
  {
   "cell_type": "markdown",
   "metadata": {},
   "source": [
    "## h5py\n",
    "\n",
    "http://www.h5py.org/\n",
    "\n",
    "http://docs.h5py.org/"
   ]
  },
  {
   "cell_type": "code",
   "execution_count": null,
   "metadata": {},
   "outputs": [],
   "source": [
    "import h5py"
   ]
  },
  {
   "cell_type": "code",
   "execution_count": null,
   "metadata": {},
   "outputs": [],
   "source": [
    "f = h5py.File('RIR_AllAbsorbers_ArrayCentre_Emitters1to64.sofa')\n",
    "f"
   ]
  },
  {
   "cell_type": "code",
   "execution_count": null,
   "metadata": {},
   "outputs": [],
   "source": [
    "var = f['Data.IR']\n",
    "var"
   ]
  },
  {
   "cell_type": "code",
   "execution_count": null,
   "metadata": {},
   "outputs": [],
   "source": [
    "data = var[0, 0]\n",
    "type(data)"
   ]
  }
 ],
 "metadata": {
  "kernelspec": {
   "display_name": "Python 3",
   "language": "python",
   "name": "python3"
  },
  "language_info": {
   "codemirror_mode": {
    "name": "ipython",
    "version": 3
   },
   "file_extension": ".py",
   "mimetype": "text/x-python",
   "name": "python",
   "nbconvert_exporter": "python",
   "pygments_lexer": "ipython3",
   "version": "3.4.3+"
  }
 },
 "nbformat": 4,
 "nbformat_minor": 0
}
