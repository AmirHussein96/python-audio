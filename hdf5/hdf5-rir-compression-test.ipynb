{
 "cells": [
  {
   "cell_type": "markdown",
   "metadata": {},
   "source": [
    "http://sofacoustics.org/data/database/tuburo/"
   ]
  },
  {
   "cell_type": "code",
   "execution_count": 2,
   "metadata": {
    "collapsed": true
   },
   "outputs": [],
   "source": [
    "import h5py"
   ]
  },
  {
   "cell_type": "code",
   "execution_count": 1,
   "metadata": {
    "collapsed": true
   },
   "outputs": [],
   "source": [
    "!cp RIR_NoAbsorbers_ArrayCentre_Emitters1to64.sofa rir01.hdf5\n",
    "with h5py.File('rir01.hdf5', 'r+') as f:\n",
    "    data = f['Data.IR'][...]\n",
    "    del f['Data.IR']\n",
    "    f['Data.IR'] = data"
   ]
  },
  {
   "cell_type": "code",
   "execution_count": 10,
   "metadata": {
    "collapsed": false
   },
   "outputs": [],
   "source": [
    "!cp RIR_NoAbsorbers_ArrayCentre_Emitters1to64.sofa rir02.hdf5\n",
    "with h5py.File('rir02.hdf5', 'r+') as f:\n",
    "    data = f['Data.IR'][...]\n",
    "    del f['Data.IR']\n",
    "    f.create_dataset('Data.IR', data=data, compression=9)"
   ]
  },
  {
   "cell_type": "code",
   "execution_count": 11,
   "metadata": {
    "collapsed": false
   },
   "outputs": [],
   "source": [
    "!cp RIR_NoAbsorbers_ArrayCentre_Emitters1to64.sofa rir03.hdf5\n",
    "with h5py.File('rir03.hdf5', 'r+') as f:\n",
    "    data = f['Data.IR'][...]\n",
    "    del f['Data.IR']\n",
    "    f.create_dataset('Data.IR', data=data, compression=9, shuffle=True)"
   ]
  },
  {
   "cell_type": "code",
   "execution_count": 13,
   "metadata": {
    "collapsed": false
   },
   "outputs": [],
   "source": [
    "!cp RIR_NoAbsorbers_ArrayCentre_Emitters1to64.sofa rir04.hdf5\n",
    "with h5py.File('rir04.hdf5', 'r+') as f:\n",
    "    data = f['Data.IR'][...]\n",
    "    del f['Data.IR']\n",
    "    f.create_dataset('Data.IR', data=data, compression=9, shuffle=True,\n",
    "                     chunks=(1, 1, 1, 88200))"
   ]
  },
  {
   "cell_type": "code",
   "execution_count": 15,
   "metadata": {
    "collapsed": false
   },
   "outputs": [],
   "source": [
    "!cp RIR_NoAbsorbers_ArrayCentre_Emitters1to64.sofa rir05.hdf5\n",
    "with h5py.File('rir05.hdf5', 'r+') as f:\n",
    "    data = f['Data.IR'][...]\n",
    "    del f['Data.IR']\n",
    "    f.create_dataset('Data.IR', data=data, compression=4, shuffle=True,\n",
    "                     chunks=(1, 1, 1, 88200))"
   ]
  },
  {
   "cell_type": "code",
   "execution_count": 17,
   "metadata": {
    "collapsed": false
   },
   "outputs": [],
   "source": [
    "!cp RIR_NoAbsorbers_ArrayCentre_Emitters1to64.sofa rir06.hdf5\n",
    "with h5py.File('rir06.hdf5', 'r+') as f:\n",
    "    data = f['Data.IR'][...]\n",
    "    del f['Data.IR']\n",
    "    f.create_dataset('Data.IR', data=data, dtype='float32', compression=9,\n",
    "                     shuffle=True, chunks=(1, 1, 1, 88200))"
   ]
  },
  {
   "cell_type": "code",
   "execution_count": 21,
   "metadata": {
    "collapsed": false
   },
   "outputs": [],
   "source": [
    "!cp RIR_NoAbsorbers_ArrayCentre_Emitters1to64.sofa rir07.hdf5\n",
    "with h5py.File('rir07.hdf5', 'r+') as f:\n",
    "    data = f['Data.IR'][...]\n",
    "    del f['Data.IR']\n",
    "    f.create_dataset('Data.IR', data=data, dtype='float32')"
   ]
  },
  {
   "cell_type": "code",
   "execution_count": 24,
   "metadata": {
    "collapsed": true
   },
   "outputs": [],
   "source": [
    "import soundfile as sf\n",
    "import numpy as np"
   ]
  },
  {
   "cell_type": "code",
   "execution_count": 25,
   "metadata": {
    "collapsed": false
   },
   "outputs": [],
   "source": [
    "sf.write('rir07.wav', np.squeeze(data).T, 44100, subtype='float')"
   ]
  },
  {
   "cell_type": "code",
   "execution_count": 26,
   "metadata": {
    "collapsed": false
   },
   "outputs": [],
   "source": [
    "sf.write('rir08.wav', np.squeeze(data).T, 44100, subtype='double')"
   ]
  },
  {
   "cell_type": "code",
   "execution_count": null,
   "metadata": {
    "collapsed": true
   },
   "outputs": [],
   "source": []
  },
  {
   "cell_type": "code",
   "execution_count": null,
   "metadata": {
    "collapsed": true
   },
   "outputs": [],
   "source": []
  },
  {
   "cell_type": "markdown",
   "metadata": {},
   "source": [
    "shape (1, 1, 64, 88200)\n",
    "\n",
    "original, chunksize (1, 1, 12, 26879): 19M\n",
    "\n",
    "no compression: 62M\n",
    "\n",
    "compression 9, default chunksize (1, 1, 2, 2757): 24M\n",
    "\n",
    "shuffle, compression 9, default chunksize (-- \" --): 20M\n",
    "\n",
    "shuffle, compression 9, chunksize (1, 1, 1, 88200): 19M\n",
    "\n",
    "same, compression 4: 19M\n",
    "\n",
    "float32: 19M?!?\n",
    "\n",
    "float32 contiguous: 41MB\n",
    "\n",
    "float WAV: 22MB\n",
    "\n",
    "double WAV: 44 MB"
   ]
  },
  {
   "cell_type": "code",
   "execution_count": null,
   "metadata": {
    "collapsed": true
   },
   "outputs": [],
   "source": []
  }
 ],
 "metadata": {
  "kernelspec": {
   "display_name": "Python 3",
   "language": "python",
   "name": "python3"
  },
  "language_info": {
   "codemirror_mode": {
    "name": "ipython",
    "version": 3
   },
   "file_extension": ".py",
   "mimetype": "text/x-python",
   "name": "python",
   "nbconvert_exporter": "python",
   "pygments_lexer": "ipython3",
   "version": "3.4.3+"
  }
 },
 "nbformat": 4,
 "nbformat_minor": 0
}
