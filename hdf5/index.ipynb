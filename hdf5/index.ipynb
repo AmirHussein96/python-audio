{
 "metadata": {
  "name": "",
  "signature": "sha256:d71cd0adf79f81b220822816bf9b51528bc87d48b497d27d648c5efcac7e0d86"
 },
 "nbformat": 3,
 "nbformat_minor": 0,
 "worksheets": [
  {
   "cells": [
    {
     "cell_type": "heading",
     "level": 1,
     "metadata": {},
     "source": [
      "The HDF5 File Format"
     ]
    },
    {
     "cell_type": "markdown",
     "metadata": {},
     "source": [
      "[back to main page](../index.ipynb)"
     ]
    },
    {
     "cell_type": "markdown",
     "metadata": {},
     "source": [
      "PyTables: http://www.pytables.org/moin\n",
      "\n",
      "h5py: http://www.h5py.org/docs/index.html"
     ]
    },
    {
     "cell_type": "markdown",
     "metadata": {},
     "source": [
      "<p xmlns:dct=\"http://purl.org/dc/terms/\">\n",
      "  <a rel=\"license\"\n",
      "     href=\"http://creativecommons.org/publicdomain/zero/1.0/\">\n",
      "    <img src=\"http://i.creativecommons.org/p/zero/1.0/88x31.png\" style=\"border-style: none;\" alt=\"CC0\" />\n",
      "  </a>\n",
      "  <br />\n",
      "  To the extent possible under law,\n",
      "  <span resource=\"[_:publisher]\" rel=\"dct:publisher\">\n",
      "    <span property=\"dct:title\">Matthias Geier</span></span>\n",
      "  has waived all copyright and related or neighboring rights to\n",
      "  this work.\n",
      "</p>"
     ]
    }
   ],
   "metadata": {}
  }
 ]
}