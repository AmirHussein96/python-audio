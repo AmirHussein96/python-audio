{
 "metadata": {
  "name": "",
  "signature": "sha256:664c31d58a325fbcb3e7c9a2cf56f2a50cbb3d1f7c3a9147189ec442ce812eb6"
 },
 "nbformat": 3,
 "nbformat_minor": 0,
 "worksheets": [
  {
   "cells": [
    {
     "cell_type": "heading",
     "level": 1,
     "metadata": {},
     "source": [
      "The HDF5 File Format"
     ]
    },
    {
     "cell_type": "markdown",
     "metadata": {},
     "source": [
      "[back to main page](../index.ipynb)"
     ]
    },
    {
     "cell_type": "markdown",
     "metadata": {},
     "source": [
      "PyTables: http://www.pytables.org/moin\n",
      "\n",
      "h5py: http://www.h5py.org/docs/index.html"
     ]
    }
   ],
   "metadata": {}
  }
 ]
}