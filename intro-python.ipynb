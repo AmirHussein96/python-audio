{
 "cells": [
  {
   "cell_type": "markdown",
   "metadata": {},
   "source": [
    "# A Short Introduction to Python"
   ]
  },
  {
   "cell_type": "markdown",
   "metadata": {},
   "source": [
    "[back to main page](https://github.com/mgeier/python-audio)\n",
    "\n",
    "Python is a general-purpose programming language.\n",
    "It is an *interpreted* language, i.e. source code is not compiled into an executable file but it is directly executed (without intermediate steps).\n",
    "A file containing Python code is normally executed by the Python *interpreter* like this:\n",
    "\n",
    "    python my_code.py\n",
    "\n",
    "Python also can also act as an interactive interpreter where you can type an run Python code line-by-line.\n",
    "It can be started by simply running\n",
    "\n",
    "    python\n",
    "\n",
    "You have the full power of Python in there, but it is not very convenient.\n",
    "A much better alternative is IPython, which is described on a separate page (find it via the main page).\n",
    "\n",
    "TODO: Python 2 vs. 3\n",
    "\n",
    "TODO: multi-paradigm: procedural, OO, a little bit functional"
   ]
  },
  {
   "cell_type": "code",
   "execution_count": null,
   "metadata": {},
   "outputs": [],
   "source": [
    "print(\"Hello World!\")"
   ]
  },
  {
   "cell_type": "code",
   "execution_count": null,
   "metadata": {},
   "outputs": [],
   "source": []
  },
  {
   "cell_type": "code",
   "execution_count": null,
   "metadata": {},
   "outputs": [],
   "source": [
    "a = 42\n",
    "a"
   ]
  },
  {
   "cell_type": "markdown",
   "metadata": {},
   "source": [
    "## Links"
   ]
  },
  {
   "cell_type": "markdown",
   "metadata": {},
   "source": [
    "TODO: more links\n",
    "\n",
    "http://python.net/~goodger/projects/pycon/2007/idiomatic/handout.html"
   ]
  }
 ],
 "metadata": {},
 "nbformat": 4,
 "nbformat_minor": 2
}
