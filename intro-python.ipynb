{
 "cells": [
  {
   "cell_type": "markdown",
   "metadata": {},
   "source": [
    "# A Short Introduction to Python"
   ]
  },
  {
   "cell_type": "markdown",
   "metadata": {},
   "source": [
    "[back to main page](https://github.com/mgeier/python-audio)\n",
    "\n",
    "Python is a general-purpose programming language.\n",
    "It is an *interpreted* language, i.e. source code is not compiled into an executable file but it is directly executed by an *interpreter*.\n",
    "A file containing Python code can be executed like this:\n",
    "\n",
    "    python my_code.py\n",
    "\n",
    "Python can also act as an interactive interpreter where you can type an run Python code line-by-line.\n",
    "It can be started by simply running\n",
    "\n",
    "    python\n",
    "\n",
    "You have the full power of Python in there, but it is not very convenient.\n",
    "A much better alternative is *IPython*, which is described on a [separate page](http://nbviewer.ipython.org/urls/raw.github.com/mgeier/python-audio/master/intro-ipython.ipynb).\n",
    "\n",
    "Actually, this very page you're just reading is a so-called *IPython notebook*, which means that you can view it either as a [static web page](http://nbviewer.ipython.org/urls/raw.github.com/mgeier/python-audio/master/intro-python.ipynb) or, if you have IPython installed locally, you can also open the [notebook file](http://raw.github.com/mgeier/python-audio/master/intro-python.ipynb) with IPython and run the code in it interactively and you can also change stuff and play around with it."
   ]
  },
  {
   "cell_type": "markdown",
   "metadata": {},
   "source": [
    "## Python 2 vs. 3"
   ]
  },
  {
   "cell_type": "markdown",
   "metadata": {},
   "source": [
    "TODO"
   ]
  },
  {
   "cell_type": "markdown",
   "metadata": {},
   "source": [
    "## Why \"Python\"?"
   ]
  },
  {
   "cell_type": "markdown",
   "metadata": {},
   "source": [
    "It is named after the famous British comedy group *Monty Python*. If that doesn't ring a bell, you should search the interwebs and watch some videos of them, they are hilarious! In Python example code, you will often find references to their sketches, e.g. a list may contain `[\"eggs\", \"bacon\", \"spam\"]` which would be a reference to [Monty Python's Spam Sketch](http://www.youtube.com/watch?v=anwy2MPT5RE)."
   ]
  },
  {
   "cell_type": "markdown",
   "metadata": {},
   "source": [
    "## Hello World!"
   ]
  },
  {
   "cell_type": "markdown",
   "metadata": {},
   "source": [
    "According to international law, every programming language tutorial has to start by showing how to print the sentence \"Hello World!\" to the screen. This is how it's done in Python:"
   ]
  },
  {
   "cell_type": "code",
   "execution_count": null,
   "metadata": {},
   "outputs": [],
   "source": [
    "print(\"Hello World!\")"
   ]
  },
  {
   "cell_type": "markdown",
   "metadata": {},
   "source": [
    "Here you can see how a function is called (more precisely, a built-in function named `print`) with one argument. Furthermore, you see how string literals are created."
   ]
  },
  {
   "cell_type": "markdown",
   "metadata": {},
   "source": [
    "But now for something completely different:"
   ]
  },
  {
   "cell_type": "markdown",
   "metadata": {},
   "source": [
    "## Numbers"
   ]
  },
  {
   "cell_type": "markdown",
   "metadata": {},
   "source": [
    "Everybody loves numbers, right? In Python, there are two types of numbers. On the one hand, there are *integers* like"
   ]
  },
  {
   "cell_type": "code",
   "execution_count": null,
   "metadata": {},
   "outputs": [],
   "source": [
    "42"
   ]
  },
  {
   "cell_type": "markdown",
   "metadata": {},
   "source": [
    "... and on the other hand, there are *floating point* numbers like"
   ]
  },
  {
   "cell_type": "code",
   "execution_count": null,
   "metadata": {},
   "outputs": [],
   "source": [
    "3.1415"
   ]
  },
  {
   "cell_type": "markdown",
   "metadata": {},
   "source": [
    "You probably know that \"everything in Python is an object\", which is also true for numbers. Numbers are objects. And every object has a type, so let's check that:"
   ]
  },
  {
   "cell_type": "code",
   "execution_count": null,
   "metadata": {},
   "outputs": [],
   "source": [
    "type(42)"
   ]
  },
  {
   "cell_type": "markdown",
   "metadata": {},
   "source": [
    "Looks close enough to \"integer\", doesn't it?"
   ]
  },
  {
   "cell_type": "code",
   "execution_count": null,
   "metadata": {},
   "outputs": [],
   "source": [
    "type(3.1415)"
   ]
  },
  {
   "cell_type": "markdown",
   "metadata": {},
   "source": [
    "... and this is supposed to mean \"floating point number\"."
   ]
  },
  {
   "cell_type": "markdown",
   "metadata": {},
   "source": [
    "If you want to convert an `int` to a `float`, you can do it like this:"
   ]
  },
  {
   "cell_type": "code",
   "execution_count": null,
   "metadata": {},
   "outputs": [],
   "source": [
    "float(42)"
   ]
  },
  {
   "cell_type": "markdown",
   "metadata": {},
   "source": [
    "TODO: infinite precision `int` (or `long`?), double precision `float`"
   ]
  },
  {
   "cell_type": "markdown",
   "metadata": {},
   "source": [
    "TODO: more numeric types in external libraries, e.g. NumPy"
   ]
  },
  {
   "cell_type": "markdown",
   "metadata": {},
   "source": [
    "To be completely honest, there is a third type of numbers built into the core of the Python language: *complex* numbers."
   ]
  },
  {
   "cell_type": "code",
   "execution_count": null,
   "metadata": {},
   "outputs": [],
   "source": [
    "2.4 + 3.1j"
   ]
  },
  {
   "cell_type": "markdown",
   "metadata": {},
   "source": [
    "Appending a lower-case `j` to a number (without a space in-between), makes it an *imaginary* number.\n",
    "Let's look at the type of the whole thing:"
   ]
  },
  {
   "cell_type": "code",
   "execution_count": null,
   "metadata": {},
   "outputs": [],
   "source": [
    "type(2.4 + 3.1j)"
   ]
  },
  {
   "cell_type": "markdown",
   "metadata": {},
   "source": [
    "A `complex` is basically a pair of `float`s, one for the *real part* and one for the *imaginary part*. Complex numbers can come in very handy when doing scientific computations."
   ]
  },
  {
   "cell_type": "markdown",
   "metadata": {},
   "source": [
    "## Operators"
   ]
  },
  {
   "cell_type": "markdown",
   "metadata": {},
   "source": [
    "Numbers are great. Let's see how they interact with each other."
   ]
  },
  {
   "cell_type": "code",
   "execution_count": null,
   "metadata": {},
   "outputs": [],
   "source": [
    "2 + 3"
   ]
  },
  {
   "cell_type": "code",
   "execution_count": null,
   "metadata": {},
   "outputs": [],
   "source": [
    "2.0 + 3.0"
   ]
  },
  {
   "cell_type": "code",
   "execution_count": null,
   "metadata": {},
   "outputs": [],
   "source": [
    "5 + 2.5"
   ]
  },
  {
   "cell_type": "code",
   "execution_count": null,
   "metadata": {},
   "outputs": [],
   "source": [
    "2 * 3"
   ]
  },
  {
   "cell_type": "code",
   "execution_count": null,
   "metadata": {},
   "outputs": [],
   "source": [
    "-4 * (3 + 1) - 0.5"
   ]
  },
  {
   "cell_type": "code",
   "execution_count": null,
   "metadata": {},
   "outputs": [],
   "source": [
    "5 / 2"
   ]
  },
  {
   "cell_type": "markdown",
   "metadata": {},
   "source": [
    "So far, not really surprising results. You can mix `int`s and `float`s. As soon as a `float` is involved, the result is also a `float`."
   ]
  },
  {
   "cell_type": "markdown",
   "metadata": {},
   "source": [
    "**Attention**: integer division behaves differently in Python 2 and Python 3!\n",
    "In Python 2, it behaved like in the programming language *C*, i.e. the result was truncated to an integer, e.g. `5 / 2` would return `2` and the result would be of type `int`.\n",
    "In Python 3, however, the behavior was changed and now even the division of two `int`s returns a `float`."
   ]
  },
  {
   "cell_type": "markdown",
   "metadata": {},
   "source": [
    "If you want the old truncating behavior of Python 2, you can use the `//` operator:"
   ]
  },
  {
   "cell_type": "code",
   "execution_count": null,
   "metadata": {},
   "outputs": [],
   "source": [
    "5 // 2"
   ]
  },
  {
   "cell_type": "markdown",
   "metadata": {},
   "source": [
    "On the other hand, if you want the new behaviour in Python 2, just write this line before your calculations:\n",
    "    \n",
    "```python\n",
    "from __future__ import division\n",
    "```\n",
    "\n",
    "Alternatively, you can of course also just convert one of the operands (or both) to `float` beforehand."
   ]
  },
  {
   "cell_type": "markdown",
   "metadata": {},
   "source": [
    "Let's see, what else do we have?\n",
    "Powers, for example. While you might be used to the `^` operator from other languages, Python uses `**` for that. The `^` operator is a very different thing, namely logical *xor*. Don't confuse the two!"
   ]
  },
  {
   "cell_type": "code",
   "execution_count": null,
   "metadata": {},
   "outputs": [],
   "source": [
    "3 ** 2"
   ]
  },
  {
   "cell_type": "markdown",
   "metadata": {},
   "source": [
    "Of course, there is also a *modulo* operator:"
   ]
  },
  {
   "cell_type": "code",
   "execution_count": null,
   "metadata": {},
   "outputs": [],
   "source": [
    "13 % 4"
   ]
  },
  {
   "cell_type": "markdown",
   "metadata": {},
   "source": [
    "Besides the these *arithmetic operators*, there are also *comparison operators* which return *boolean* values."
   ]
  },
  {
   "cell_type": "code",
   "execution_count": null,
   "metadata": {},
   "outputs": [],
   "source": [
    "3 > 4"
   ]
  },
  {
   "cell_type": "code",
   "execution_count": null,
   "metadata": {},
   "outputs": [],
   "source": [
    "3 <= 4"
   ]
  },
  {
   "cell_type": "code",
   "execution_count": null,
   "metadata": {},
   "outputs": [],
   "source": [
    "3 + 1 == 4"
   ]
  },
  {
   "cell_type": "markdown",
   "metadata": {},
   "source": [
    "## Strings"
   ]
  },
  {
   "cell_type": "markdown",
   "metadata": {},
   "source": [
    "As we saw above, strings can be written using double quotes:"
   ]
  },
  {
   "cell_type": "code",
   "execution_count": null,
   "metadata": {},
   "outputs": [],
   "source": [
    "\"Hello, World!\""
   ]
  },
  {
   "cell_type": "markdown",
   "metadata": {},
   "source": [
    "However, it's also possible to write them with single quotes:"
   ]
  },
  {
   "cell_type": "code",
   "execution_count": null,
   "metadata": {},
   "outputs": [],
   "source": [
    "'Hello, World!'"
   ]
  },
  {
   "cell_type": "markdown",
   "metadata": {},
   "source": [
    "To the Python interpreter, this doesn't make a difference. It is, however, common to use double quotes for strings containing natural language and anything that is at some point presented to the user. Single quotes are normally used for short strings which only appear inside a program."
   ]
  },
  {
   "cell_type": "markdown",
   "metadata": {},
   "source": [
    "Both variants have the type `str`:"
   ]
  },
  {
   "cell_type": "code",
   "execution_count": null,
   "metadata": {},
   "outputs": [],
   "source": [
    "type(\"Hello, World!\")"
   ]
  },
  {
   "cell_type": "markdown",
   "metadata": {},
   "source": [
    "You can use `str()` to convert any object to a string:"
   ]
  },
  {
   "cell_type": "code",
   "execution_count": null,
   "metadata": {},
   "outputs": [],
   "source": [
    "str(42)"
   ]
  },
  {
   "cell_type": "markdown",
   "metadata": {},
   "source": [
    "There is a special notation for writing multi-line string literals using triple double quotes:"
   ]
  },
  {
   "cell_type": "code",
   "execution_count": null,
   "metadata": {},
   "outputs": [],
   "source": [
    "\"\"\"One,\n",
    "two,\n",
    "three lines\"\"\""
   ]
  },
  {
   "cell_type": "markdown",
   "metadata": {},
   "source": [
    "The same can also be written with triple single quotes, but this is much less common."
   ]
  },
  {
   "cell_type": "markdown",
   "metadata": {},
   "source": [
    "Strings can be concatenated with the `+` operator:"
   ]
  },
  {
   "cell_type": "code",
   "execution_count": null,
   "metadata": {},
   "outputs": [],
   "source": [
    "\"Hello\" + \",\" + \" \" + \"World\" + \"!\""
   ]
  },
  {
   "cell_type": "markdown",
   "metadata": {},
   "source": [
    "The `*` operator (followed by an `int`) has a special meaning for a `str`:"
   ]
  },
  {
   "cell_type": "code",
   "execution_count": null,
   "metadata": {},
   "outputs": [],
   "source": [
    "\"#\" * 79"
   ]
  },
  {
   "cell_type": "markdown",
   "metadata": {},
   "source": [
    "Unlike in many other programming languages, there is no separate type for single characters in Python. Single characters are simply written as strings which happen to contain only one character."
   ]
  },
  {
   "cell_type": "markdown",
   "metadata": {},
   "source": [
    "There is much more to say about strings. To learn more about them, have a look at the [official `str` documentation](https://docs.python.org/3.3/library/stdtypes.html#textseq)."
   ]
  },
  {
   "cell_type": "markdown",
   "metadata": {},
   "source": [
    "## Lists"
   ]
  },
  {
   "cell_type": "markdown",
   "metadata": {},
   "source": [
    "A `list` is a container that can hold arbitrary objects. A `list` can be created by putting objects, separated by commas, between a pair of brackets."
   ]
  },
  {
   "cell_type": "code",
   "execution_count": null,
   "metadata": {},
   "outputs": [],
   "source": [
    "[42, 3.1415, \"Ni!\"]"
   ]
  },
  {
   "cell_type": "markdown",
   "metadata": {},
   "source": [
    "An empty list looks like this:"
   ]
  },
  {
   "cell_type": "code",
   "execution_count": null,
   "metadata": {},
   "outputs": [],
   "source": [
    "[]"
   ]
  },
  {
   "cell_type": "markdown",
   "metadata": {},
   "source": [
    "Of course, a list can also have just a single element:"
   ]
  },
  {
   "cell_type": "code",
   "execution_count": null,
   "metadata": {},
   "outputs": [],
   "source": [
    "[7]"
   ]
  },
  {
   "cell_type": "markdown",
   "metadata": {},
   "source": [
    "To concatenate multiple lists, the `+` operator can be used:"
   ]
  },
  {
   "cell_type": "code",
   "execution_count": null,
   "metadata": {},
   "outputs": [],
   "source": [
    "[1, 2] + [3] + [4, 5, 6]"
   ]
  },
  {
   "cell_type": "markdown",
   "metadata": {},
   "source": [
    "Similar to strings, you can also use the `*` operator (followed by an `int`) to repeat lists:"
   ]
  },
  {
   "cell_type": "code",
   "execution_count": null,
   "metadata": {},
   "outputs": [],
   "source": [
    "[1, 2, 3] * 5"
   ]
  },
  {
   "cell_type": "markdown",
   "metadata": {},
   "source": [
    "Like everything else, lists are also objects, and they have a type:"
   ]
  },
  {
   "cell_type": "code",
   "execution_count": null,
   "metadata": {},
   "outputs": [],
   "source": [
    "type([1, 2, 3])"
   ]
  },
  {
   "cell_type": "markdown",
   "metadata": {},
   "source": [
    "We can use `list()` to create a list from some other object (which must be *iterable*):"
   ]
  },
  {
   "cell_type": "code",
   "execution_count": null,
   "metadata": {},
   "outputs": [],
   "source": [
    "list(\"Hello, World!\")"
   ]
  },
  {
   "cell_type": "markdown",
   "metadata": {},
   "source": [
    "Lists are *mutable* data structures, i.e. their elements can be changed. But more about that later ..."
   ]
  },
  {
   "cell_type": "markdown",
   "metadata": {},
   "source": [
    "## Tuples"
   ]
  },
  {
   "cell_type": "markdown",
   "metadata": {},
   "source": [
    "Tuples are quite similar to `list`s, with the main difference that they are *immutable* data structures, i.e. their content cannot be changed. Some objects, separated by commas, create a tuple:"
   ]
  },
  {
   "cell_type": "code",
   "execution_count": null,
   "metadata": {},
   "outputs": [],
   "source": [
    "42, 3.1415, \"Ni!\""
   ]
  },
  {
   "cell_type": "markdown",
   "metadata": {},
   "source": [
    "Just like lists, tuples can also hold arbitrary objects."
   ]
  },
  {
   "cell_type": "markdown",
   "metadata": {},
   "source": [
    "Tuples are often enclosed in parentheses, but those are only really required if otherwise the code would be ambiguous, e.g. when creating a tuple of tuples:"
   ]
  },
  {
   "cell_type": "code",
   "execution_count": null,
   "metadata": {},
   "outputs": [],
   "source": [
    "1, (2, 3), 4"
   ]
  },
  {
   "cell_type": "markdown",
   "metadata": {},
   "source": [
    "Another situation where parentheses are obligatory, are empty tuples:"
   ]
  },
  {
   "cell_type": "code",
   "execution_count": null,
   "metadata": {},
   "outputs": [],
   "source": [
    "()"
   ]
  },
  {
   "cell_type": "markdown",
   "metadata": {},
   "source": [
    "**Attention**: Putting a single item between parentheses does not create a tuple!"
   ]
  },
  {
   "cell_type": "code",
   "execution_count": null,
   "metadata": {},
   "outputs": [],
   "source": [
    "(7)"
   ]
  },
  {
   "cell_type": "markdown",
   "metadata": {},
   "source": [
    "This is because a non-empty tuple is created with an obligatory comma, the parentheses are optional:"
   ]
  },
  {
   "cell_type": "code",
   "execution_count": null,
   "metadata": {},
   "outputs": [],
   "source": [
    "7,"
   ]
  },
  {
   "cell_type": "markdown",
   "metadata": {},
   "source": [
    "Like `str` and `list`, `tuple`s can be concatenated with the `+` operator and repeated with `*`:"
   ]
  },
  {
   "cell_type": "code",
   "execution_count": null,
   "metadata": {},
   "outputs": [],
   "source": [
    "(1, 2) + (3,) * 5"
   ]
  },
  {
   "cell_type": "markdown",
   "metadata": {},
   "source": [
    "Note that the parentheses are obligatory in this case."
   ]
  },
  {
   "cell_type": "markdown",
   "metadata": {},
   "source": [
    "It should come as no surprise that tuples also have a type:"
   ]
  },
  {
   "cell_type": "code",
   "execution_count": null,
   "metadata": {},
   "outputs": [],
   "source": [
    "type((1, 2, 3))"
   ]
  },
  {
   "cell_type": "markdown",
   "metadata": {},
   "source": [
    "Note that when used as a function argument, the tuple has to be enclosed in parentheses (otherwise it would be interpreted as a function call with multiple arguments)."
   ]
  },
  {
   "cell_type": "markdown",
   "metadata": {},
   "source": [
    "## Expressions vs. Statements"
   ]
  },
  {
   "cell_type": "markdown",
   "metadata": {},
   "source": [
    "When you write Python code, you write a sequence of *statements*.\n",
    "There are several different kinds of statements, some of which will be explained in this notebook.\n",
    "\n",
    "What we were seeing up to now were *expression statements*.\n",
    "Each of the code cells above holds an expression.\n",
    "Simply put, an *expression* is a piece of code that can be evaluated which leads to some *value*.\n",
    "\n",
    "Other kinds of statements can be used to control program flow, define functions and classes, raise exceptions etc.\n",
    "\n",
    "Let's continue with a very important statement: the *assignment statement*."
   ]
  },
  {
   "cell_type": "markdown",
   "metadata": {},
   "source": [
    "## Assignment"
   ]
  },
  {
   "cell_type": "markdown",
   "metadata": {},
   "source": [
    "Assignment may seem to be a trivial topic, but there are some subtleties involved.\n",
    "So please bear with me, since this is essential stuff.\n",
    "\n",
    "Note that assignment is a *statement* and not an *operator*.\n",
    "An assignment cannot be used as part of an *expression*.\n",
    "This may be surprising if you're used to programming in C or similar programming languages.\n",
    "If not, it might seem quite straightforward, though.\n",
    "\n",
    "An assignment statement consists of three things:\n",
    "\n",
    "* a single equals sign (`=`, not to be confused with the above-mentioned equality operator `==`),\n",
    "* *something on the left* of the equals sign and\n",
    "* *an expression* on the right of the equals sign.\n",
    "\n",
    "The part to the right is easy, this can be just any *expression*, e.g. any of the expressions from above could be on the right side of an assignment.\n",
    "\n",
    "The \"*something on the left*\" is the more interesting part.\n",
    "This can be one of several quite different things, which are described in the following sections.\n",
    "For all the gory details, have a look in [the official Python documentation](http://docs.python.org/3/reference/simple_stmts.html#assignment-statements)."
   ]
  },
  {
   "cell_type": "markdown",
   "metadata": {},
   "source": [
    "### Identifiers (a.k.a. Names)"
   ]
  },
  {
   "cell_type": "markdown",
   "metadata": {},
   "source": [
    "The *\"something on the left\"* can be a so-called *identifier*.\n",
    "This is a *name* that can be *bound* to an object.\n",
    "An *identifier* may only contain letters, numbers and underscores and it must not start with a number."
   ]
  },
  {
   "cell_type": "code",
   "execution_count": null,
   "metadata": {},
   "outputs": [],
   "source": [
    "answer = 7 * 6"
   ]
  },
  {
   "cell_type": "markdown",
   "metadata": {},
   "source": [
    "In this example, the expression to the right of the equals sign is evaluated, creating a new object (of type `int`) with the value `42`.\n",
    "The assignment statement *binds* the identifier `answer` to this new object.\n",
    "\n",
    "Note that the identifier `answer` didn't exist before.\n",
    "In Python, it's not necessary to *declare* identifiers, new identifiers are created by just assigning to them.\n",
    "\n",
    "Once a name has been assigned, it can be used in an expression, as a *reference* to the original object:"
   ]
  },
  {
   "cell_type": "code",
   "execution_count": null,
   "metadata": {},
   "outputs": [],
   "source": [
    "answer > 50"
   ]
  },
  {
   "cell_type": "markdown",
   "metadata": {},
   "source": [
    "Sometimes, when we want to speak about an *identifier*, we make the mistake of using the word *variable*.\n",
    "This is a term known from other programming languages, where it means \"a box where we can store a certain type of value in\".\n",
    "Over the course of a program, we can put different values into this box, that's why it's called \"variable\".\n",
    "For example, in the programming language C it might look something like this:\n",
    "\n",
    "```C\n",
    "int answer;\n",
    "answer = 7 * 6;\n",
    "```\n",
    "\n",
    "In this code snippet, a *variable* named `answer` is first *declared*.\n",
    "At this point, the *type* of the variable has to be specified.\n",
    "Later, a value (of the correct type) is assigned to the variable.\n",
    "\n",
    "> Note: This is actually bad style.\n",
    "> You should never declare an uninitialized variable, because if you forget to assign a value to it, this might lead to very strange and hard-to-find errors.\n",
    "> In this example, it would be better to do the declaration and initialization in one statement:\n",
    ">\n",
    "> ```C\n",
    "> int answer = 7 * 6;\n",
    "> ```\n",
    ">\n",
    "> Anyway, this isn't a C tutorial ...\n",
    "\n",
    "In this C-example, the *variable* named `answer` is actually a \"box where we can store an `int` value\".\n",
    "And later, if we feel like it, we can put another value into the box.\n",
    "\n",
    "In Python, this is different.\n",
    "The *identifier* named `answer` is not a \"box\".\n",
    "It is rather a \"label\", similar to a sticky note which we can stick onto an (already existing) object.\n",
    "In our example, we stick it to an object that has the type `int` and the value `42`.\n",
    "The object itself doesn't have a name (it just has a memory address), but we can *bind* a name to it, in our example the name `answer`."
   ]
  },
  {
   "cell_type": "markdown",
   "metadata": {},
   "source": [
    "Now what happens in the following statement?"
   ]
  },
  {
   "cell_type": "code",
   "execution_count": null,
   "metadata": {},
   "outputs": [],
   "source": [
    "type(answer)"
   ]
  },
  {
   "cell_type": "markdown",
   "metadata": {},
   "source": [
    "It looks like the *identifier* `answer` has a *type* after all!\n",
    "\n",
    "But strictly speaking, this isn't true.\n",
    "An identifier is one of the few things in Python that isn't an object.\n",
    "Therefore, it doesn't have a *type*, either.\n",
    "However, an *identifier* is always *bound* to an object.\n",
    "In other words, an *identifier* is a *reference* to an object.\n",
    "Whenever we use an *identifier*, it is as if we were using the actual referenced object instead.\n",
    "This is why the previous statement returned `int`, which isn't the type of the *identifier* but the type of the object it's bound to.\n",
    "\n",
    "The only place where an identifier is *not* treated like the object it's bound to, is on the left side of an *assignment statement*.\n",
    "That's also the reason why assignment is not (and cannot be) an *operator* and why it cannot be used as part of an expression."
   ]
  },
  {
   "cell_type": "markdown",
   "metadata": {},
   "source": [
    "We learned that a new identifier can be created by just using a name that hasn't been used before in an assignment statement.\n",
    "\n",
    "But what happens if we assign to a name that has already been used?"
   ]
  },
  {
   "cell_type": "code",
   "execution_count": null,
   "metadata": {},
   "outputs": [],
   "source": [
    "answer = \"Sir Lancelot of Camelot\""
   ]
  },
  {
   "cell_type": "markdown",
   "metadata": {},
   "source": [
    "Well, nothing special.\n",
    "The name `answer` is just *re-bound* to the object at the right side of the equals sign.\n",
    "\n",
    "Here we also see that the identifier itself doesn't have a type, it's just a label that is bound to some object.\n",
    "The objects themselves do have types; the previous one was of type `int` while the new one is of type `str`."
   ]
  },
  {
   "cell_type": "code",
   "execution_count": null,
   "metadata": {},
   "outputs": [],
   "source": [
    "type(answer)"
   ]
  },
  {
   "cell_type": "markdown",
   "metadata": {},
   "source": [
    "So what happened to the `int` object with the value `42`?\n",
    "\n",
    "We cannot access it anymore, because we don't have an identifier that references it.\n",
    "Have a look at [Garbage Collection](#Garbage-Collection) below to see what the Python interpreter does with objects which are not bound to any name."
   ]
  },
  {
   "cell_type": "markdown",
   "metadata": {},
   "source": [
    "Note that an identifier is only treated specially on the left side of an assignment statement.\n",
    "The right side of the assignment statement is just a normal expression which can contain other identifiers (or even the same identifier that is going to be re-bound on the left)."
   ]
  },
  {
   "cell_type": "code",
   "execution_count": null,
   "metadata": {},
   "outputs": [],
   "source": [
    "greeting = answer + \", nice to meet you!\""
   ]
  },
  {
   "cell_type": "code",
   "execution_count": null,
   "metadata": {},
   "outputs": [],
   "source": [
    "greeting = \"My name is \" + greeting"
   ]
  },
  {
   "cell_type": "markdown",
   "metadata": {},
   "source": [
    "Since assignment is a statement, and statements don't return values, we don't see the value of the new object where `greeting` is bound to.\n",
    "To see that, we can use it in an expression:"
   ]
  },
  {
   "cell_type": "code",
   "execution_count": null,
   "metadata": {},
   "outputs": [],
   "source": [
    "greeting"
   ]
  },
  {
   "cell_type": "markdown",
   "metadata": {},
   "source": [
    "Of course, one object can have multiple labels stuck to it:"
   ]
  },
  {
   "cell_type": "code",
   "execution_count": null,
   "metadata": {},
   "outputs": [],
   "source": [
    "the_same_greeting = greeting"
   ]
  },
  {
   "cell_type": "code",
   "execution_count": null,
   "metadata": {},
   "outputs": [],
   "source": [
    "the_same_greeting"
   ]
  },
  {
   "cell_type": "markdown",
   "metadata": {},
   "source": [
    "Obviously, the returned string has exactly the same characters.\n",
    "In other words, it's *equal* to `greeting`.\n",
    "We can check this with the *equality operator*:"
   ]
  },
  {
   "cell_type": "code",
   "execution_count": null,
   "metadata": {},
   "outputs": [],
   "source": [
    "greeting == the_same_greeting"
   ]
  },
  {
   "cell_type": "markdown",
   "metadata": {},
   "source": [
    "But the two are more than equal!\n",
    "They are actually two different names for the same object.\n",
    "To show that, we can check Python's internal representation of the objects.\n",
    "Each object that's currently existing in the Python interpreter, has a unique ID, which we can query with the `id()` function:"
   ]
  },
  {
   "cell_type": "code",
   "execution_count": null,
   "metadata": {},
   "outputs": [],
   "source": [
    "id(greeting)"
   ]
  },
  {
   "cell_type": "code",
   "execution_count": null,
   "metadata": {},
   "outputs": [],
   "source": [
    "id(the_same_greeting)"
   ]
  },
  {
   "cell_type": "markdown",
   "metadata": {},
   "source": [
    "As we can see, the two objects have the same ID, so it's actually just one object that happens to have two names bound to it.\n",
    "\n",
    "Python even has a special operator for checking if two objects are actually the same object: the *identity operator*."
   ]
  },
  {
   "cell_type": "code",
   "execution_count": null,
   "metadata": {},
   "outputs": [],
   "source": [
    "greeting is the_same_greeting"
   ]
  },
  {
   "cell_type": "markdown",
   "metadata": {},
   "source": [
    "We normally don't care about the actual IDs, if we want to see if two objects are *identical* (which is not the same as *equal*!), we use the `is`-operator."
   ]
  },
  {
   "cell_type": "markdown",
   "metadata": {},
   "source": [
    "If you want to bind several names to one object in one go, you can use a special form of the assignment statement that uses multiple equals signs:"
   ]
  },
  {
   "cell_type": "code",
   "execution_count": null,
   "metadata": {},
   "outputs": [],
   "source": [
    "one = two = three = \"data\""
   ]
  },
  {
   "cell_type": "markdown",
   "metadata": {},
   "source": [
    "Now all of the identifiers are bound to the same `str` object.\n",
    "You may not need that very often, but it's still good to know."
   ]
  },
  {
   "cell_type": "markdown",
   "metadata": {},
   "source": [
    "Let's recap:\n",
    "An *identifier* in Python isn't a *box* where we can put values into, it's rather a *label* that we attach to an existing object.\n",
    "When assigning to an already existing identifier, we do not change any object, we just stick the *label* onto a different object.\n",
    "We'll see a bit further down how we can actually modify objects."
   ]
  },
  {
   "cell_type": "markdown",
   "metadata": {},
   "source": [
    "### Multiple Identifiers"
   ]
  },
  {
   "cell_type": "markdown",
   "metadata": {},
   "source": [
    "Binding a name to an object is nothing special; nearly every programming language can do that in one form or another.\n",
    "\n",
    "But Python has a very nice additional feature that not many other languages have, that allows to bind *multiple* identifiers to a sequence of objects.\n",
    "Some people also calle this *tuple unpacking*."
   ]
  },
  {
   "cell_type": "code",
   "execution_count": null,
   "metadata": {},
   "outputs": [],
   "source": [
    "a, b, c = 42, 3.1415, \"Ni!\""
   ]
  },
  {
   "cell_type": "markdown",
   "metadata": {},
   "source": [
    "This can also be used to easily swap things:"
   ]
  },
  {
   "cell_type": "code",
   "execution_count": null,
   "metadata": {},
   "outputs": [],
   "source": [
    "b, c = c, b"
   ]
  },
  {
   "cell_type": "code",
   "execution_count": null,
   "metadata": {},
   "outputs": [],
   "source": [
    "b"
   ]
  },
  {
   "cell_type": "markdown",
   "metadata": {},
   "source": [
    "On the right side, there can be any *iterable* object.\n",
    "We already know a few iterable things: a tuple, a list, a string; but there are many more iterable objects out there, just waiting to be discovered!\n",
    "\n",
    "On the left side, there are several identifiers, separated by commas.\n",
    "They can optionally be enclosed in parentheses or brackes.\n",
    "The number of identifiers must be the same as items in the iterable object on the right.\n",
    "If not, an error is raised.\n",
    "\n",
    "But there is an exception: one of the identifiers may be prefixed with an asterisk, which means that the identifier receives a list of the remaining values, regardless how many they are (the list can also be empty).\n",
    "Maybe this is best shown in an example:"
   ]
  },
  {
   "cell_type": "code",
   "execution_count": null,
   "metadata": {},
   "outputs": [],
   "source": [
    "first, *middle, last = \"hello\""
   ]
  },
  {
   "cell_type": "code",
   "execution_count": null,
   "metadata": {},
   "outputs": [],
   "source": [
    "middle"
   ]
  },
  {
   "cell_type": "markdown",
   "metadata": {},
   "source": [
    "That's great, isn't it?\n",
    "\n",
    "Note, however, that the thing with the starred identifier is only available since Python 3.0.\n",
    "\n",
    "In this example you can see that a string can also be unpacked, since it is *iterable*."
   ]
  },
  {
   "cell_type": "markdown",
   "metadata": {},
   "source": [
    "### Attribute References"
   ]
  },
  {
   "cell_type": "markdown",
   "metadata": {},
   "source": [
    "Every object has attributes.\n",
    "They can be accessed by placing a dot (`.`) and the identifier of the attribute after the object.\n",
    "\n",
    "If an attribute reference is the \"*something on the left*\" of the equals sign in an assignment statement, it is bound to the object on the right of the equals sign.\n",
    "If an attribute with the given name doesn't yet exist, it is created.\n",
    "\n",
    "Note, however, that not all objects allow attribute assignment and even if they do, only a few special attribute may be allowed to assign to.\n",
    "\n",
    "It is especially hard to find objects that allow attribute assignment within the built-in types we've seen so far.\n",
    "We didn't learn yet how to import stuff from the standard library nor from external libraries; we didn't learn how to create our own classes.\n",
    "\n",
    "Without explaining any of this, I couldn't find an example that shows attribute assignment.\n",
    "Bad luck.\n",
    "But I guess you'll understand it anyway, even without an example."
   ]
  },
  {
   "cell_type": "markdown",
   "metadata": {},
   "source": [
    "### Element Access (a.k.a. Subscription)"
   ]
  },
  {
   "cell_type": "markdown",
   "metadata": {},
   "source": [
    "tuples, strings: immutable"
   ]
  },
  {
   "cell_type": "markdown",
   "metadata": {},
   "source": [
    "### Slicing"
   ]
  },
  {
   "cell_type": "markdown",
   "metadata": {},
   "source": [
    "## Augmented Assignment"
   ]
  },
  {
   "cell_type": "markdown",
   "metadata": {},
   "source": [
    "https://docs.python.org/3/reference/simple_stmts.html#augmented-assignment-statements"
   ]
  },
  {
   "cell_type": "markdown",
   "metadata": {},
   "source": [
    "## Garbage Collection"
   ]
  },
  {
   "cell_type": "markdown",
   "metadata": {},
   "source": [
    "## Functions"
   ]
  },
  {
   "cell_type": "code",
   "execution_count": null,
   "metadata": {},
   "outputs": [],
   "source": [
    "# docstrings"
   ]
  },
  {
   "cell_type": "code",
   "execution_count": null,
   "metadata": {},
   "outputs": [],
   "source": [
    "# built-in functions"
   ]
  },
  {
   "cell_type": "markdown",
   "metadata": {},
   "source": [
    "## Boolean Values"
   ]
  },
  {
   "cell_type": "markdown",
   "metadata": {},
   "source": [
    "## More Operators"
   ]
  },
  {
   "cell_type": "markdown",
   "metadata": {},
   "source": [
    "logic (boolean) operators, in, not in, bit-wise operators"
   ]
  },
  {
   "cell_type": "markdown",
   "metadata": {},
   "source": [
    "## `if` Statements"
   ]
  },
  {
   "cell_type": "markdown",
   "metadata": {},
   "source": [
    "## Significant Whitespace"
   ]
  },
  {
   "cell_type": "markdown",
   "metadata": {},
   "source": [
    "## Loops"
   ]
  },
  {
   "cell_type": "markdown",
   "metadata": {},
   "source": [
    "## Dictionaries"
   ]
  },
  {
   "cell_type": "markdown",
   "metadata": {},
   "source": [
    "## Sets"
   ]
  },
  {
   "cell_type": "markdown",
   "metadata": {},
   "source": [
    "## None"
   ]
  },
  {
   "cell_type": "markdown",
   "metadata": {},
   "source": [
    "## Exceptions"
   ]
  },
  {
   "cell_type": "markdown",
   "metadata": {},
   "source": [
    "## Modules"
   ]
  },
  {
   "cell_type": "markdown",
   "metadata": {},
   "source": [
    "## Classes"
   ]
  },
  {
   "cell_type": "markdown",
   "metadata": {},
   "source": [
    "## PEP 8"
   ]
  },
  {
   "cell_type": "markdown",
   "metadata": {},
   "source": [
    "## Many More Things ..."
   ]
  },
  {
   "cell_type": "markdown",
   "metadata": {},
   "source": [
    "* string formatting\n",
    "* list/set/dict comprehensions\n",
    "* iterators\n",
    "* generators\n",
    "* generator expressions\n",
    "* `if`/`else` expressions\n",
    "* anonymous functions (a.k.a. `lambda`s)\n",
    "* bytes\n",
    "* `*args`, `**kwargs`\n",
    "* static methods, class methods\n",
    "* \"special\" methods, operator overloading\n",
    "* properties, descriptors\n",
    "* metaclasses\n",
    "* ..."
   ]
  }
 ],
 "metadata": {},
 "nbformat": 4,
 "nbformat_minor": 2
}
