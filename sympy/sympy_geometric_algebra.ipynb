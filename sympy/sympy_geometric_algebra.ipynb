{
 "cells": [
  {
   "cell_type": "markdown",
   "metadata": {},
   "source": [
    "Just some random stuff from the interwebs ..."
   ]
  },
  {
   "cell_type": "code",
   "execution_count": null,
   "metadata": {},
   "outputs": [],
   "source": [
    "import sympy\n",
    "from sympy.galgebra.ga import *\n",
    "sympy.init_printing()\n",
    "Format(ipy=True)\n",
    "def MVlatex(mv, *args) :\n",
    "    mv.base_to_blade()\n",
    "    return '$$'+str(mv).replace(r'\\W', r'\\wedge').replace(r'\\bm', r'\\boldsymbol').replace(r'\\lp',r'\\left(').replace(r'\\rp',r'\\right)')+'$$'\n",
    "MV._repr_latex_ = MVlatex"
   ]
  },
  {
   "cell_type": "code",
   "execution_count": null,
   "metadata": {},
   "outputs": [],
   "source": [
    "metric = '1 0 0, 0 1 0, 0 0 1'\n",
    "gamma_x, gamma_y, gamma_z = MV.setup('gamma_x gamma_y gamma_z', metric)\n",
    "gamma_x ^ gamma_y"
   ]
  },
  {
   "cell_type": "code",
   "execution_count": null,
   "metadata": {},
   "outputs": [],
   "source": [
    "3 * gamma_x * gamma_y / 2 + (gamma_z ^ gamma_x)"
   ]
  },
  {
   "cell_type": "code",
   "execution_count": null,
   "metadata": {},
   "outputs": [],
   "source": [
    "a, b, c, d, e = MV.setup('a b c d e')"
   ]
  },
  {
   "cell_type": "code",
   "execution_count": null,
   "metadata": {},
   "outputs": [],
   "source": [
    "e|(a^b)"
   ]
  },
  {
   "cell_type": "code",
   "execution_count": null,
   "metadata": {},
   "outputs": [],
   "source": [
    "a|b^c"
   ]
  },
  {
   "cell_type": "code",
   "execution_count": null,
   "metadata": {},
   "outputs": [],
   "source": [
    "a|b^c^d"
   ]
  },
  {
   "cell_type": "code",
   "execution_count": null,
   "metadata": {},
   "outputs": [],
   "source": [
    "a|b^c^d^e"
   ]
  },
  {
   "cell_type": "code",
   "execution_count": null,
   "metadata": {},
   "outputs": [],
   "source": []
  }
 ],
 "metadata": {},
 "nbformat": 4,
 "nbformat_minor": 2
}
