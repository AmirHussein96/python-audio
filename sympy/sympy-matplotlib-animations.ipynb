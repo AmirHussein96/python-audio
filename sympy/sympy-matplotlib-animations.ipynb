{
 "cells": [
  {
   "cell_type": "markdown",
   "metadata": {},
   "source": [
    "# Creating Animations with SymPy and Matplotlib\n",
    "\n",
    "[back to SymPy page](index.ipynb)\n",
    "\n",
    "[General information about Matplotlib animations](../plotting/matplotlib-animation.ipynb)\n",
    "\n",
    "By default, SymPy uses Matplotlib for plotting,\n",
    "but it is not quite straightforward to create\n",
    "Matplotlib animations from SymPy plots.\n",
    "\n",
    "This notebook shows a few ways how to get those animations running.\n",
    "\n",
    "First, let's import some stuff from Matplotlib:"
   ]
  },
  {
   "cell_type": "code",
   "execution_count": null,
   "metadata": {},
   "outputs": [],
   "source": [
    "from matplotlib.animation import FuncAnimation\n",
    "import matplotlib.pyplot as plt"
   ]
  },
  {
   "cell_type": "markdown",
   "metadata": {},
   "source": [
    "... and some stuff from SymPy:"
   ]
  },
  {
   "cell_type": "code",
   "execution_count": null,
   "metadata": {},
   "outputs": [],
   "source": [
    "import sympy as sp\n",
    "from sympy.plotting.plot import MatplotlibBackend"
   ]
  },
  {
   "cell_type": "code",
   "execution_count": null,
   "metadata": {},
   "outputs": [],
   "source": [
    "x = sp.symbols('x')"
   ]
  },
  {
   "cell_type": "markdown",
   "metadata": {},
   "source": [
    "Here we want to use JavaScript-based animations, for other options see\n",
    "[the Matplotlib animation notebook](../plotting/matplotlib-animation.ipynb)."
   ]
  },
  {
   "cell_type": "code",
   "execution_count": null,
   "metadata": {},
   "outputs": [],
   "source": [
    "plt.rcParams['animation.html'] = 'jshtml'"
   ]
  },
  {
   "cell_type": "markdown",
   "metadata": {},
   "source": [
    "## Changing the Plotted Expression\n",
    "\n",
    "One way for creating an animation is to create a single\n",
    "[Plot](https://docs.sympy.org/latest/modules/plotting.html#sympy.plotting.plot.Plot) object\n",
    "and later change the associated SymPy expression for each frame.\n",
    "\n",
    "When we create the `Plot` object,\n",
    "we just use a dummy expression,\n",
    "but we should already select the desired range.\n",
    "\n",
    "Note that we only want to get the `Plot` object,\n",
    "we don't want to actually show the plot yet."
   ]
  },
  {
   "cell_type": "code",
   "execution_count": null,
   "metadata": {},
   "outputs": [],
   "source": [
    "p = sp.plot(0, (x, 0, 2 * sp.pi), show=False)"
   ]
  },
  {
   "cell_type": "markdown",
   "metadata": {},
   "source": [
    "Normally, SymPy takes care of the plotting backend automatically,\n",
    "but here we want to explicitly control the backend."
   ]
  },
  {
   "cell_type": "code",
   "execution_count": null,
   "metadata": {},
   "outputs": [],
   "source": [
    "backend = MatplotlibBackend(p)\n",
    "plt.close(backend.fig)  # Avoid showing empty plot here"
   ]
  },
  {
   "cell_type": "markdown",
   "metadata": {},
   "source": [
    "In the animation function, we simply have to switch the expression.\n",
    "\n",
    "The tricky part is that we have to manually trigger the backend\n",
    "in order to create the plot for the current frame.\n",
    "And we have to make sure the previous content of the plot is erased."
   ]
  },
  {
   "cell_type": "code",
   "execution_count": null,
   "metadata": {},
   "outputs": [],
   "source": [
    "def func(frame):\n",
    "    backend.ax.clear()\n",
    "    p[0].expr = sp.sin(x - (frame / 5))\n",
    "    # If there are multiple plots, also change p[1], p[2] etc.\n",
    "    backend.process_series()"
   ]
  },
  {
   "cell_type": "markdown",
   "metadata": {},
   "source": [
    "The rest is simple, we just have to use the `Figure` object from the SymPy backend\n",
    "to create the animation."
   ]
  },
  {
   "cell_type": "code",
   "execution_count": null,
   "metadata": {},
   "outputs": [],
   "source": [
    "ani = FuncAnimation(backend.fig, func, frames=10)"
   ]
  },
  {
   "cell_type": "code",
   "execution_count": null,
   "metadata": {},
   "outputs": [],
   "source": [
    "ani"
   ]
  },
  {
   "cell_type": "markdown",
   "metadata": {},
   "source": [
    "## Changing the Whole Plot\n",
    "\n",
    "If changing the expression isn't enough\n",
    "(e.g. if you want to change the range of a plot),\n",
    "you can use a slightly different approach."
   ]
  },
  {
   "cell_type": "code",
   "execution_count": null,
   "metadata": {},
   "outputs": [],
   "source": [
    "p = sp.plot(0, show=False)\n",
    "backend = MatplotlibBackend(p)\n",
    "plt.close(backend.fig)  # Avoid showing empty plot here"
   ]
  },
  {
   "cell_type": "code",
   "execution_count": null,
   "metadata": {},
   "outputs": [],
   "source": [
    "def func(frame):\n",
    "    backend.parent = sp.plot(sp.sin(x), (x, 0, 2 * sp.pi * (1 + frame/10)), show=False)\n",
    "    backend.process_series()"
   ]
  },
  {
   "cell_type": "code",
   "execution_count": null,
   "metadata": {},
   "outputs": [],
   "source": [
    "ani = FuncAnimation(backend.fig, func, frames=10)"
   ]
  },
  {
   "cell_type": "code",
   "execution_count": null,
   "metadata": {},
   "outputs": [],
   "source": [
    "ani"
   ]
  },
  {
   "cell_type": "markdown",
   "metadata": {},
   "source": [
    "## Plotting into an Existing Figure/Axes Object\n",
    "\n",
    "SymPy normally creates `Figure` and `Axes` objects on its own.\n",
    "\n",
    "To make it plot into an existing `Axes` object,\n",
    "we can use a trick from https://stackoverflow.com/a/46813804."
   ]
  },
  {
   "cell_type": "code",
   "execution_count": null,
   "metadata": {},
   "outputs": [],
   "source": [
    "fig, (ax1, ax2) = plt.subplots(nrows=2)\n",
    "ax1.plot([4, 9, 7, 20, 6, 33, 13, 23, 16, 62, 8]);\n",
    "ax2.spines['top'].set_color('none')\n",
    "ax2.spines['right'].set_color('none')\n",
    "ax2.spines['bottom'].set_position('zero')"
   ]
  },
  {
   "cell_type": "code",
   "execution_count": null,
   "metadata": {},
   "outputs": [],
   "source": [
    "def func(frame):\n",
    "    ax2.clear()\n",
    "    p = sp.plot(sp.sin(x - (frame / 5)), (x, 0, 2 * sp.pi), show=False)\n",
    "    backend = MatplotlibBackend(p)\n",
    "    backend.ax = ax2\n",
    "    backend.process_series()\n",
    "    plt.close(backend.fig)"
   ]
  },
  {
   "cell_type": "code",
   "execution_count": null,
   "metadata": {},
   "outputs": [],
   "source": [
    "ani = FuncAnimation(fig, func, frames=10)"
   ]
  },
  {
   "cell_type": "code",
   "execution_count": null,
   "metadata": {},
   "outputs": [],
   "source": [
    "ani"
   ]
  }
 ],
 "metadata": {
  "kernelspec": {
   "display_name": "Python 3",
   "language": "python",
   "name": "python3"
  },
  "language_info": {
   "codemirror_mode": {
    "name": "ipython",
    "version": 3
   },
   "file_extension": ".py",
   "mimetype": "text/x-python",
   "name": "python",
   "nbconvert_exporter": "python",
   "pygments_lexer": "ipython3",
   "version": "3.7.3rc1"
  }
 },
 "nbformat": 4,
 "nbformat_minor": 2
}
