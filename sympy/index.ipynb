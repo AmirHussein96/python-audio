{
 "metadata": {
  "name": "",
  "signature": "sha256:4fac1e991a7bb0b4d448aaa90c8d356399a15c332979e9e0faeeb51b80f40f17"
 },
 "nbformat": 3,
 "nbformat_minor": 0,
 "worksheets": [
  {
   "cells": [
    {
     "cell_type": "heading",
     "level": 1,
     "metadata": {},
     "source": [
      "Symbolic Algebra with SymPy"
     ]
    },
    {
     "cell_type": "markdown",
     "metadata": {},
     "source": [
      "[back to main page](../index.ipynb)"
     ]
    },
    {
     "cell_type": "markdown",
     "metadata": {},
     "source": [
      "http://docs.sympy.org/latest/tutorial/\n",
      "\n",
      "http://nbviewer.ipython.org/github/jrjohansson/scientific-python-lectures/blob/master/Lecture-5-Sympy.ipynb"
     ]
    },
    {
     "cell_type": "markdown",
     "metadata": {},
     "source": [
      "<p xmlns:dct=\"http://purl.org/dc/terms/\">\n",
      "  <a rel=\"license\"\n",
      "     href=\"http://creativecommons.org/publicdomain/zero/1.0/\">\n",
      "    <img src=\"http://i.creativecommons.org/p/zero/1.0/88x31.png\" style=\"border-style: none;\" alt=\"CC0\" />\n",
      "  </a>\n",
      "  <br />\n",
      "  To the extent possible under law,\n",
      "  <span resource=\"[_:publisher]\" rel=\"dct:publisher\">\n",
      "    <span property=\"dct:title\">Matthias Geier</span></span>\n",
      "  has waived all copyright and related or neighboring rights to\n",
      "  this work.\n",
      "</p>"
     ]
    }
   ],
   "metadata": {}
  }
 ]
}