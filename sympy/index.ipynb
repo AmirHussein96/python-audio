{
 "metadata": {
  "name": "",
  "signature": "sha256:3de0209bf9c04c8d891d48a4114ba74920cb7770ba804ebfe72874a6b5595f14"
 },
 "nbformat": 3,
 "nbformat_minor": 0,
 "worksheets": [
  {
   "cells": [
    {
     "cell_type": "heading",
     "level": 1,
     "metadata": {},
     "source": [
      "Symbolic Algebra with SymPy"
     ]
    },
    {
     "cell_type": "markdown",
     "metadata": {},
     "source": [
      "[back to main page](../index.ipynb)"
     ]
    },
    {
     "cell_type": "markdown",
     "metadata": {},
     "source": [
      "http://docs.sympy.org/latest/tutorial/\n",
      "\n",
      "http://nbviewer.ipython.org/github/jrjohansson/scientific-python-lectures/blob/master/Lecture-5-Sympy.ipynb"
     ]
    }
   ],
   "metadata": {}
  }
 ]
}