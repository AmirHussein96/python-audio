{
 "metadata": {
  "name": "",
  "signature": "sha256:9dc6ae9688fb7ecae47be99cadf5904ed90878a1b1e1ebac72430b11a62311c9"
 },
 "nbformat": 3,
 "nbformat_minor": 0,
 "worksheets": [
  {
   "cells": [
    {
     "cell_type": "heading",
     "level": 1,
     "metadata": {},
     "source": [
      "Symbolic Algebra with SymPy"
     ]
    },
    {
     "cell_type": "markdown",
     "metadata": {},
     "source": [
      "http://docs.sympy.org/latest/tutorial/\n",
      "\n",
      "http://nbviewer.ipython.org/github/jrjohansson/scientific-python-lectures/blob/master/Lecture-5-Sympy.ipynb"
     ]
    }
   ],
   "metadata": {}
  }
 ]
}