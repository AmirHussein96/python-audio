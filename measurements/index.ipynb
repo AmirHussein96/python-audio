{
 "cells": [
  {
   "cell_type": "markdown",
   "metadata": {},
   "source": [
    "# Measurements\n",
    "\n",
    "[back to main page](../index.ipynb)"
   ]
  },
  {
   "cell_type": "markdown",
   "metadata": {},
   "source": [
    "## External Links\n",
    "\n",
    "* SuMPF, \"Sound using a Monkeyforest-like processing framework\"\n",
    "\n",
    "  * http://jonassc.github.io/SuMPF/documentation/index.htm\n",
    "  \n",
    "  * https://github.com/JonasSC/SuMPF\n",
    "  \n",
    "  * inspired by [Monkey Forest](http://www.four-audio.com/en/products/monkey-forest.html)\n",
    "  \n",
    "* Fun with Pink Noise and Rooms and Loudspeakers ...\n",
    "  * http://hccc.org.uk/pink.html\n",
    "  * [spect.py](http://hccc.org.uk/spect.py)\n",
    "  * [modes.py](http://hccc.org.uk/modes.py)\n",
    "  \n",
    "http://nbviewer.ipython.org/github/LCAV/SignalsOfTheDay/blob/master/Room_Acoustics/Room%20Impulse%20Response.ipynb"
   ]
  },
  {
   "cell_type": "markdown",
   "metadata": {},
   "source": [
    "### Non-Python Stuff\n",
    "\n",
    "* WaveCapture/VariSphear by Benny Bernschütz (Matlab/Windows)\n",
    "  * http://www.audiogroup.web.fh-koeln.de/varisphear.html\n",
    "\n",
    "* Aliki by Fons Adriaensen\n",
    "  * http://kokkinizita.linuxaudio.org/linuxaudio/index.html#aliki\n",
    "  * http://kokkinizita.linuxaudio.org/linuxaudio/downloads/index.html\n",
    "\n",
    "* Aurora 4 by Angelo Farina\n",
    "  * http://www.aurora-plugins.com/Aurora_XP/index.htm\n",
    "  * Papers: http://pcfarina.eng.unipr.it/Public/Papers/list_pub_auro.htm\n",
    "\n",
    "* DRC: Digital Room Correction by Denis Sbragion (Matlab)\n",
    "  * http://drc-fir.sourceforge.net/\n",
    "\n",
    "* some experiments in Pure Data\n",
    "  * http://puredata.hurleur.com/sujet-4189-swept-sine-deconvolution\n",
    "  * http://www.pdpatchrepo.info/hurleur/Swept_sine_inverse.pd\n",
    "  \n",
    "* ExpoChirpToolbox:  a Pure Data implementation of ESS impulse response measurement\n",
    "  * http://www.katjaas.nl/expochirp/expochirp.html\n",
    "  * http://www.uni-weimar.de/medien/wiki/PDCON:Conference/Pure_Data_implementation_of_an_ESS-based_impulse_response_acoustic_measurement_tool\n",
    "  * [pdf](https://www.uni-weimar.de/medien/wiki/images/ExpoChirpToolbox-_a_Pd_implementation_of_ESS_impulse_response_measurement.pdf)\n",
    "\n",
    "* Room EQ Wizard\n",
    "  * REW is a Java application for measuring room acoustics and analysing room and loudspeaker responses.\n",
    "  * closed source\n",
    "  * http://www.roomeqwizard.com/\n",
    "  * http://www.hometheatershack.com/roomeq/\n",
    "\n",
    "* \"RealSimple Project\":https://ccrma.stanford.edu/realsimple/ (KTH-CCRMA)\n",
    "  * https://ccrma.stanford.edu/realsimple/imp_meas/\n",
    "  * using Pure Data and Matlab/octave\n",
    "  * publications: https://ccrma.stanford.edu/realsimple/publications/\n",
    "\n",
    "* ScanIR\n",
    "  * http://marl.smusic.nyu.edu/projects/scanir\n",
    "\n",
    "* Audio Systems Array Processing Toolbox\n",
    "  * http://www.engr.uky.edu/~donohue/audio/Arrays/MAToolbox.htm#_Calibration_and_Measurement_Functio"
   ]
  },
  {
   "cell_type": "markdown",
   "metadata": {},
   "source": [
    "## Commercial Products\n",
    "\n",
    "* http://www.four-audio.com/en/products/monkey-forest.html\n",
    "\n",
    "* http://odeon.dk/"
   ]
  },
  {
   "cell_type": "markdown",
   "metadata": {},
   "source": [
    "<p xmlns:dct=\"http://purl.org/dc/terms/\">\n",
    "  <a rel=\"license\"\n",
    "     href=\"http://creativecommons.org/publicdomain/zero/1.0/\">\n",
    "    <img src=\"http://i.creativecommons.org/p/zero/1.0/88x31.png\" style=\"border-style: none;\" alt=\"CC0\" />\n",
    "  </a>\n",
    "  <br />\n",
    "  To the extent possible under law,\n",
    "  <span resource=\"[_:publisher]\" rel=\"dct:publisher\">\n",
    "    <span property=\"dct:title\">Matthias Geier</span></span>\n",
    "  has waived all copyright and related or neighboring rights to\n",
    "  this work.\n",
    "</p>"
   ]
  }
 ],
 "metadata": {
  "kernelspec": {
   "display_name": "Python 3",
   "language": "python",
   "name": "python3"
  },
  "language_info": {
   "codemirror_mode": {
    "name": "ipython",
    "version": 3
   },
   "file_extension": ".py",
   "mimetype": "text/x-python",
   "name": "python",
   "nbconvert_exporter": "python",
   "pygments_lexer": "ipython3",
   "version": "3.4.3+"
  }
 },
 "nbformat": 4,
 "nbformat_minor": 0
}
