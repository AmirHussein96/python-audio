{
 "cells": [
  {
   "cell_type": "markdown",
   "metadata": {},
   "source": [
    "# Available Measurement Data\n",
    "\n",
    "[back to overview page](index.ipynb)"
   ]
  },
  {
   "cell_type": "markdown",
   "metadata": {},
   "source": [
    "## HRIRs/BRIRs/Headphone Compensation\n",
    "\n",
    "QU KEMAR anechoic: https://dev.qu.tu-berlin.de/projects/measurements/wiki/2010-11-kemar-anechoic\n",
    "\n",
    "KEMAR-BRIRs for 64 loudspeakers, RIRs, etc.: http://dx.doi.org/10.14279/depositonce-87.2\n",
    "\n",
    "The FABIAN head-related transfer function data base: http://dx.doi.org/10.14279/depositonce-5718\n",
    "\n",
    "SOFA files: http://www.sofaconventions.org/mediawiki/index.php/Files\n",
    "\n",
    "https://github.com/IoSR-Surrey/RealRoomBRIRs\n",
    "\n",
    "http://hrtf.ircam.fr\n",
    "\n",
    "http://audiogroup.web.th-koeln.de/wdr_irc.html  \n",
    "http://audiogroup.web.th-koeln.de/ku100hrir.html  \n",
    "http://audiogroup.web.th-koeln.de/ku100nfhrir.html\n",
    "\n",
    "Binaural room impulse responses of an apartment-like environment: http://dx.doi.org/10.5281/zenodo.49357\n",
    "\n",
    "More links: http://www.soundfieldsynthesis.org/other-resources/#impulse-responses"
   ]
  },
  {
   "cell_type": "markdown",
   "metadata": {},
   "source": [
    "<p xmlns:dct=\"http://purl.org/dc/terms/\">\n",
    "  <a rel=\"license\"\n",
    "     href=\"http://creativecommons.org/publicdomain/zero/1.0/\">\n",
    "    <img src=\"http://i.creativecommons.org/p/zero/1.0/88x31.png\" style=\"border-style: none;\" alt=\"CC0\" />\n",
    "  </a>\n",
    "  <br />\n",
    "  To the extent possible under law,\n",
    "  <span rel=\"dct:publisher\" resource=\"[_:publisher]\">the person who associated CC0</span>\n",
    "  with this work has waived all copyright and related or neighboring\n",
    "  rights to this work.\n",
    "</p>"
   ]
  }
 ],
 "metadata": {
  "kernelspec": {
   "display_name": "Python 3",
   "language": "python",
   "name": "python3"
  },
  "language_info": {
   "codemirror_mode": {
    "name": "ipython",
    "version": 3
   },
   "file_extension": ".py",
   "mimetype": "text/x-python",
   "name": "python",
   "nbconvert_exporter": "python",
   "pygments_lexer": "ipython3",
   "version": "3.5.4"
  },
  "widgets": {
   "state": {},
   "version": "2.0.10"
  }
 },
 "nbformat": 4,
 "nbformat_minor": 1
}
