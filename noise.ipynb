{
 "cells": [
  {
   "cell_type": "markdown",
   "metadata": {},
   "source": [
    "TODO!\n",
    "\n",
    "white noise, pink noise, spectrum, probability density, ...\n",
    "\n",
    "http://en.wikipedia.org/wiki/Colors_of_noise"
   ]
  },
  {
   "cell_type": "code",
   "execution_count": null,
   "metadata": {},
   "outputs": [],
   "source": []
  }
 ],
 "metadata": {},
 "nbformat": 4,
 "nbformat_minor": 2
}
