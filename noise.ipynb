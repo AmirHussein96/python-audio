{
 "cells": [
  {
   "cell_type": "markdown",
   "metadata": {},
   "source": [
    "TODO!\n",
    "\n",
    "white noise, pink noise, spectrum, probability density, ..."
   ]
  },
  {
   "cell_type": "markdown",
   "metadata": {},
   "source": [
    "## External Links\n",
    "\n",
    "http://en.wikipedia.org/wiki/Colors_of_noise\n",
    "\n",
    "choo choo effect: https://www.mail-archive.com/music-dsp@music.columbia.edu/msg03199.html"
   ]
  },
  {
   "cell_type": "markdown",
   "metadata": {},
   "source": [
    "### Pink Noise\n",
    "\n",
    "PortAudio ocean shore example: http://portaudio.com/docs/v19-doxydocs/paex__ocean__shore_8c.html\n",
    "\n",
    "http://www.firstpr.com.au/dsp/pink-noise/\n",
    "\n",
    "A New Shade of Pink:  \n",
    "http://stenzel.waldorfmusic.de/post/pink/  \n",
    "https://github.com/Stenzel/newshadeofpink\n",
    "\n",
    "http://home.earthlink.net/~ltrammell/tech/pinkalg.htm\n",
    "\n",
    "http://www.dsprelated.com/showarticle/908.php, [Jupyter notebook](http://nbviewer.jupyter.org/github/AllenDowney/ThinkDSP/blob/master/code/voss.ipynb)\n",
    "\n",
    "https://github.com/PaulStoffregen/Audio/blob/master/synth_pinknoise.h  \n",
    "https://github.com/PaulStoffregen/Audio/blob/master/synth_pinknoise.cpp\n",
    "\n",
    "http://music.columbia.edu/pipermail/music-dsp/2002-May/049056.html\n",
    "\n",
    "https://github.com/supercollider/supercollider/commit/7bc21edf596b2b3c8324880fbbbacdb342b85272"
   ]
  },
  {
   "cell_type": "markdown",
   "metadata": {},
   "source": [
    "### Perlin/Simplex Noise\n",
    "\n",
    "http://www.noisemachine.com/talk1/\n",
    "\n",
    "http://webstaff.itn.liu.se/~stegu/simplexnoise/simplexnoise.pdf\n",
    "\n",
    "Python library: https://github.com/caseman/noise"
   ]
  },
  {
   "cell_type": "markdown",
   "metadata": {},
   "source": [
    "<p xmlns:dct=\"http://purl.org/dc/terms/\">\n",
    "  <a rel=\"license\"\n",
    "     href=\"http://creativecommons.org/publicdomain/zero/1.0/\">\n",
    "    <img src=\"http://i.creativecommons.org/p/zero/1.0/88x31.png\" style=\"border-style: none;\" alt=\"CC0\" />\n",
    "  </a>\n",
    "  <br />\n",
    "  To the extent possible under law,\n",
    "  <span rel=\"dct:publisher\" resource=\"[_:publisher]\">the person who associated CC0</span>\n",
    "  with this work has waived all copyright and related or neighboring\n",
    "  rights to this work.\n",
    "</p>"
   ]
  }
 ],
 "metadata": {
  "kernelspec": {
   "display_name": "Python 3",
   "language": "python",
   "name": "python3"
  },
  "language_info": {
   "codemirror_mode": {
    "name": "ipython",
    "version": 3
   },
   "file_extension": ".py",
   "mimetype": "text/x-python",
   "name": "python",
   "nbconvert_exporter": "python",
   "pygments_lexer": "ipython3",
   "version": "3.5.2+"
  }
 },
 "nbformat": 4,
 "nbformat_minor": 0
}
