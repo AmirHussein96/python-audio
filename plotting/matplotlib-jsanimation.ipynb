{
 "cells": [
  {
   "cell_type": "markdown",
   "metadata": {},
   "source": [
    "# Creating JavaScript-based Animations\n",
    "\n",
    "[JSAnimation](https://github.com/jakevdp/JSAnimation)\n",
    "\n",
    "At some point, this will be a part of matplotlib, see https://github.com/matplotlib/matplotlib/pull/4821\n",
    "\n",
    "    pip install git+https://github.com/jakevdp/JSAnimation\n",
    "\n",
    "or\n",
    "\n",
    "    git clone http://github.com/jakevdp/JSAnimation\n",
    "    cd JSAnimation\n",
    "    python setup.py install"
   ]
  },
  {
   "cell_type": "code",
   "execution_count": 1,
   "metadata": {
    "collapsed": true
   },
   "outputs": [],
   "source": [
    "from JSAnimation import IPython_display"
   ]
  },
  {
   "cell_type": "code",
   "execution_count": null,
   "metadata": {
    "collapsed": true
   },
   "outputs": [],
   "source": []
  }
 ],
 "metadata": {
  "kernelspec": {
   "display_name": "Python 3",
   "language": "python",
   "name": "python3"
  },
  "language_info": {
   "codemirror_mode": {
    "name": "ipython",
    "version": 3
   },
   "file_extension": ".py",
   "mimetype": "text/x-python",
   "name": "python",
   "nbconvert_exporter": "python",
   "pygments_lexer": "ipython3",
   "version": "3.5.1+"
  }
 },
 "nbformat": 4,
 "nbformat_minor": 0
}
