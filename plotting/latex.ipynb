{
 "metadata": {
  "name": "",
  "signature": "sha256:282d5ea8704c128436886b16db0f7d7091e239b1acfc9a3160dd635749b70ffa"
 },
 "nbformat": 3,
 "nbformat_minor": 0,
 "worksheets": [
  {
   "cells": [
    {
     "cell_type": "heading",
     "level": 1,
     "metadata": {},
     "source": [
      "Creating Plots for LaTeX Documents"
     ]
    },
    {
     "cell_type": "markdown",
     "metadata": {},
     "source": [
      "[back to overview page](index.ipynb)"
     ]
    },
    {
     "cell_type": "markdown",
     "metadata": {},
     "source": [
      "two different Python interfaces for PGFPLOTS:  \n",
      "https://github.com/lucastheis/pypgf  \n",
      "https://github.com/olivierverdier/pygfplots\n",
      "\n",
      "matplotlib PGF backend:  \n",
      "http://matplotlib.org/users/pgf.html\n",
      "\n",
      "convert matplotlib figures to PGFPLOTS:  \n",
      "https://github.com/nschloe/matplotlib2tikz"
     ]
    },
    {
     "cell_type": "markdown",
     "metadata": {},
     "source": [
      "Some random PGFPLOTS links:\n",
      "\n",
      "http://pgfplots.net/tikz/examples/\n",
      "\n",
      "http://tex.stackexchange.com/questions/39145/scaling-colormaps-with-pgfplots\n",
      "\n",
      "http://guido.vonrudorff.de/using-matplotlib-colorbars-in-pgfplots/\n",
      "\n",
      "http://tug.org/TUGboat/tb34-2/tb107dugge.pdf (Tufte-style plots)\n",
      "\n"
     ]
    },
    {
     "cell_type": "markdown",
     "metadata": {},
     "source": [
      "<p xmlns:dct=\"http://purl.org/dc/terms/\">\n",
      "  <a rel=\"license\"\n",
      "     href=\"http://creativecommons.org/publicdomain/zero/1.0/\">\n",
      "    <img src=\"http://i.creativecommons.org/p/zero/1.0/88x31.png\" style=\"border-style: none;\" alt=\"CC0\" />\n",
      "  </a>\n",
      "  <br />\n",
      "  To the extent possible under law,\n",
      "  <span resource=\"[_:publisher]\" rel=\"dct:publisher\">\n",
      "    <span property=\"dct:title\">Matthias Geier</span></span>\n",
      "  has waived all copyright and related or neighboring rights to\n",
      "  this work.\n",
      "</p>"
     ]
    }
   ],
   "metadata": {}
  }
 ]
}