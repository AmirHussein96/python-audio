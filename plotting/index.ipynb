{
 "metadata": {
  "name": "",
  "signature": "sha256:f2686ac13978fd5e052b09c7589f5c7447c369591938a334f41a045c62ecde98"
 },
 "nbformat": 3,
 "nbformat_minor": 0,
 "worksheets": [
  {
   "cells": [
    {
     "cell_type": "heading",
     "level": 1,
     "metadata": {},
     "source": [
      "Plotting"
     ]
    },
    {
     "cell_type": "markdown",
     "metadata": {},
     "source": [
      "[back to main page](../index.ipynb)"
     ]
    },
    {
     "cell_type": "heading",
     "level": 2,
     "metadata": {},
     "source": [
      "Links"
     ]
    },
    {
     "cell_type": "markdown",
     "metadata": {},
     "source": [
      "http://matplotlib.org/gallery.html\n",
      "\n",
      "http://matplotlib.org/users/pyplot_tutorial.html\n",
      "\n",
      "http://matplotlib.org/users/artists.html\n",
      "\n",
      "https://github.com/rasbt/matplotlib-gallery\n",
      "\n",
      "http://nbviewer.ipython.org/github/jrjohansson/scientific-python-lectures/blob/master/Lecture-4-Matplotlib.ipynb\n",
      "\n",
      "http://stanford.edu/~mwaskom/software/seaborn/"
     ]
    }
   ],
   "metadata": {}
  }
 ]
}