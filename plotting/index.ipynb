{
 "cells": [
  {
   "cell_type": "markdown",
   "metadata": {},
   "source": [
    "# Plotting with Python\n",
    "\n",
    "[back to main page](../index.ipynb)\n",
    "\n",
    "The de-facto standard library for plotting in Python is \"matplotlib\".\n",
    "\n",
    "* [Getting Started with `matplotlib`](matplotlib.ipynb)\n",
    "\n",
    "* [Colormaps in `matplotlib`](matplotlib-colormaps.ipynb)\n",
    "\n",
    "* [Properly Sized Color Bars in `matplotlib`](matplotlib-colorbar.ipynb)\n",
    "\n",
    "* [Using the \"notebook\" backend](matplotlib-notebook-backend.ipynb)\n",
    "\n",
    "* [Zoomable Plots on Static HTML Notebooks](mpld3.ipynb)\n",
    "\n",
    "The following topics are work in progress:\n",
    "\n",
    "* [Creating Plots for LaTeX Documents](latex.ipynb)\n",
    "\n",
    "* [Waterfall Plots](waterfall.ipynb)"
   ]
  },
  {
   "cell_type": "markdown",
   "metadata": {},
   "source": [
    "## External Links\n",
    "\n",
    "### matplotlib\n",
    "\n",
    "http://matplotlib.org/\n",
    "\n",
    "http://matplotlib.org/gallery.html\n",
    "\n",
    "http://matplotlib.org/faq/usage_faq.html\n",
    "\n",
    "http://matplotlib.org/users/pyplot_tutorial.html\n",
    "\n",
    "http://matplotlib.org/users/artists.html\n",
    "\n",
    "https://github.com/rasbt/matplotlib-gallery\n",
    "\n",
    "http://nbviewer.ipython.org/github/jrjohansson/scientific-python-lectures/blob/master/Lecture-4-Matplotlib.ipynb\n",
    "\n",
    "http://worksofscience.net/matplotlib/fig\n",
    "\n",
    "http://worksofscience.net/matplotlib/gridspec\n",
    "\n",
    "http://nbviewer.ipython.org/github/rasbt/matplotlib-gallery/blob/master/ipynb/publication.ipynb"
   ]
  },
  {
   "cell_type": "markdown",
   "metadata": {},
   "source": [
    "### seaborn\n",
    "\n",
    "http://stanford.edu/~mwaskom/software/seaborn/"
   ]
  },
  {
   "cell_type": "markdown",
   "metadata": {},
   "source": [
    "### Animations\n",
    "\n",
    "https://jakevdp.github.io/blog/2012/08/18/matplotlib-animation-tutorial/\n",
    "\n",
    "https://github.com/jakevdp/JSAnimation $\\to$ [example](http://nbviewer.ipython.org/github/jakevdp/JSAnimation/blob/master/animation_example.ipynb)\n",
    "\n",
    "sound field examples: http://blog.kaistale.com/?p=728"
   ]
  },
  {
   "cell_type": "markdown",
   "metadata": {},
   "source": [
    "### Spectrogram\n",
    "\n",
    "https://github.com/LCAV/TimeDomainAcousticRakeReceiver/blob/master/pyroomacoustics/stft.py"
   ]
  },
  {
   "cell_type": "markdown",
   "metadata": {},
   "source": [
    "<p xmlns:dct=\"http://purl.org/dc/terms/\">\n",
    "  <a rel=\"license\"\n",
    "     href=\"http://creativecommons.org/publicdomain/zero/1.0/\">\n",
    "    <img src=\"http://i.creativecommons.org/p/zero/1.0/88x31.png\" style=\"border-style: none;\" alt=\"CC0\" />\n",
    "  </a>\n",
    "  <br />\n",
    "  To the extent possible under law,\n",
    "  <span resource=\"[_:publisher]\" rel=\"dct:publisher\">\n",
    "    <span property=\"dct:title\">Matthias Geier</span></span>\n",
    "  has waived all copyright and related or neighboring rights to\n",
    "  this work.\n",
    "</p>"
   ]
  }
 ],
 "metadata": {
  "kernelspec": {
   "display_name": "Python 3",
   "language": "python",
   "name": "python3"
  },
  "language_info": {
   "codemirror_mode": {
    "name": "ipython",
    "version": 3
   },
   "file_extension": ".py",
   "mimetype": "text/x-python",
   "name": "python",
   "nbconvert_exporter": "python",
   "pygments_lexer": "ipython3",
   "version": "3.4.3+"
  }
 },
 "nbformat": 4,
 "nbformat_minor": 0
}
