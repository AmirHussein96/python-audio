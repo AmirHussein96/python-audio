{
 "metadata": {
  "name": "",
  "signature": "sha256:978e88326fd2bcdcce72b5ace3d881f864a84f6588d83c081981f8c02ae9751c"
 },
 "nbformat": 3,
 "nbformat_minor": 0,
 "worksheets": [
  {
   "cells": [
    {
     "cell_type": "heading",
     "level": 1,
     "metadata": {},
     "source": [
      "Plotting"
     ]
    },
    {
     "cell_type": "heading",
     "level": 2,
     "metadata": {},
     "source": [
      "Links"
     ]
    },
    {
     "cell_type": "markdown",
     "metadata": {},
     "source": [
      "http://matplotlib.org/gallery.html\n",
      "\n",
      "http://matplotlib.org/users/pyplot_tutorial.html\n",
      "\n",
      "http://matplotlib.org/users/artists.html\n",
      "\n",
      "https://github.com/rasbt/matplotlib-gallery\n",
      "\n",
      "http://nbviewer.ipython.org/github/jrjohansson/scientific-python-lectures/blob/master/Lecture-4-Matplotlib.ipynb\n",
      "\n",
      "http://stanford.edu/~mwaskom/software/seaborn/"
     ]
    }
   ],
   "metadata": {}
  }
 ]
}