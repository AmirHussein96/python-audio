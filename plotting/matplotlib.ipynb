{
 "cells": [
  {
   "cell_type": "markdown",
   "metadata": {},
   "source": [
    "# Getting Started With `matplotlib`\n",
    "\n",
    "[back to overview page](index.ipynb)\n",
    "\n",
    "This page is about the general mechanics of plotting with [matplotlib](http://matplotlib.org/), not so much about the plots themselves.\n",
    "For more information about those, have a look at the [overview page](index.ipynb) and especially at the [external links section](index.ipynb#External-Links)."
   ]
  },
  {
   "cell_type": "markdown",
   "metadata": {},
   "source": [
    "## Outdated Information\n",
    "\n",
    "`matplotlib` has been very actively developed in the last few years.\n",
    "Many improvements have been made and the API as well as the recommended usage patterns have changed quite a bit.\n",
    "\n",
    "Sadly, this also means that a lot of documentation out there is outdated and may actually, although well intended, be bad advice.\n",
    "In fact, this very page may be outdated at the time you are reading it!\n",
    "Have a look at this date:"
   ]
  },
  {
   "cell_type": "code",
   "execution_count": 1,
   "metadata": {
    "collapsed": false
   },
   "outputs": [
    {
     "name": "stdout",
     "output_type": "stream",
     "text": [
      "2015-11-01\r\n"
     ]
    }
   ],
   "source": [
    "!date -I"
   ]
  },
  {
   "cell_type": "markdown",
   "metadata": {},
   "source": [
    "This is the date of the last change to this page.\n",
    "If it's older then half a year or a year, it is very likely to be outdated, so don't read it!"
   ]
  },
  {
   "cell_type": "markdown",
   "metadata": {},
   "source": [
    "## Plotting Step by Step\n",
    "\n",
    "There are several different ways of using `matplotlib`, here we provide mainly slow-paced step-by-step instructions that show explicitly what has to be done in order to create a plot.\n",
    "\n",
    "These instructions should help you to create your own individualized plotting functions (see below).\n",
    "\n",
    "You can also use `matplotlib` in a much less explicit and quicker-to-type way called \"pylab\" (see further below)."
   ]
  },
  {
   "cell_type": "markdown",
   "metadata": {},
   "source": [
    "### Importing `matplotlib`\n",
    "\n",
    "There are several ways to do that, some of which are *not recommended* anymore (especially \"`from pylab import *\"`).\n",
    "\n",
    "As far as I know, this is *currently* the canonical and recommended way to import matplotlib for most use cases:"
   ]
  },
  {
   "cell_type": "code",
   "execution_count": 2,
   "metadata": {
    "collapsed": false
   },
   "outputs": [],
   "source": [
    "import matplotlib.pyplot as plt"
   ]
  },
  {
   "cell_type": "markdown",
   "metadata": {},
   "source": [
    "For some specialized cases, you can also import specific classes from certain `matplotlib` sub-modules, e.g.\n",
    "\n",
    "    from matplotlib.patches import Polygon, Ellipse\n",
    "    from matplotlib.colors import LinearSegmentedColormap\n",
    "\n",
    "There are lots of code examples out there that still use them, but the following imports are [not recommended anymore](http://matplotlib.org/faq/usage_faq.html#matplotlib-pyplot-and-pylab-how-are-they-related) and you should **never use any of these**:\n",
    "\n",
    "<pre style=\"color:gray\">\n",
    "from pylab import *\n",
    "from matplotlib.pyplot import *\n",
    "</pre>"
   ]
  },
  {
   "cell_type": "markdown",
   "metadata": {},
   "source": [
    "### Creating a `Figure` and One or More `Axes` Objects\n",
    "\n",
    "Before plotting anything, a [Figure object](http://matplotlib.org/api/figure_api.html#matplotlib.figure.Figure) has to be created.\n",
    "Some commands handle figure creation and selection automatically, but it normally makes your code easier to read if you create figures explicitly.\n",
    "\n",
    "A figure typically contains one or more [Axes objects](http://matplotlib.org/api/axes_api.html#matplotlib.axes.Axes).\n",
    "Most plotting commands work on those.\n",
    "\n",
    "You can create a figure and a single axes object with a single command like this:"
   ]
  },
  {
   "cell_type": "code",
   "execution_count": 3,
   "metadata": {
    "collapsed": false
   },
   "outputs": [],
   "source": [
    "fig, ax = plt.subplots()"
   ]
  },
  {
   "cell_type": "markdown",
   "metadata": {},
   "source": [
    "There are many options you can pass to [plt.subplots()](http://matplotlib.org/api/pyplot_api.html#matplotlib.pyplot.subplots) in order to customize things, have a look at the documentation of [plt.figure()](http://matplotlib.org/api/pyplot_api.html#matplotlib.pyplot.figure), [add_subplot()](http://matplotlib.org/api/figure_api.html#matplotlib.figure.Figure.add_subplot) and [GridSpec](http://matplotlib.org/api/gridspec_api.html#matplotlib.gridspec.GridSpec).\n",
    "\n",
    "If you want more than one `Axes` object, you can specify rows and columns of subplots:\n",
    "\n",
    "    fig, (ax1, ax2) = plt.subplots(1, 2)\n",
    "\n",
    "If you want, you can also use [plt.figure()](http://matplotlib.org/api/pyplot_api.html#matplotlib.pyplot.figure) to create a figure object first, and then use [add_axes()](http://matplotlib.org/api/figure_api.html#matplotlib.figure.Figure.add_axes) and/or [add_subplot()](http://matplotlib.org/api/figure_api.html#matplotlib.figure.Figure.add_subplot) to add axes objects.\n",
    "\n",
    "If you want to continue plotting on the previously used `Axes` object, you can use [plt.gca()](http://matplotlib.org/api/pyplot_api.html#matplotlib.pyplot.gca) (= *get current axes*).\n",
    "If no axes object exists, this command creates one for you (it also creates a figure object, if needed).\n",
    "\n",
    "Each figure has a (possibly empty) list of references to all its `Axes` objects ..."
   ]
  },
  {
   "cell_type": "code",
   "execution_count": 4,
   "metadata": {
    "collapsed": false
   },
   "outputs": [
    {
     "data": {
      "text/plain": [
       "[<matplotlib.axes._subplots.AxesSubplot at 0x7f5622c5e0b8>]"
      ]
     },
     "execution_count": 4,
     "metadata": {},
     "output_type": "execute_result"
    }
   ],
   "source": [
    "fig.axes"
   ]
  },
  {
   "cell_type": "markdown",
   "metadata": {},
   "source": [
    "Obviously, our example figure has one `Axes` object (the one we got from `plt.subplots()` above)."
   ]
  },
  {
   "cell_type": "code",
   "execution_count": 5,
   "metadata": {
    "collapsed": false
   },
   "outputs": [
    {
     "data": {
      "text/plain": [
       "True"
      ]
     },
     "execution_count": 5,
     "metadata": {},
     "output_type": "execute_result"
    }
   ],
   "source": [
    "fig.axes[0] is ax"
   ]
  },
  {
   "cell_type": "markdown",
   "metadata": {},
   "source": [
    "Each `Axes` object has a reference to its (exactly one) parent figure:"
   ]
  },
  {
   "cell_type": "code",
   "execution_count": 6,
   "metadata": {
    "collapsed": false
   },
   "outputs": [
    {
     "data": {
      "text/plain": [
       "<matplotlib.figure.Figure at 0x7f562a6bad30>"
      ]
     },
     "execution_count": 6,
     "metadata": {},
     "output_type": "execute_result"
    }
   ],
   "source": [
    "ax.figure"
   ]
  },
  {
   "cell_type": "markdown",
   "metadata": {},
   "source": [
    "So don't worry if you misplace your figure reference, you can always get it from any contained `Axes` object."
   ]
  },
  {
   "cell_type": "code",
   "execution_count": 7,
   "metadata": {
    "collapsed": false
   },
   "outputs": [
    {
     "data": {
      "text/plain": [
       "True"
      ]
     },
     "execution_count": 7,
     "metadata": {},
     "output_type": "execute_result"
    }
   ],
   "source": [
    "ax.figure is fig"
   ]
  },
  {
   "cell_type": "markdown",
   "metadata": {},
   "source": [
    "### Plotting Data"
   ]
  },
  {
   "cell_type": "code",
   "execution_count": 8,
   "metadata": {
    "collapsed": false
   },
   "outputs": [],
   "source": [
    "data = 4, 8, 15, 16, 23, 42"
   ]
  },
  {
   "cell_type": "markdown",
   "metadata": {},
   "source": [
    "Once we have an `Axes` object, we can plot data onto it.\n",
    "There are many types of plots (have a look at the [`Axes` documentation](http://matplotlib.org/api/axes_api.html#matplotlib.axes.Axes)), here we'll just create a simple 2D line plot:"
   ]
  },
  {
   "cell_type": "code",
   "execution_count": 9,
   "metadata": {
    "collapsed": false
   },
   "outputs": [
    {
     "data": {
      "text/plain": [
       "[<matplotlib.lines.Line2D at 0x7f562246d048>]"
      ]
     },
     "execution_count": 9,
     "metadata": {},
     "output_type": "execute_result"
    }
   ],
   "source": [
    "ax.plot(data)"
   ]
  },
  {
   "cell_type": "markdown",
   "metadata": {},
   "source": [
    "As you can see, this returns a list of graphical objects (in our case it's only one line, but you could plot several lines at once).\n",
    "You can use those objects for fine-tuning the plot and you can also get a reference to the `Axes` object it belongs to:"
   ]
  },
  {
   "cell_type": "code",
   "execution_count": 10,
   "metadata": {
    "collapsed": false
   },
   "outputs": [
    {
     "data": {
      "text/plain": [
       "True"
      ]
     },
     "execution_count": 10,
     "metadata": {},
     "output_type": "execute_result"
    }
   ],
   "source": [
    "_[0].axes is ax"
   ]
  },
  {
   "cell_type": "markdown",
   "metadata": {},
   "source": [
    "> In case you didn't know: The underscore \"`_`\" is a special variable name that is set by the interactive Python interpreter to the result of the last expression of the previously executed code cell.\n",
    "\n",
    "If you don't need the returned list, you can hide it by appending a semicolon (this is only necessary in the last line of a code cell).\n",
    "Let's plot again:"
   ]
  },
  {
   "cell_type": "code",
   "execution_count": 11,
   "metadata": {
    "collapsed": false
   },
   "outputs": [],
   "source": [
    "ax.plot(data);"
   ]
  },
  {
   "cell_type": "markdown",
   "metadata": {},
   "source": [
    "### But Wait, I Don't See No Plot!\n",
    "\n",
    "Yes, [that's normal](http://matplotlib.org/faq/howto_faq.html#use-show).\n",
    "Opening a window and drawing all the graphical elements of a plot may be computationally expensive, so `matplotlib` doesn't do it right away.\n",
    "You might want to add further elements to your plot and it's enough to actually draw it once you are finished.\n",
    "Also, you might not even want to open a plot window and instead create an image file containing the plot (see below).\n",
    "\n",
    "Once you are finished adding stuff to your plot and you actually want to show it, use [plt.show()](http://matplotlib.org/api/pyplot_api.html#matplotlib.pyplot.show):"
   ]
  },
  {
   "cell_type": "code",
   "execution_count": 12,
   "metadata": {
    "collapsed": false
   },
   "outputs": [],
   "source": [
    "plt.show()"
   ]
  },
  {
   "cell_type": "markdown",
   "metadata": {},
   "source": [
    "Now you should see a plot window popping up!\n",
    "\n",
    "The `plt.show()` command blocks execution until the figure window is closed.\n",
    "This is useful if you want to show plots from a Python script, otherwise all plot windows would be closed automatically at the end of the script.\n",
    "It is not very useful in an interactive session, where you should use `matplotlib`'s interactive mode (see [Interactive Plotting](#Interactive-Plotting) below).\n",
    "\n",
    "Please close the plot window to continue."
   ]
  },
  {
   "cell_type": "markdown",
   "metadata": {},
   "source": [
    "### Plotting to a File\n",
    "\n",
    "Analyzing your data in an interactive plot window is nice, but you probably also want to save the plot for later.\n",
    "It's very easy to [save a figure to a file](http://matplotlib.org/api/figure_api.html?highlight=savefig#matplotlib.figure.Figure.savefig), e.g. a PNG file:"
   ]
  },
  {
   "cell_type": "code",
   "execution_count": 13,
   "metadata": {
    "collapsed": false
   },
   "outputs": [],
   "source": [
    "fig.savefig('my_plot.png')"
   ]
  },
  {
   "cell_type": "markdown",
   "metadata": {},
   "source": [
    "This creates a file named [my_plot.png](my_plot.png) in the current directory.\n",
    "You can choose the file type by means of the file extension:\n",
    "\n",
    "    fig.savefig('my_plot.svg')\n",
    "    fig.savefig('my_plot.pdf')\n",
    "    fig.savefig('my_plot.eps')\n",
    "\n",
    "You can [save multiple figures to one PDF file with `PdfPages`](http://matplotlib.org/faq/howto_faq.html#save-multiple-plots-to-one-pdf-file).\n",
    "\n",
    "It is also possible to [create PGF files for use in LaTeX documents](http://matplotlib.org/users/pgf.html):\n",
    "\n",
    "    fig.savefig('my_plot.pgf')\n",
    "\n",
    "The available image formats depend on the backend, you can get a list for the currently selected backend:"
   ]
  },
  {
   "cell_type": "code",
   "execution_count": 14,
   "metadata": {
    "collapsed": false
   },
   "outputs": [
    {
     "data": {
      "text/plain": [
       "{'Encapsulated Postscript': ['eps'],\n",
       " 'Joint Photographic Experts Group': ['jpeg', 'jpg'],\n",
       " 'PGF code for LaTeX': ['pgf'],\n",
       " 'Portable Document Format': ['pdf'],\n",
       " 'Portable Network Graphics': ['png'],\n",
       " 'Postscript': ['ps'],\n",
       " 'Raw RGBA bitmap': ['raw', 'rgba'],\n",
       " 'Scalable Vector Graphics': ['svg', 'svgz'],\n",
       " 'Tagged Image File Format': ['tif', 'tiff']}"
      ]
     },
     "execution_count": 14,
     "metadata": {},
     "output_type": "execute_result"
    }
   ],
   "source": [
    "fig.canvas.get_supported_filetypes_grouped()"
   ]
  },
  {
   "cell_type": "markdown",
   "metadata": {},
   "source": [
    "### Closing a Plot\n",
    "\n",
    "`matplotlib` keeps references to all figures and even if you close all plot windows and delete all your own references, the figures are still kept in memory.\n",
    "\n",
    "To release all resources for the current figure, use:"
   ]
  },
  {
   "cell_type": "code",
   "execution_count": 15,
   "metadata": {
    "collapsed": false
   },
   "outputs": [],
   "source": [
    "plt.close()"
   ]
  },
  {
   "cell_type": "markdown",
   "metadata": {},
   "source": [
    "To close all figures, use:"
   ]
  },
  {
   "cell_type": "code",
   "execution_count": 16,
   "metadata": {
    "collapsed": false
   },
   "outputs": [],
   "source": [
    "plt.close('all')"
   ]
  },
  {
   "cell_type": "markdown",
   "metadata": {},
   "source": [
    "Note that [plt.clf()](http://matplotlib.org/api/pyplot_api.html#matplotlib.pyplot.clf) and [plt.cla()](http://matplotlib.org/api/pyplot_api.html#matplotlib.pyplot.cla) clears the current figure and axes, respectively, but it doesn't reset the parameters (e.g. figure size) and it doesn't free all resources."
   ]
  },
  {
   "cell_type": "markdown",
   "metadata": {},
   "source": [
    "## Interactive Plotting\n",
    "\n",
    "By default, `matplotlib` is configured for [non-interactive plotting](http://matplotlib.org/faq/usage_faq.html#what-is-interactive-mode), which makes sense for the use in Python scripts."
   ]
  },
  {
   "cell_type": "code",
   "execution_count": 17,
   "metadata": {
    "collapsed": false
   },
   "outputs": [
    {
     "data": {
      "text/plain": [
       "False"
      ]
     },
     "execution_count": 17,
     "metadata": {},
     "output_type": "execute_result"
    }
   ],
   "source": [
    "plt.isinteractive()"
   ]
  },
  {
   "cell_type": "markdown",
   "metadata": {},
   "source": [
    "In an interactive session (like this IPython notebook), however, it makes much more sense to switch to interactive plotting.\n",
    "\n",
    "`matplotlib` provides the commands [plt.ion()](http://matplotlib.org/api/pyplot_api.html#matplotlib.pyplot.ion) and [plt.ioff()](http://matplotlib.org/api/pyplot_api.html#matplotlib.pyplot.ioff) to turn interactive mode on and off, respectively.\n",
    "When using Jupyter/IPython, it's even better to use [this \"magic\" command](http://ipython.org/ipython-doc/stable/interactive/magics.html#magic-matplotlib):"
   ]
  },
  {
   "cell_type": "code",
   "execution_count": 18,
   "metadata": {
    "collapsed": false
   },
   "outputs": [
    {
     "name": "stdout",
     "output_type": "stream",
     "text": [
      "Using matplotlib backend: TkAgg\n"
     ]
    }
   ],
   "source": [
    "%matplotlib"
   ]
  },
  {
   "cell_type": "markdown",
   "metadata": {},
   "source": [
    "This prepares Jupyter/IPython for the use of `matplotlib` and it enables its interactive mode.\n",
    "This doesn't import anything, you still have to use ..."
   ]
  },
  {
   "cell_type": "code",
   "execution_count": 19,
   "metadata": {
    "collapsed": false
   },
   "outputs": [],
   "source": [
    "import matplotlib.pyplot as plt"
   ]
  },
  {
   "cell_type": "markdown",
   "metadata": {},
   "source": [
    "... to actually import `matplotlib`."
   ]
  },
  {
   "cell_type": "code",
   "execution_count": 20,
   "metadata": {
    "collapsed": false
   },
   "outputs": [
    {
     "data": {
      "text/plain": [
       "True"
      ]
     },
     "execution_count": 20,
     "metadata": {},
     "output_type": "execute_result"
    }
   ],
   "source": [
    "plt.isinteractive()"
   ]
  },
  {
   "cell_type": "code",
   "execution_count": 21,
   "metadata": {
    "collapsed": false
   },
   "outputs": [],
   "source": [
    "data = 4, 8, 15, 16, 23, 42\n",
    "fig, ax = plt.subplots()\n",
    "ax.plot(data);"
   ]
  },
  {
   "cell_type": "markdown",
   "metadata": {},
   "source": [
    "Now the plot window should open immediately (without calling `plt.show()`) and code cells can be executed even if plot windows are open.\n",
    "\n",
    "The effects of some of `Axes`'s methods are still not immediately visible, e.g.:"
   ]
  },
  {
   "cell_type": "code",
   "execution_count": 22,
   "metadata": {
    "collapsed": false
   },
   "outputs": [],
   "source": [
    "ax.grid()"
   ]
  },
  {
   "cell_type": "markdown",
   "metadata": {},
   "source": [
    "Use `fig.canvas.draw()` to update the current figure.\n",
    "Alternatively, you can also use `plt.draw()`."
   ]
  },
  {
   "cell_type": "code",
   "execution_count": 23,
   "metadata": {
    "collapsed": false
   },
   "outputs": [],
   "source": [
    "fig.canvas.draw()  # or plt.draw()"
   ]
  },
  {
   "cell_type": "markdown",
   "metadata": {},
   "source": [
    "If you put all plotting commands into a single code cell (or if you put them into a separate function, as explained below), you don't need this."
   ]
  },
  {
   "cell_type": "markdown",
   "metadata": {},
   "source": [
    "## Inline Plotting\n",
    "\n",
    "The interactive plot window is very useful for interactive exploration of your data.\n",
    "However, if you want to share the results of your notebooks with others (or keep them around for future reference), it may be better to embed them directly in the Jupyter/IPython notebook.\n",
    "\n",
    "To do that, switch to \"inline\" mode:"
   ]
  },
  {
   "cell_type": "code",
   "execution_count": 24,
   "metadata": {
    "collapsed": false
   },
   "outputs": [],
   "source": [
    "%matplotlib inline"
   ]
  },
  {
   "cell_type": "markdown",
   "metadata": {},
   "source": [
    "From now on, all plots are shown directly below their code cells.\n",
    "\n",
    "But again, this doesn't import anything, you still have to import whatever you need:"
   ]
  },
  {
   "cell_type": "code",
   "execution_count": 25,
   "metadata": {
    "collapsed": false
   },
   "outputs": [],
   "source": [
    "import matplotlib.pyplot as plt"
   ]
  },
  {
   "cell_type": "code",
   "execution_count": 26,
   "metadata": {
    "collapsed": false
   },
   "outputs": [
    {
     "data": {
      "image/png": "[encoded data removed]",
      "text/plain": [
       "<matplotlib.figure.Figure at 0x7f5622bab278>"
      ]
     },
     "metadata": {},
     "output_type": "display_data"
    }
   ],
   "source": [
    "data = 4, 8, 15, 16, 23, 42\n",
    "fig, ax = plt.subplots()\n",
    "ax.plot(data);"
   ]
  },
  {
   "cell_type": "markdown",
   "metadata": {},
   "source": [
    "Inline plots are saved within the notebook file (with the extension `.ipynb`).\n",
    "Therefore they can be viewed without a running IPython kernel, e.g. on http://nbviewer.ipython.org/ or http://nbviewer.jupyter.org/.\n",
    "\n",
    "You can switch back and forth between using a plot window and inline plotting:"
   ]
  },
  {
   "cell_type": "code",
   "execution_count": 27,
   "metadata": {
    "collapsed": false
   },
   "outputs": [
    {
     "name": "stdout",
     "output_type": "stream",
     "text": [
      "Using matplotlib backend: TkAgg\n"
     ]
    }
   ],
   "source": [
    "%matplotlib"
   ]
  },
  {
   "cell_type": "markdown",
   "metadata": {},
   "source": [
    "## Advice: Write Your Own Plotting Function!\n",
    "\n",
    "You will most likely not just plot once and then move on.\n",
    "More realistically, you'll plot many times while exploring your data and changing some parameters in your calculations.\n",
    "\n",
    "Depending on the task at hand, you'll have certain requirements regarding axis scaling, tick marks, labels etc.\n",
    "\n",
    "Instead of repeating the same commands again and again, you should write an individualized plotting function.\n",
    "Here's an example:"
   ]
  },
  {
   "cell_type": "code",
   "execution_count": 28,
   "metadata": {
    "collapsed": false
   },
   "outputs": [],
   "source": [
    "import matplotlib.pyplot as plt\n",
    "import numpy as np\n",
    "\n",
    "\n",
    "def myplot(data, ax=None):\n",
    "    \"\"\"A special plotting function for my special needs.\"\"\"\n",
    "    if ax is None:\n",
    "        ax = plt.gca()\n",
    "    x = np.arange(len(data)) * 1000  # my special x-axis needs\n",
    "    lines = ax.plot(x, data)\n",
    "    ax.set_xlabel(\"my independent variable / millisomethings\")\n",
    "    ax.set_ylabel(\"very interesting unitless values\")\n",
    "    ax.grid(True)\n",
    "    return lines"
   ]
  },
  {
   "cell_type": "markdown",
   "metadata": {},
   "source": [
    "Note that this function accepts an optional `ax` argument (as recommended by the [official FAQ](http://matplotlib.org/faq/usage_faq.html#coding-styles)), where an existing `Axes` object can be passed to be drawn on.\n",
    "By default, the current `Axes` object is used.\n",
    "If none exists, a new figure with a new `Axes` object is created automatically.\n",
    "All this is done by [plt.gca()](http://matplotlib.org/api/pyplot_api.html#matplotlib.pyplot.gca) (= *get current axes*).\n",
    "\n",
    "You should think about what is most useful to be returned from this function, in this example it just passes through the list of lines returned by [plot()](http://matplotlib.org/api/axes_api.html#matplotlib.axes.Axes.plot).\n",
    "\n",
    "Note that `show()` is not used within the function, as this might not be desired, e.g. if we only want to plot to a file and we don't want to show the plot window.\n",
    "\n",
    "The custom plotting function can be used like this:"
   ]
  },
  {
   "cell_type": "code",
   "execution_count": 29,
   "metadata": {
    "collapsed": false
   },
   "outputs": [],
   "source": [
    "%matplotlib inline"
   ]
  },
  {
   "cell_type": "code",
   "execution_count": 30,
   "metadata": {
    "collapsed": false
   },
   "outputs": [
    {
     "data": {
      "image/png": "[encoded data removed]",
      "text/plain": [
       "<matplotlib.figure.Figure at 0x7f5622b902b0>"
      ]
     },
     "metadata": {},
     "output_type": "display_data"
    }
   ],
   "source": [
    "myplot([3, 2, 4, 1]);"
   ]
  },
  {
   "cell_type": "markdown",
   "metadata": {},
   "source": [
    "By means of the optional `ax` argument it can also be used in more complicated settings, e.g.:"
   ]
  },
  {
   "cell_type": "code",
   "execution_count": 31,
   "metadata": {
    "collapsed": false
   },
   "outputs": [
    {
     "data": {
      "image/png": "[encoded data removed]",
      "text/plain": [
       "<matplotlib.figure.Figure at 0x7f5622babc50>"
      ]
     },
     "metadata": {},
     "output_type": "display_data"
    }
   ],
   "source": [
    "fig, (ax1, ax2) = plt.subplots(1, 2, sharey=True)\n",
    "fig.set_figwidth(fig.get_figwidth() * 2)\n",
    "fig.subplots_adjust(wspace=0.06)\n",
    "myplot([3, 2, 4, 1], ax=ax1)\n",
    "myplot([2, 3, 1, 5, 4, 0], ax=ax2)\n",
    "ax2.set_ylabel('');"
   ]
  },
  {
   "cell_type": "markdown",
   "metadata": {},
   "source": [
    "## Upping Your Style\n",
    "\n",
    "By default, matplotlib uses a quite conservative style:"
   ]
  },
  {
   "cell_type": "code",
   "execution_count": 32,
   "metadata": {
    "collapsed": false
   },
   "outputs": [
    {
     "data": {
      "image/png": "[encoded data removed]",
      "text/plain": [
       "<matplotlib.figure.Figure at 0x7f5622af7e10>"
      ]
     },
     "metadata": {},
     "output_type": "display_data"
    }
   ],
   "source": [
    "plt.plot(data);"
   ]
  },
  {
   "cell_type": "markdown",
   "metadata": {},
   "source": [
    "If you don't like the default style, don't worry, since [matplotlib 1.4](http://matplotlib.org/users/whats_new.html#style-package-added), it's very easy to change styles.\n",
    "There are several pre-defined styles available:"
   ]
  },
  {
   "cell_type": "code",
   "execution_count": 33,
   "metadata": {
    "collapsed": false
   },
   "outputs": [
    {
     "data": {
      "text/plain": [
       "['seaborn-darkgrid',\n",
       " 'dark_background',\n",
       " 'seaborn-white',\n",
       " 'seaborn-notebook',\n",
       " 'seaborn-paper',\n",
       " 'seaborn-colorblind',\n",
       " 'seaborn-bright',\n",
       " 'seaborn-muted',\n",
       " 'classic',\n",
       " 'ggplot',\n",
       " 'fivethirtyeight',\n",
       " 'bmh',\n",
       " 'seaborn-poster',\n",
       " 'seaborn-whitegrid',\n",
       " 'seaborn-ticks',\n",
       " 'seaborn-talk',\n",
       " 'grayscale',\n",
       " 'seaborn-deep',\n",
       " 'seaborn-dark-palette',\n",
       " 'seaborn-pastel',\n",
       " 'seaborn-dark']"
      ]
     },
     "execution_count": 33,
     "metadata": {},
     "output_type": "execute_result"
    }
   ],
   "source": [
    "plt.style.available"
   ]
  },
  {
   "cell_type": "markdown",
   "metadata": {},
   "source": [
    "Let's try some!\n",
    "\n",
    "It's possible to emulate the style of the popular [ggplot2 library](http://ggplot2.org/) for [R](https://www.r-project.org/):"
   ]
  },
  {
   "cell_type": "code",
   "execution_count": 34,
   "metadata": {
    "collapsed": false
   },
   "outputs": [
    {
     "data": {
      "image/png": "[encoded data removed]",
      "text/plain": [
       "<matplotlib.figure.Figure at 0x7f56221780b8>"
      ]
     },
     "metadata": {},
     "output_type": "display_data"
    }
   ],
   "source": [
    "plt.style.use('ggplot')\n",
    "plt.plot(data);"
   ]
  },
  {
   "cell_type": "markdown",
   "metadata": {},
   "source": [
    "Coincidentally, the default [seaborn](http://stanford.edu/~mwaskom/software/seaborn/) style looks very similar:"
   ]
  },
  {
   "cell_type": "code",
   "execution_count": 35,
   "metadata": {
    "collapsed": false
   },
   "outputs": [
    {
     "data": {
      "image/png": "[encoded data removed]",
      "text/plain": [
       "<matplotlib.figure.Figure at 0x7f5622160198>"
      ]
     },
     "metadata": {},
     "output_type": "display_data"
    }
   ],
   "source": [
    "plt.style.use('seaborn-darkgrid')\n",
    "plt.plot(data);"
   ]
  },
  {
   "cell_type": "markdown",
   "metadata": {},
   "source": [
    "And there are a whole bunch of other seaborn-related styles ..."
   ]
  },
  {
   "cell_type": "code",
   "execution_count": 36,
   "metadata": {
    "collapsed": false
   },
   "outputs": [
    {
     "data": {
      "image/png": "[encoded data removed]",
      "text/plain": [
       "<matplotlib.figure.Figure at 0x7f56220c9be0>"
      ]
     },
     "metadata": {},
     "output_type": "display_data"
    }
   ],
   "source": [
    "plt.style.use('seaborn-ticks')\n",
    "plt.plot(data);"
   ]
  },
  {
   "cell_type": "markdown",
   "metadata": {},
   "source": [
    "Styles can be combined by specifying a list of strings:"
   ]
  },
  {
   "cell_type": "code",
   "execution_count": 37,
   "metadata": {
    "collapsed": false
   },
   "outputs": [
    {
     "data": {
      "image/png": "[encoded data removed]",
      "text/plain": [
       "<matplotlib.figure.Figure at 0x7f5622036748>"
      ]
     },
     "metadata": {},
     "output_type": "display_data"
    }
   ],
   "source": [
    "plt.style.use(['seaborn-whitegrid', 'seaborn-talk'])\n",
    "plt.plot(data);"
   ]
  },
  {
   "cell_type": "markdown",
   "metadata": {},
   "source": [
    "Of course it's also possible to fine-tune the styles in every detail, but this is beyond the scope of this little notebook.\n",
    "Just use your favorite search engine to find more information!\n",
    "\n",
    "There is also a special command that switches to [XKCD](http://xkcd.com/) style (which uses the [Humor Sans](http://antiyawn.com/uploads/Humor-Sans-1.0.ttf) font, available in the Debian package `fonts-humor-sans`):"
   ]
  },
  {
   "cell_type": "code",
   "execution_count": 38,
   "metadata": {
    "collapsed": false
   },
   "outputs": [
    {
     "data": {
      "image/png": "[encoded data removed]",
      "text/plain": [
       "<matplotlib.figure.Figure at 0x7f5621dd17f0>"
      ]
     },
     "metadata": {},
     "output_type": "display_data"
    }
   ],
   "source": [
    "plt.xkcd()\n",
    "plt.plot(data)\n",
    "plt.title('XKCD style!');"
   ]
  },
  {
   "cell_type": "markdown",
   "metadata": {},
   "source": [
    "## Finally: The Quick and Dirty Way\n",
    "\n",
    "The above examples are quite explicit (which is good) and a bit verbose (which might be tedious).\n",
    "\n",
    "If you just want to quickly fire up an IPython console and make some spontaneous throw-away plots, you can use the so-called \"pylab\" mode using [the \"magic\" command](http://ipython.org/ipython-doc/stable/interactive/magics.html#magic-pylab)\n",
    "\n",
    "    %pylab\n",
    "\n",
    "or\n",
    "\n",
    "    %pylab inline\n",
    "    \n",
    "Like the command `%matplotlib` we used above, this switches to `matplotlib`'s interactive mode, but in addition it includes a whole lot of convenience functions into the current namespace.\n",
    "That means you don't need to write any `import` statements and you can use the functions without the `plt.` and `np.` prefixes, e.g.:\n",
    "\n",
    "    plot(arange(100)**2)\n",
    "\n",
    "This should significantly reduce the number of characters you have to type (at least on the short term).\n",
    "However, this is not recommended if you want to keep your code, because the resulting code is hard to read for others (and for future you) and [it may cause some subtle errors](http://nbviewer.ipython.org/github/Carreau/posts/blob/master/10-No-PyLab-Thanks.ipynb)."
   ]
  },
  {
   "cell_type": "markdown",
   "metadata": {},
   "source": [
    "<p xmlns:dct=\"http://purl.org/dc/terms/\">\n",
    "  <a rel=\"license\"\n",
    "     href=\"http://creativecommons.org/publicdomain/zero/1.0/\">\n",
    "    <img src=\"http://i.creativecommons.org/p/zero/1.0/88x31.png\" style=\"border-style: none;\" alt=\"CC0\" />\n",
    "  </a>\n",
    "  <br />\n",
    "  To the extent possible under law,\n",
    "  <span resource=\"[_:publisher]\" rel=\"dct:publisher\">\n",
    "    <span property=\"dct:title\">Matthias Geier</span></span>\n",
    "  has waived all copyright and related or neighboring rights to\n",
    "  this work.\n",
    "</p>"
   ]
  }
 ],
 "metadata": {
  "kernelspec": {
   "display_name": "Python 3",
   "language": "python",
   "name": "python3"
  },
  "language_info": {
   "codemirror_mode": {
    "name": "ipython",
    "version": 3
   },
   "file_extension": ".py",
   "mimetype": "text/x-python",
   "name": "python",
   "nbconvert_exporter": "python",
   "pygments_lexer": "ipython3",
   "version": "3.4.3+"
  }
 },
 "nbformat": 4,
 "nbformat_minor": 0
}
