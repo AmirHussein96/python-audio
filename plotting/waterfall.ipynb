{
 "cells": [
  {
   "cell_type": "markdown",
   "metadata": {},
   "source": [
    "# Creating Waterfall Plots\n",
    "\n",
    "[back to overview page](index.ipynb)\n",
    "\n",
    "Note: This is *not* about [Waterfall Charts](https://en.wikipedia.org/wiki/Waterfall_chart), which is a completely different thing.\n",
    "\n",
    "A good search term might be \"cumulative spectral decay\" ...\n",
    "\n",
    "http://www.diyaudio.com/forums/multi-way/143821-css-lar1-ribbon-audax-pr170n0-usher-15hm-5.html"
   ]
  },
  {
   "cell_type": "markdown",
   "metadata": {},
   "source": [
    "`PolyCollection` demo: http://matplotlib.org/examples/mplot3d/polys3d_demo.html"
   ]
  },
  {
   "cell_type": "markdown",
   "metadata": {},
   "source": [
    "## External Links\n",
    "\n",
    "* question (and answer) on stackoverflow\n",
    "  * http://stackoverflow.com/questions/13240633/matplotlib-plot-pulse-propagation-in-3d\n",
    "\n",
    "* nice b/w example\n",
    "  * http://copper.math.buffalo.edu/438/trefethen_spectral/all_py_files/\n",
    "    * [p6.py](http://copper.math.buffalo.edu/438/trefethen_spectral/all_py_files/p6.py),\n",
    "      [output](http://copper.math.buffalo.edu/438/trefethen_spectral/all_py_files/p6.py.png),\n",
    "      [waterfall.py](http://copper.math.buffalo.edu/438/trefethen_spectral/all_py_files/waterfall.py)\n",
    "      \n",
    "* an example with crazy colors\n",
    "  * http://austringer.net/wp/index.php/2011/05/20/plotting-a-dolphin-biosonar-click-train/\n",
    "  \n",
    "* waterfall plot with Gnuplot\n",
    "  * http://www.gnuplotting.org/waterfall-plots-with-changing-color/"
   ]
  },
  {
   "cell_type": "markdown",
   "metadata": {},
   "source": [
    "<p xmlns:dct=\"http://purl.org/dc/terms/\">\n",
    "  <a rel=\"license\"\n",
    "     href=\"http://creativecommons.org/publicdomain/zero/1.0/\">\n",
    "    <img src=\"http://i.creativecommons.org/p/zero/1.0/88x31.png\" style=\"border-style: none;\" alt=\"CC0\" />\n",
    "  </a>\n",
    "  <br />\n",
    "  To the extent possible under law,\n",
    "  <span resource=\"[_:publisher]\" rel=\"dct:publisher\">\n",
    "    <span property=\"dct:title\">Matthias Geier</span></span>\n",
    "  has waived all copyright and related or neighboring rights to\n",
    "  this work.\n",
    "</p>"
   ]
  }
 ],
 "metadata": {
  "kernelspec": {
   "display_name": "Python 3",
   "language": "python",
   "name": "python3"
  },
  "language_info": {
   "codemirror_mode": {
    "name": "ipython",
    "version": 3
   },
   "file_extension": ".py",
   "mimetype": "text/x-python",
   "name": "python",
   "nbconvert_exporter": "python",
   "pygments_lexer": "ipython3",
   "version": "3.5.1+"
  }
 },
 "nbformat": 4,
 "nbformat_minor": 0
}
