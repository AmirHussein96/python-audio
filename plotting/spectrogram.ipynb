{
 "cells": [
  {
   "cell_type": "markdown",
   "metadata": {},
   "source": [
    "# Plotting a Spectrogram\n",
    "\n",
    "[back to overview page](index.ipynb)\n",
    "\n",
    "TODO"
   ]
  },
  {
   "cell_type": "markdown",
   "metadata": {},
   "source": [
    "## Why not use SoX?\n",
    "\n",
    "[SoX](http://sox.sourceforge.net/) is \"the Swiss Army knife of sound processing programs\".\n",
    "It's great for converting between different audio file formats and it can also do some basic (and some not so basic) audio processing.\n",
    "And behold, it can also create spectrograms, it's quite simple:\n",
    "\n",
    "    sox myfile.wav -n spectrogram"
   ]
  },
  {
   "cell_type": "markdown",
   "metadata": {},
   "source": [
    "## External Links\n",
    "\n",
    "TTS (Text-To-Spectrogram): https://github.com/kylophone/ascii-audio\n",
    "\n",
    "Live text-mode spectrogram: https://github.com/spatialaudio/python-sounddevice/blob/master/examples/spectrogram.py\n",
    "\n",
    "https://gist.github.com/ganwell/3772157\n",
    "\n",
    "http://www.swharden.com/blog/2013-05-09-realtime-fft-audio-visualization-with-python/\n",
    "\n",
    "http://stft.readthedocs.org/, https://github.com/audiolabs/stft\n",
    "\n",
    "http://www.frank-zalkow.de/en/code-snippets/create-audio-spectrograms-with-python.html?i=1"
   ]
  },
  {
   "cell_type": "markdown",
   "metadata": {},
   "source": [
    "<p xmlns:dct=\"http://purl.org/dc/terms/\">\n",
    "  <a rel=\"license\"\n",
    "     href=\"http://creativecommons.org/publicdomain/zero/1.0/\">\n",
    "    <img src=\"http://i.creativecommons.org/p/zero/1.0/88x31.png\" style=\"border-style: none;\" alt=\"CC0\" />\n",
    "  </a>\n",
    "  <br />\n",
    "  To the extent possible under law,\n",
    "  <span rel=\"dct:publisher\" resource=\"[_:publisher]\">the person who associated CC0</span>\n",
    "  with this work has waived all copyright and related or neighboring\n",
    "  rights to this work.\n",
    "</p>"
   ]
  }
 ],
 "metadata": {
  "kernelspec": {
   "display_name": "Python 3",
   "language": "python",
   "name": "python3"
  },
  "language_info": {
   "codemirror_mode": {
    "name": "ipython",
    "version": 3
   },
   "file_extension": ".py",
   "mimetype": "text/x-python",
   "name": "python",
   "nbconvert_exporter": "python",
   "pygments_lexer": "ipython3",
   "version": "3.5.1+"
  }
 },
 "nbformat": 4,
 "nbformat_minor": 0
}
