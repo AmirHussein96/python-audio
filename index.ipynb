{
 "metadata": {
  "name": "",
  "signature": "sha256:2f91b95a89e2c911a7b1f9cc0ca95e23381e25aeb27aa3b1b02e0dcee0a872a6"
 },
 "nbformat": 3,
 "nbformat_minor": 0,
 "worksheets": [
  {
   "cells": [
    {
     "cell_type": "heading",
     "level": 1,
     "metadata": {},
     "source": [
      "Audio Signal Processing in Python"
     ]
    },
    {
     "cell_type": "markdown",
     "metadata": {},
     "source": [
      "*Warning*: this is work in progress!"
     ]
    },
    {
     "cell_type": "markdown",
     "metadata": {},
     "source": [
      "* [Introduction to Python](intro-python.ipynb)\n",
      "\n",
      "* [Introduction to IPython](intro-ipython.ipynb)\n",
      "\n",
      "* [Introduction to NumPy](intro-numpy.ipynb)\n",
      "\n",
      "* [Generating Simple Audio Signals](simple-signals.ipynb)\n",
      "\n",
      "* [Reading and Writing Audio Files](audio-files/index.ipynb)\n",
      "\n",
      "* [Testing Python Code](testing/)"
     ]
    },
    {
     "cell_type": "markdown",
     "metadata": {},
     "source": [
      "TODO: more topics ..."
     ]
    },
    {
     "cell_type": "heading",
     "level": 2,
     "metadata": {},
     "source": [
      "Links"
     ]
    },
    {
     "cell_type": "markdown",
     "metadata": {},
     "source": [
      "There are quite a few blog posts and other resources available, here are a few\n",
      "links, use your favorite search engine to find more."
     ]
    },
    {
     "cell_type": "heading",
     "level": 3,
     "metadata": {},
     "source": [
      "Audio Signal Processing"
     ]
    },
    {
     "cell_type": "markdown",
     "metadata": {},
     "source": [
      "http://bastibe.de/2012-11-02-real-time-signal-processing-in-python.html\n",
      "\n",
      "http://www.swharden.com/blog/2013-05-09-realtime-fft-audio-visualization-with-python/\n",
      "\n",
      "http://www.swharden.com/blog/2013-05-08-realtime-data-plotting-in-python/\n",
      "\n",
      "http://www.swharden.com/blog/2010-03-05-realtime-fft-graph-of-audio-wav-file-or-microphone-input-with-python-scipy-and-wckgraph/\n",
      "\n",
      "http://samcarcagno.altervista.org/blog/basic-sound-processing-python/\n",
      "\n",
      "http://blog.chrisarndt.de/article/499 (de)"
     ]
    },
    {
     "cell_type": "heading",
     "level": 3,
     "metadata": {},
     "source": [
      "Signal Processing in General"
     ]
    },
    {
     "cell_type": "markdown",
     "metadata": {},
     "source": [
      "http://python-for-signal-processing.blogspot.de/"
     ]
    },
    {
     "cell_type": "heading",
     "level": 3,
     "metadata": {},
     "source": [
      "Scientific Python in General"
     ]
    },
    {
     "cell_type": "markdown",
     "metadata": {},
     "source": [
      "http://scipy-lectures.github.io/\n",
      "\n",
      "http://pig-in-the-python.blogspot.de/"
     ]
    },
    {
     "cell_type": "heading",
     "level": 3,
     "metadata": {},
     "source": [
      "NumPy"
     ]
    },
    {
     "cell_type": "markdown",
     "metadata": {},
     "source": [
      "http://www.loria.fr/~rougier/teaching/numpy/numpy.html"
     ]
    },
    {
     "cell_type": "heading",
     "level": 3,
     "metadata": {},
     "source": [
      "Python-based Libraries for Signal Processing"
     ]
    },
    {
     "cell_type": "markdown",
     "metadata": {},
     "source": [
      "Bob (signal-processing and machine learning toolbox)  \n",
      "http://idiap.github.io/bob/"
     ]
    },
    {
     "cell_type": "heading",
     "level": 3,
     "metadata": {},
     "source": [
      "Python in General"
     ]
    },
    {
     "cell_type": "markdown",
     "metadata": {},
     "source": [
      "http://cscircles.cemc.uwaterloo.ca/\n",
      "\n",
      "http://docs.python.org/3/tutorial/\n",
      "\n",
      "http://docs.python-guide.org/\n",
      "\n",
      "http://learnpythonthehardway.org/book/\n",
      "\n",
      "http://python.net/~goodger/projects/pycon/2007/idiomatic/handout.html\n",
      "\n",
      "http://lignos.org/py_antipatterns/\n",
      "\n",
      "http://www.digilentinc.com/Classroom/IntroProgramming1/"
     ]
    },
    {
     "cell_type": "heading",
     "level": 3,
     "metadata": {},
     "source": [
      "Collaboration with Other Software"
     ]
    },
    {
     "cell_type": "markdown",
     "metadata": {},
     "source": [
      "https://github.com/arokem/python-matlab-bridge\n",
      "\n",
      "https://github.com/ewiger/mlab\n",
      "\n",
      "https://github.com/bastibe/transplant"
     ]
    },
    {
     "cell_type": "heading",
     "level": 3,
     "metadata": {},
     "source": [
      "Comparison with Other Software"
     ]
    },
    {
     "cell_type": "markdown",
     "metadata": {},
     "source": [
      "http://wiki.scipy.org/NumPy_for_Matlab_Users\n",
      "\n",
      "http://bastibe.de/2013-01-20-a-python-primer-for-matlab-users.html"
     ]
    }
   ],
   "metadata": {}
  }
 ]
}