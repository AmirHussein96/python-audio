{
 "cells": [
  {
   "cell_type": "markdown",
   "metadata": {},
   "source": [
    "# Audio Signal Processing in Python\n",
    "\n",
    "*Warning*: this is work in progress!\n",
    "\n",
    "* [Introduction to Python](intro-python.ipynb)\n",
    "\n",
    "* [Introduction to IPython](intro-ipython.ipynb)\n",
    "\n",
    "* [Introduction to NumPy](intro-numpy.ipynb)\n",
    "\n",
    "* [Generating Simple Audio Signals](simple-signals.ipynb)\n",
    "\n",
    "* [Reading and Writing Audio Files](audio-files/index.ipynb)\n",
    "\n",
    "* [Plotting](plotting/index.ipynb)\n",
    "\n",
    "* [Testing Python Code](testing/index.ipynb)\n",
    "\n",
    "TODO: more topics ..."
   ]
  },
  {
   "cell_type": "markdown",
   "metadata": {},
   "source": [
    "## External Links\n",
    "\n",
    "There are quite a few blog posts and other resources available, here are a few\n",
    "links, use your favorite search engine to find more."
   ]
  },
  {
   "cell_type": "markdown",
   "metadata": {},
   "source": [
    "### Audio Signal Processing\n",
    "\n",
    "http://bastibe.de/2012-11-02-real-time-signal-processing-in-python.html\n",
    "\n",
    "http://www.swharden.com/blog/2013-05-09-realtime-fft-audio-visualization-with-python/\n",
    "\n",
    "http://www.swharden.com/blog/2013-05-08-realtime-data-plotting-in-python/\n",
    "\n",
    "http://www.swharden.com/blog/2010-03-05-realtime-fft-graph-of-audio-wav-file-or-microphone-input-with-python-scipy-and-wckgraph/\n",
    "\n",
    "http://samcarcagno.altervista.org/blog/basic-sound-processing-python/\n",
    "\n",
    "http://blog.chrisarndt.de/article/499 (de)"
   ]
  },
  {
   "cell_type": "markdown",
   "metadata": {},
   "source": [
    "### Signal Processing in General\n",
    "\n",
    "http://python-for-signal-processing.blogspot.de/"
   ]
  },
  {
   "cell_type": "markdown",
   "metadata": {},
   "source": [
    "### Scientific Python in General\n",
    "\n",
    "http://scipy-lectures.github.io/\n",
    "\n",
    "http://pig-in-the-python.blogspot.de/\n",
    "\n",
    "http://www.southampton.ac.uk/~feeg1001/index.html\n",
    "\n",
    "Computational Methods for Psychology and Neuroscience: http://memory.osu.edu/classes/python/index.html"
   ]
  },
  {
   "cell_type": "markdown",
   "metadata": {},
   "source": [
    "### NumPy\n",
    "\n",
    "http://www.loria.fr/~rougier/teaching/numpy/numpy.html"
   ]
  },
  {
   "cell_type": "markdown",
   "metadata": {},
   "source": [
    "### Python-based Libraries for Signal Processing\n",
    "\n",
    "Bob (signal-processing and machine learning toolbox)  \n",
    "http://idiap.github.io/bob/"
   ]
  },
  {
   "cell_type": "markdown",
   "metadata": {},
   "source": [
    "### Python in General\n",
    "\n",
    "http://cscircles.cemc.uwaterloo.ca/\n",
    "\n",
    "http://docs.python.org/3/tutorial/\n",
    "\n",
    "http://docs.python-guide.org/\n",
    "\n",
    "http://learnpythonthehardway.org/book/\n",
    "\n",
    "http://getpython3.com/diveintopython3/index.html\n",
    "\n",
    "http://python.net/~goodger/projects/pycon/2007/idiomatic/handout.html\n",
    "\n",
    "http://lignos.org/py_antipatterns/\n",
    "\n",
    "http://www.digilentinc.com/Classroom/IntroProgramming1/\n",
    "\n",
    "https://github.com/JonasSC/PythonistManifesto"
   ]
  },
  {
   "cell_type": "markdown",
   "metadata": {},
   "source": [
    "### Collaboration with Other Software\n",
    "\n",
    "https://github.com/arokem/python-matlab-bridge\n",
    "\n",
    "https://github.com/ewiger/mlab\n",
    "\n",
    "https://github.com/bastibe/transplant"
   ]
  },
  {
   "cell_type": "markdown",
   "metadata": {},
   "source": [
    "### Comparison with Other Software\n",
    "\n",
    "http://wiki.scipy.org/NumPy_for_Matlab_Users\n",
    "\n",
    "http://bastibe.de/2013-01-20-a-python-primer-for-matlab-users.html"
   ]
  },
  {
   "cell_type": "markdown",
   "metadata": {},
   "source": [
    "<p xmlns:dct=\"http://purl.org/dc/terms/\">\n",
    "  <a rel=\"license\"\n",
    "     href=\"http://creativecommons.org/publicdomain/zero/1.0/\">\n",
    "    <img src=\"http://i.creativecommons.org/p/zero/1.0/88x31.png\" style=\"border-style: none;\" alt=\"CC0\" />\n",
    "  </a>\n",
    "  <br />\n",
    "  To the extent possible under law,\n",
    "  <span resource=\"[_:publisher]\" rel=\"dct:publisher\">\n",
    "    <span property=\"dct:title\">Matthias Geier</span></span>\n",
    "  has waived all copyright and related or neighboring rights to\n",
    "  this work.\n",
    "</p>"
   ]
  }
 ],
 "metadata": {
  "kernelspec": {
   "display_name": "Python 3",
   "language": "python",
   "name": "python3"
  },
  "language_info": {
   "codemirror_mode": {
    "name": "ipython",
    "version": 3
   },
   "file_extension": ".py",
   "mimetype": "text/x-python",
   "name": "python",
   "nbconvert_exporter": "python",
   "pygments_lexer": "ipython3",
   "version": "3.4.3+"
  }
 },
 "nbformat": 4,
 "nbformat_minor": 0
}
