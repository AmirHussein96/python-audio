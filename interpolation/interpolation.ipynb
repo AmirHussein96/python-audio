{
 "cells": [
  {
   "cell_type": "markdown",
   "metadata": {},
   "source": [
    "# Interpolation/Fractional Delay/Resampling"
   ]
  },
  {
   "cell_type": "markdown",
   "metadata": {},
   "source": [
    "[back to main page](https://github.com/mgeier/python-audio/blob/master)\n",
    "\n",
    "WARNING: this is work-in-progress!"
   ]
  },
  {
   "cell_type": "markdown",
   "metadata": {},
   "source": [
    "TODO: a lot of explanations\n",
    "\n",
    "For an introduction on NumPy and how to create simple signals, see [TODO: link to intro]."
   ]
  },
  {
   "cell_type": "code",
   "execution_count": null,
   "metadata": {},
   "outputs": [],
   "source": [
    "%pylab inline"
   ]
  },
  {
   "cell_type": "markdown",
   "metadata": {},
   "source": [
    "First, let's set the sampling rate we'll be using:"
   ]
  },
  {
   "cell_type": "code",
   "execution_count": null,
   "metadata": {},
   "outputs": [],
   "source": [
    "fs = 44100  # Hz"
   ]
  },
  {
   "cell_type": "markdown",
   "metadata": {},
   "source": [
    "A nice sine tone as test signal ..."
   ]
  },
  {
   "cell_type": "code",
   "execution_count": null,
   "metadata": {},
   "outputs": [],
   "source": [
    "duration = 2  # seconds\n",
    "frequency = 440  # Hz\n",
    "\n",
    "t = arange(0, duration, 1/fs)\n",
    "sine = sin(2 * pi * frequency * t)"
   ]
  },
  {
   "cell_type": "code",
   "execution_count": null,
   "metadata": {},
   "outputs": [],
   "source": [
    "plot(sine[:100])\n",
    "ylim(-1.1, 1.1)\n",
    "show()"
   ]
  },
  {
   "cell_type": "code",
   "execution_count": null,
   "metadata": {},
   "outputs": [],
   "source": [
    "# TODO: fade in/out!\n",
    "# TODO: write WAV file"
   ]
  },
  {
   "cell_type": "code",
   "execution_count": null,
   "metadata": {},
   "outputs": [],
   "source": [
    "a = empty(1)\n",
    "a"
   ]
  },
  {
   "cell_type": "code",
   "execution_count": null,
   "metadata": {},
   "outputs": [],
   "source": [
    "def dumb_linear_interpolation(x, fraction):\n",
    "    \"This is a very dumb implementation!\"\n",
    "    x = np.asarray(x)\n",
    "    # TODO: check that it's one-dimensional\n",
    "    \n",
    "    y_len = len(x) - 1\n",
    "    y = np.empty(y_len)\n",
    "    for i in range(y_len):\n",
    "        y[i] = fraction * x[i] + (1 - fraction) * x[i + 1]\n",
    "    return y"
   ]
  },
  {
   "cell_type": "code",
   "execution_count": null,
   "metadata": {},
   "outputs": [],
   "source": [
    "sine2 = dumb_linear_interpolation(sine, 0.5)\n",
    "\n",
    "len(sine2)"
   ]
  },
  {
   "cell_type": "markdown",
   "metadata": {},
   "source": [
    "Note: length is one sample less"
   ]
  },
  {
   "cell_type": "code",
   "execution_count": null,
   "metadata": {},
   "outputs": [],
   "source": [
    "plot(sine2[:100])\n",
    "ylim(-1.1, 1.1)\n",
    "show()"
   ]
  },
  {
   "cell_type": "code",
   "execution_count": null,
   "metadata": {},
   "outputs": [],
   "source": [
    "# TODO: write WAV"
   ]
  },
  {
   "cell_type": "markdown",
   "metadata": {},
   "source": [
    "Looks OK? Sounds OK?"
   ]
  },
  {
   "cell_type": "code",
   "execution_count": null,
   "metadata": {},
   "outputs": [],
   "source": [
    "# TODO: same with noise, listen to both versions -> low-pass?"
   ]
  },
  {
   "cell_type": "markdown",
   "metadata": {},
   "source": [
    "OK, this is actually FIR filtering (TODO: explain), so we can do it with a convolution:"
   ]
  },
  {
   "cell_type": "code",
   "execution_count": null,
   "metadata": {},
   "outputs": [],
   "source": [
    "# TODO: explain mode='valid'\n",
    "\n",
    "sine3 = convolve(sine, [0.5, 0.5], mode='valid')"
   ]
  },
  {
   "cell_type": "code",
   "execution_count": null,
   "metadata": {},
   "outputs": [],
   "source": [
    "max(abs(sine2 - sine3))"
   ]
  },
  {
   "cell_type": "markdown",
   "metadata": {},
   "source": [
    "When I tried it, there wasn't even a rounding error. YMMV."
   ]
  },
  {
   "cell_type": "markdown",
   "metadata": {},
   "source": [
    "Let's check the frequency response of our interpolation filter to check if it's really a low-pass filter."
   ]
  },
  {
   "cell_type": "code",
   "execution_count": null,
   "metadata": {},
   "outputs": [],
   "source": [
    "# TODO: better function to display frequency response?\n",
    "# TODO: in dB, log frequency?\n",
    "# TODO: x-axis: frequencies (np.fftfreq()?)\n",
    "\n",
    "fftlength = 1000\n",
    "plot(abs(rfft([0.5, 0.5], fftlength)))\n",
    "show()"
   ]
  },
  {
   "cell_type": "markdown",
   "metadata": {},
   "source": [
    "Yes, that looks like a low-pass filter!"
   ]
  },
  {
   "cell_type": "code",
   "execution_count": null,
   "metadata": {},
   "outputs": [],
   "source": [
    "plot(abs(rfft(column_stack((\n",
    "  [0  , 1  ],\n",
    "  [0.1, 0.9],\n",
    "  [0.2, 0.8],\n",
    "  [0.3, 0.7],\n",
    "  [0.4, 0.6],\n",
    "  [0.5, 0.5])), fftlength, axis=0)))\n",
    "ylim(0, 1.1)\n",
    "show()"
   ]
  },
  {
   "cell_type": "code",
   "execution_count": null,
   "metadata": {},
   "outputs": [],
   "source": []
  },
  {
   "cell_type": "code",
   "execution_count": null,
   "metadata": {},
   "outputs": [],
   "source": [
    "# TODO: many more things!"
   ]
  }
 ],
 "metadata": {},
 "nbformat": 4,
 "nbformat_minor": 2
}
