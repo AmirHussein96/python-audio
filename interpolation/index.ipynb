{
 "metadata": {
  "name": "",
  "signature": "sha256:2b3747348d45f54f867cc66221f2b42220f03ca44aee8b76942e337d937bfecc"
 },
 "nbformat": 3,
 "nbformat_minor": 0,
 "worksheets": [
  {
   "cells": [
    {
     "cell_type": "heading",
     "level": 1,
     "metadata": {},
     "source": [
      "Interpolation/Fractional Delay/Resampling"
     ]
    },
    {
     "cell_type": "markdown",
     "metadata": {},
     "source": [
      "[back to main page](../index.ipynb)"
     ]
    },
    {
     "cell_type": "markdown",
     "metadata": {},
     "source": [
      "This is work-in-progress!"
     ]
    },
    {
     "cell_type": "markdown",
     "metadata": {},
     "source": [
      "[IPython notebook](http://nbviewer.ipython.org/urls/raw.github.com/mgeier/python-audio/master/interpolation/interpolation.ipynb)"
     ]
    },
    {
     "cell_type": "heading",
     "level": 2,
     "metadata": {},
     "source": [
      "Available Open Source Libraries"
     ]
    },
    {
     "cell_type": "markdown",
     "metadata": {},
     "source": [
      "Secret Rabbit Code (aka libsamplerate):  \n",
      "http://www.mega-nerd.com/SRC/\n",
      "\n",
      "FSRC:  \n",
      "http://libfsrc.sourceforge.net/\n",
      "\n",
      "Rubber Band Library:  \n",
      "http://breakfastquay.com/rubberband/  \n",
      "https://bitbucket.org/breakfastquay/rubberband/\n",
      "\n",
      "SoundTouch Audio Processing Library:  \n",
      "http://www.surina.net/soundtouch/index.html\n",
      "\n",
      "Maximilian:  \n",
      "http://maximilian.strangeloop.co.uk/  \n",
      "https://github.com/micknoise/Maximilian\n",
      "\n",
      "libsoxr:  \n",
      "http://sourceforge.net/projects/soxr/\n",
      "\n",
      "libresample:  \n",
      "https://ccrma.stanford.edu/~jos/resample/README-libresample-0.1.3.txt  \n",
      "https://github.com/intervigilium/libresample\n",
      "\n",
      "various:  \n",
      "https://ccrma.stanford.edu/~jos/resample/Available_Software.html"
     ]
    },
    {
     "cell_type": "heading",
     "level": 2,
     "metadata": {},
     "source": [
      "Misc"
     ]
    },
    {
     "cell_type": "markdown",
     "metadata": {},
     "source": [
      "Comparison of Sample Rate Converters:  \n",
      "http://src.infinitewave.ca/\n",
      "\n",
      "Sample Rate Conversion in Audacity:  \n",
      "http://wiki.audacityteam.org/wiki/Libsoxr"
     ]
    }
   ],
   "metadata": {}
  }
 ]
}