{
 "cells": [
  {
   "cell_type": "markdown",
   "metadata": {},
   "source": [
    "# Interpolation/Fractional Delay/Resampling"
   ]
  },
  {
   "cell_type": "markdown",
   "metadata": {},
   "source": [
    "[back to main page](../index.ipynb)"
   ]
  },
  {
   "cell_type": "markdown",
   "metadata": {},
   "source": [
    "This is work-in-progress!"
   ]
  },
  {
   "cell_type": "markdown",
   "metadata": {},
   "source": [
    "[IPython notebook](http://nbviewer.ipython.org/urls/raw.github.com/mgeier/python-audio/master/interpolation/interpolation.ipynb)"
   ]
  },
  {
   "cell_type": "markdown",
   "metadata": {},
   "source": [
    "## Resampling/Interpolation in Python\n",
    "\n",
    "scikits.samplerate:  \n",
    "http://scikits.appspot.com/samplerate\n",
    "\n",
    "numpy.interp:  \n",
    "http://docs.scipy.org/doc/numpy/reference/generated/numpy.interp.html\n",
    "\n",
    "scipy.signal.resample:  \n",
    "http://docs.scipy.org/doc/scipy/reference/generated/scipy.signal.resample.html\n",
    "\n",
    "scipy.interpolate sub-package:  \n",
    "http://docs.scipy.org/doc/scipy/reference/interpolate.html\n",
    "\n",
    "http://urinieto.com/2011/05/audio-resampling-in-python/\n",
    "\n",
    "http://nbviewer.ipython.org/github/LCAV/SignalsOfTheDay/blob/master/Safecast/Safecast.ipynb\n",
    "\n",
    "https://www.flickr.com/photos/omegatron/6259002071\n",
    "\n",
    "pyrubberband:  \n",
    "https://github.com/bmcfee/pyrubberband"
   ]
  },
  {
   "cell_type": "markdown",
   "metadata": {},
   "source": [
    "## Available Open Source Libraries\n",
    "\n",
    "Secret Rabbit Code (aka libsamplerate):  \n",
    "http://www.mega-nerd.com/SRC/\n",
    "\n",
    "FSRC:  \n",
    "http://libfsrc.sourceforge.net/\n",
    "\n",
    "Rubber Band Library:  \n",
    "http://breakfastquay.com/rubberband/  \n",
    "https://bitbucket.org/breakfastquay/rubberband/\n",
    "\n",
    "SoundTouch Audio Processing Library:  \n",
    "http://www.surina.net/soundtouch/index.html\n",
    "\n",
    "Maximilian:  \n",
    "http://maximilian.strangeloop.co.uk/  \n",
    "https://github.com/micknoise/Maximilian\n",
    "\n",
    "libsoxr:  \n",
    "http://sourceforge.net/projects/soxr/\n",
    "\n",
    "libresample:  \n",
    "https://ccrma.stanford.edu/~jos/resample/README-libresample-0.1.3.txt  \n",
    "https://github.com/intervigilium/libresample\n",
    "\n",
    "various:  \n",
    "https://ccrma.stanford.edu/~jos/resample/Available_Software.html"
   ]
  },
  {
   "cell_type": "markdown",
   "metadata": {},
   "source": [
    "## Misc"
   ]
  },
  {
   "cell_type": "markdown",
   "metadata": {},
   "source": [
    "Comparison of Sample Rate Converters:  \n",
    "http://src.infinitewave.ca/\n",
    "\n",
    "Sample Rate Conversion in Audacity:  \n",
    "http://wiki.audacityteam.org/wiki/Libsoxr"
   ]
  },
  {
   "cell_type": "markdown",
   "metadata": {},
   "source": [
    "## More Links\n",
    "\n",
    "http://www.music.mcgill.ca/~gary/618/week1/delayline.html\n",
    "\n",
    "http://www.embedded.com/design/other/4212939/Time-domain-interpolation-using-the-Fast-Fourier-Transform-\n",
    "\n",
    "http://phaseportrait.blogspot.de/2008/06/sinc-interpolation-in-matlab.html\n",
    "\n",
    "https://lists.columbia.edu/pipermail/music-dsp/2016-February/000605.html"
   ]
  },
  {
   "cell_type": "markdown",
   "metadata": {},
   "source": [
    "<p xmlns:dct=\"http://purl.org/dc/terms/\">\n",
    "  <a rel=\"license\"\n",
    "     href=\"http://creativecommons.org/publicdomain/zero/1.0/\">\n",
    "    <img src=\"http://i.creativecommons.org/p/zero/1.0/88x31.png\" style=\"border-style: none;\" alt=\"CC0\" />\n",
    "  </a>\n",
    "  <br />\n",
    "  To the extent possible under law,\n",
    "  <span resource=\"[_:publisher]\" rel=\"dct:publisher\">\n",
    "    <span property=\"dct:title\">Matthias Geier</span></span>\n",
    "  has waived all copyright and related or neighboring rights to\n",
    "  this work.\n",
    "</p>"
   ]
  }
 ],
 "metadata": {
  "kernelspec": {
   "display_name": "Python 3",
   "language": "python",
   "name": "python3"
  },
  "language_info": {
   "codemirror_mode": {
    "name": "ipython",
    "version": 3
   },
   "file_extension": ".py",
   "mimetype": "text/x-python",
   "name": "python",
   "nbconvert_exporter": "python",
   "pygments_lexer": "ipython3",
   "version": "3.5.1+"
  }
 },
 "nbformat": 4,
 "nbformat_minor": 0
}
