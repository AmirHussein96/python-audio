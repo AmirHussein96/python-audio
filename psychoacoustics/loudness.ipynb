{
 "cells": [
  {
   "cell_type": "markdown",
   "metadata": {},
   "source": [
    "# Loudness\n",
    "\n",
    "[back to main page](../index.ipynb)\n",
    "\n",
    "https://youtu.be/iuEtQqC-Sqo\n",
    "\n",
    "ITU-R BS.1770 https://www.itu.int/rec/R-REC-BS.1770\n",
    "\n",
    "K-rating $\\ne$ [K-system](https://en.wikipedia.org/wiki/K-system)!\n",
    "\n",
    "* VU .. volume unit\n",
    "* LU .. loudness unit\n",
    "* LUFS\n",
    "\n",
    "* QPPM vs. \"true peak\" (with oversampling)\n",
    "\n",
    "EBU R 128 https://tech.ebu.ch/loudness\n",
    "\n",
    "-1 dBTP\n",
    "\n",
    "Python library: http://mikrolax.github.io/loudnessPlotter/\n",
    "\n",
    "C++ library with Python bindings: https://github.com/deeuu/loudness\n",
    "\n",
    "C++/JACK Ebumeter: [doc](http://kokkinizita.linuxaudio.org/linuxaudio/ebumeter-doc/quickguide.html),\n",
    "[download](http://kokkinizita.linuxaudio.org/linuxaudio/downloads/index.html)"
   ]
  },
  {
   "cell_type": "markdown",
   "metadata": {},
   "source": [
    "<p xmlns:dct=\"http://purl.org/dc/terms/\">\n",
    "  <a rel=\"license\"\n",
    "     href=\"http://creativecommons.org/publicdomain/zero/1.0/\">\n",
    "    <img src=\"http://i.creativecommons.org/p/zero/1.0/88x31.png\" style=\"border-style: none;\" alt=\"CC0\" />\n",
    "  </a>\n",
    "  <br />\n",
    "  To the extent possible under law,\n",
    "  <span resource=\"[_:publisher]\" rel=\"dct:publisher\">\n",
    "    <span property=\"dct:title\">Matthias Geier</span></span>\n",
    "  has waived all copyright and related or neighboring rights to\n",
    "  this work.\n",
    "</p>"
   ]
  }
 ],
 "metadata": {
  "kernelspec": {
   "display_name": "Python 3",
   "language": "python",
   "name": "python3"
  },
  "language_info": {
   "codemirror_mode": {
    "name": "ipython",
    "version": 3
   },
   "file_extension": ".py",
   "mimetype": "text/x-python",
   "name": "python",
   "nbconvert_exporter": "python",
   "pygments_lexer": "ipython3",
   "version": "3.5.1+"
  }
 },
 "nbformat": 4,
 "nbformat_minor": 1
}
