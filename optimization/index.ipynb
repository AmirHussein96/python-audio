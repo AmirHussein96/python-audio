{
 "cells": [
  {
   "cell_type": "markdown",
   "metadata": {},
   "source": [
    "# Optimizing Python Code"
   ]
  },
  {
   "cell_type": "markdown",
   "metadata": {},
   "source": [
    "[back to main page](../index.ipynb)"
   ]
  },
  {
   "cell_type": "markdown",
   "metadata": {},
   "source": [
    "This is work-in-progress!"
   ]
  },
  {
   "cell_type": "markdown",
   "metadata": {},
   "source": [
    "First, check for bottlenecks, then optimize!\n",
    "\n",
    "[cProfile and pstats](https://docs.python.org/3.4/library/profile.html)\n",
    "\n",
    "    python -m cProfile -o output.prof myscript.py\n",
    "\n",
    "[RunSnakeRun](http://www.vrplumber.com/programming/runsnakerun/)\n",
    "\n",
    "[PLOP](https://github.com/bdarnell/plop)"
   ]
  },
  {
   "cell_type": "markdown",
   "metadata": {},
   "source": [
    "## Parallel Processing"
   ]
  },
  {
   "cell_type": "markdown",
   "metadata": {},
   "source": [
    "[DistNumPy](https://code.google.com/p/distnumpy/)\n",
    "\n",
    "[Bohrium](http://bohrium.bitbucket.org/)\n",
    "\n",
    "[DistArray](http://distarray.readthedocs.org/)\n",
    "\n",
    "[Distributed Array Protocol](http://distributed-array-protocol.readthedocs.org/)"
   ]
  },
  {
   "cell_type": "markdown",
   "metadata": {},
   "source": [
    "## Links"
   ]
  },
  {
   "cell_type": "markdown",
   "metadata": {},
   "source": [
    "http://sebastianraschka.com/Articles/2014_multiprocessing_intro.html"
   ]
  },
  {
   "cell_type": "markdown",
   "metadata": {},
   "source": [
    "## TODO"
   ]
  },
  {
   "cell_type": "markdown",
   "metadata": {},
   "source": [
    "    python -O"
   ]
  }
 ],
 "metadata": {},
 "nbformat": 4,
 "nbformat_minor": 2
}
