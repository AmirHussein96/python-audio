{
 "metadata": {
  "name": "",
  "signature": "sha256:c68ddd0818d15ede4394a733c82a68aaecb56a234004098c9d52b889bbd5254d"
 },
 "nbformat": 3,
 "nbformat_minor": 0,
 "worksheets": [
  {
   "cells": [
    {
     "cell_type": "heading",
     "level": 1,
     "metadata": {},
     "source": [
      "Optimizing Python Code"
     ]
    },
    {
     "cell_type": "markdown",
     "metadata": {},
     "source": [
      "[back to main page](../index.ipynb)"
     ]
    },
    {
     "cell_type": "markdown",
     "metadata": {},
     "source": [
      "This is work-in-progress!"
     ]
    },
    {
     "cell_type": "markdown",
     "metadata": {},
     "source": [
      "First, check for bottlenecks, then optimize!\n",
      "\n",
      "[cProfile and pstats](https://docs.python.org/3.4/library/profile.html)\n",
      "\n",
      "    python -m cProfile -o output.prof myscript.py\n",
      "\n",
      "[RunSnakeRun](http://www.vrplumber.com/programming/runsnakerun/)\n",
      "\n",
      "[PLOP](https://github.com/bdarnell/plop)"
     ]
    },
    {
     "cell_type": "heading",
     "level": 2,
     "metadata": {},
     "source": [
      "Parallel Processing"
     ]
    },
    {
     "cell_type": "markdown",
     "metadata": {},
     "source": [
      "[DistNumPy](https://code.google.com/p/distnumpy/)\n",
      "\n",
      "[Bohrium](http://bohrium.bitbucket.org/)\n",
      "\n",
      "[DistArray](http://distarray.readthedocs.org/)\n",
      "\n",
      "[Distributed Array Protocol](http://distributed-array-protocol.readthedocs.org/)"
     ]
    },
    {
     "cell_type": "heading",
     "level": 2,
     "metadata": {},
     "source": [
      "Links"
     ]
    },
    {
     "cell_type": "markdown",
     "metadata": {},
     "source": [
      "http://sebastianraschka.com/Articles/2014_multiprocessing_intro.html"
     ]
    },
    {
     "cell_type": "heading",
     "level": 2,
     "metadata": {},
     "source": [
      "TODO"
     ]
    },
    {
     "cell_type": "markdown",
     "metadata": {},
     "source": [
      "    python -O"
     ]
    }
   ],
   "metadata": {}
  }
 ]
}