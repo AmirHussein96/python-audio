{
 "metadata": {
  "name": "",
  "signature": "sha256:6cae73f2ac401f5a279030b64d304b929fbff7db216e4d2c8dd1b4e1084145c3"
 },
 "nbformat": 3,
 "nbformat_minor": 0,
 "worksheets": [
  {
   "cells": [
    {
     "cell_type": "heading",
     "level": 1,
     "metadata": {},
     "source": [
      "Optimizing Python Code"
     ]
    },
    {
     "cell_type": "markdown",
     "metadata": {},
     "source": [
      "[back to main page](../index.ipynb)"
     ]
    },
    {
     "cell_type": "markdown",
     "metadata": {},
     "source": [
      "This is work-in-progress!"
     ]
    },
    {
     "cell_type": "markdown",
     "metadata": {},
     "source": [
      "First, check for bottlenecks, then optimize!\n",
      "\n",
      "[cProfile and pstats](https://docs.python.org/3.4/library/profile.html)\n",
      "\n",
      "    python -m cProfile -o output.prof myscript.py\n",
      "\n",
      "[RunSnakeRun](http://www.vrplumber.com/programming/runsnakerun/)\n",
      "\n",
      "[PLOP](https://github.com/bdarnell/plop)"
     ]
    },
    {
     "cell_type": "heading",
     "level": 2,
     "metadata": {},
     "source": [
      "Parallel Processing"
     ]
    },
    {
     "cell_type": "markdown",
     "metadata": {},
     "source": [
      "[DistNumPy](https://code.google.com/p/distnumpy/)\n",
      "\n",
      "[Bohrium](http://bohrium.bitbucket.org/)\n",
      "\n",
      "[DistArray](http://distarray.readthedocs.org/)\n",
      "\n",
      "[Distributed Array Protocol](http://distributed-array-protocol.readthedocs.org/)\n",
      "\n",
      "[Disco](http://discoproject.org/)\n",
      "\n",
      "[SCOOP](http://code.google.com/p/scoop/)"
     ]
    },
    {
     "cell_type": "heading",
     "level": 2,
     "metadata": {},
     "source": [
      "Links"
     ]
    },
    {
     "cell_type": "markdown",
     "metadata": {},
     "source": [
      "http://sebastianraschka.com/Articles/2014_multiprocessing_intro.html"
     ]
    },
    {
     "cell_type": "heading",
     "level": 2,
     "metadata": {},
     "source": [
      "TODO"
     ]
    },
    {
     "cell_type": "markdown",
     "metadata": {},
     "source": [
      "    python -O"
     ]
    },
    {
     "cell_type": "code",
     "collapsed": false,
     "input": [],
     "language": "python",
     "metadata": {},
     "outputs": []
    },
    {
     "cell_type": "markdown",
     "metadata": {},
     "source": [
      "<p xmlns:dct=\"http://purl.org/dc/terms/\">\n",
      "  <a rel=\"license\"\n",
      "     href=\"http://creativecommons.org/publicdomain/zero/1.0/\">\n",
      "    <img src=\"http://i.creativecommons.org/p/zero/1.0/88x31.png\" style=\"border-style: none;\" alt=\"CC0\" />\n",
      "  </a>\n",
      "  <br />\n",
      "  To the extent possible under law,\n",
      "  <span resource=\"[_:publisher]\" rel=\"dct:publisher\">\n",
      "    <span property=\"dct:title\">Matthias Geier</span></span>\n",
      "  has waived all copyright and related or neighboring rights to\n",
      "  this work.\n",
      "</p>"
     ]
    }
   ],
   "metadata": {}
  }
 ]
}