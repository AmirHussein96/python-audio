{
 "metadata": {
  "name": "",
  "signature": "sha256:937d66f3ab9a96e4074c7ed02fa0cb8a845b28ec60043a12478f28623151858f"
 },
 "nbformat": 3,
 "nbformat_minor": 0,
 "worksheets": [
  {
   "cells": [
    {
     "cell_type": "heading",
     "level": 1,
     "metadata": {},
     "source": [
      "Optimizing Python Code"
     ]
    },
    {
     "cell_type": "markdown",
     "metadata": {},
     "source": [
      "[back to main page](../index.ipynb)"
     ]
    },
    {
     "cell_type": "markdown",
     "metadata": {},
     "source": [
      "This is work-in-progress!"
     ]
    },
    {
     "cell_type": "markdown",
     "metadata": {},
     "source": [
      "First, check for bottlenecks, then optimize!\n",
      "\n",
      "[cProfile and pstats](https://docs.python.org/3.4/library/profile.html)\n",
      "\n",
      "    python -m cProfile -o output.prof myscript.py\n",
      "\n",
      "[RunSnakeRun](http://www.vrplumber.com/programming/runsnakerun/)\n",
      "\n",
      "[PLOP](https://github.com/bdarnell/plop)"
     ]
    },
    {
     "cell_type": "heading",
     "level": 2,
     "metadata": {},
     "source": [
      "Parallel Processing"
     ]
    },
    {
     "cell_type": "markdown",
     "metadata": {},
     "source": [
      "[DistNumPy](https://code.google.com/p/distnumpy/)\n",
      "\n",
      "[Bohrium](http://bohrium.bitbucket.org/)\n",
      "\n",
      "[DistArray](http://distarray.readthedocs.org/)\n",
      "\n",
      "[Distributed Array Protocol](http://distributed-array-protocol.readthedocs.org/)\n",
      "\n",
      "[Disco](http://discoproject.org/)\n",
      "\n",
      "[SCOOP](http://code.google.com/p/scoop/)"
     ]
    },
    {
     "cell_type": "heading",
     "level": 2,
     "metadata": {},
     "source": [
      "Links"
     ]
    },
    {
     "cell_type": "markdown",
     "metadata": {},
     "source": [
      "http://sebastianraschka.com/Articles/2014_multiprocessing_intro.html"
     ]
    },
    {
     "cell_type": "heading",
     "level": 2,
     "metadata": {},
     "source": [
      "TODO"
     ]
    },
    {
     "cell_type": "markdown",
     "metadata": {},
     "source": [
      "    python -O"
     ]
    }
   ],
   "metadata": {}
  }
 ]
}