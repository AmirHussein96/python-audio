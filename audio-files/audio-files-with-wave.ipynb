{
 "cells": [
  {
   "cell_type": "markdown",
   "metadata": {},
   "source": [
    "# Reading and Writing Audio Files with wave\n",
    "\n",
    "[back to overview page](index.ipynb)\n",
    "\n",
    "The `wave` module is part of the Python standard library.\n",
    "\n",
    "Documentation:\n",
    "\n",
    "* http://docs.python.org/2/library/wave.html (Python 2.x)\n",
    "* http://docs.python.org/3/library/wave.html (Python 3.x)\n",
    "\n",
    "Audio data is handled with the Python type `str` (Python 2.x) or `bytes` (Python 3.x).\n",
    "\n",
    "Advantages:\n",
    "\n",
    "* part of the standard library, no further dependencies\n",
    "* 24-bit files can be used (but manual conversion is necessary)\n",
    "* partial reading is possible\n",
    "* works with both Python 2 and 3\n",
    "\n",
    "Disadvantages:\n",
    "\n",
    "* 32-bit float not supported\n",
    "* WAVEX doesn't work\n",
    "* manual de-interleaving and conversion is necessary"
   ]
  },
  {
   "cell_type": "markdown",
   "metadata": {},
   "source": [
    "## Reading\n",
    "\n",
    "Reading a 16-bit WAV file into a NumPy array is not hard, but it requires a few lines of code:"
   ]
  },
  {
   "cell_type": "code",
   "execution_count": 1,
   "metadata": {
    "collapsed": false
   },
   "outputs": [],
   "source": [
    "import wave\n",
    "import numpy as np\n",
    "import utility\n",
    "\n",
    "with wave.open('data/test_wav_pcm16.wav') as w:\n",
    "    channels = w.getnchannels()\n",
    "    assert w.getsampwidth() == 2\n",
    "    data = w.readframes(w.getnframes())\n",
    "\n",
    "sig = np.frombuffer(data, dtype='<i2').reshape(-1, channels)\n",
    "\n",
    "normalized = utility.pcm2float(sig, np.float32)"
   ]
  },
  {
   "cell_type": "markdown",
   "metadata": {},
   "source": [
    "But not so fast! Let's do that step-by-step and put a few explanations in between.\n",
    "\n",
    "First, let's load matplotlib and NumPy and enable inline plotting:"
   ]
  },
  {
   "cell_type": "code",
   "execution_count": 2,
   "metadata": {
    "collapsed": false
   },
   "outputs": [],
   "source": [
    "%matplotlib inline\n",
    "import matplotlib.pyplot as plt\n",
    "import numpy as np"
   ]
  },
  {
   "cell_type": "markdown",
   "metadata": {},
   "source": [
    "The most important module we need to load is the built-in `wave` module."
   ]
  },
  {
   "cell_type": "code",
   "execution_count": 3,
   "metadata": {
    "collapsed": false
   },
   "outputs": [],
   "source": [
    "import wave"
   ]
  },
  {
   "cell_type": "markdown",
   "metadata": {},
   "source": [
    "Now we open a 16-bit WAV file, show a few informations and read its contents.\n",
    "\n",
    "Note: starting from Python 3.4, [wave.open()](https://docs.python.org/3/library/wave.html#wave.open)\n",
    "returns a context manager which can be used in a [\"with\" statement](https://docs.python.org/3/reference/compound_stmts.html#the-with-statement).\n",
    "For Python < 3.4, you should wrap the `open()` call with [contextlib.closing()](https://docs.python.org/3/library/contextlib.html#contextlib.closing)."
   ]
  },
  {
   "cell_type": "code",
   "execution_count": 4,
   "metadata": {
    "collapsed": false
   },
   "outputs": [
    {
     "name": "stdout",
     "output_type": "stream",
     "text": [
      "sampling rate: 44100 Hz\n",
      "length: 15 samples\n",
      "channels: 7\n",
      "sample width: 2 bytes\n"
     ]
    }
   ],
   "source": [
    "with wave.open('data/test_wav_pcm16.wav') as w:\n",
    "    framerate = w.getframerate()\n",
    "    frames = w.getnframes()\n",
    "    channels = w.getnchannels()\n",
    "    width = w.getsampwidth()\n",
    "    print('sampling rate:', framerate, 'Hz')\n",
    "    print('length:', frames, 'samples')\n",
    "    print('channels:', channels)\n",
    "    print('sample width:', width, 'bytes')\n",
    "    \n",
    "    data = w.readframes(frames)"
   ]
  },
  {
   "cell_type": "markdown",
   "metadata": {},
   "source": [
    "We see that the *sample width* is 2 bytes, which we expected for a 16-bit file.\n",
    "\n",
    "If the audio file has 7 channels, is 15 samples long and uses 2 bytes (16 bit) per sample, the buffer has a size of $7 \\times 15 \\times 2 = 210$ bytes."
   ]
  },
  {
   "cell_type": "code",
   "execution_count": 5,
   "metadata": {
    "collapsed": false
   },
   "outputs": [
    {
     "data": {
      "text/plain": [
       "210"
      ]
     },
     "execution_count": 5,
     "metadata": {},
     "output_type": "execute_result"
    }
   ],
   "source": [
    "len(data)"
   ]
  },
  {
   "cell_type": "markdown",
   "metadata": {},
   "source": [
    "Audio data is stored in \"strings of bytes\".\n",
    "In Python 2 this type is called `str`, in Python 3 it's called `bytes` (which makes much more sense, doesn't it?)."
   ]
  },
  {
   "cell_type": "code",
   "execution_count": 6,
   "metadata": {
    "collapsed": false
   },
   "outputs": [
    {
     "data": {
      "text/plain": [
       "bytes"
      ]
     },
     "execution_count": 6,
     "metadata": {},
     "output_type": "execute_result"
    }
   ],
   "source": [
    "type(data)"
   ]
  },
  {
   "cell_type": "markdown",
   "metadata": {},
   "source": [
    "The buffer data looks like this (which isn't really helpful because it looks like garbage):"
   ]
  },
  {
   "cell_type": "code",
   "execution_count": 7,
   "metadata": {
    "collapsed": false
   },
   "outputs": [
    {
     "data": {
      "text/plain": [
       "b'\\xff\\x7f\\xb6mm[$I\\xdb6\\x92$I\\x12RsgDX\\x14\\xba\\xef\\xcc\\xdd\\r\\xdf\\xb7\\xed\\xceO\\x96\\xe7\\xa1\\xad\\x1a\\xbe\\xcb\\xf3\\xcd\\x16I\\x12{\\x1c\\'\\x9d\\xff\\xc6\\x9a-l1\\xdd\\xf7\\xb7\\xed\\x85\\xe3\\'\\x9d\\x019\\x9a-\\x94\\xce\\xdd\\xf7I\\x122\\xb0\\x96\\xe7_R\\x1a\\xbe5\\x0c\\xcd\\x16\\xb7\\xed\\xae\\x8cgD\\xa8\\xeb\\xba\\xef4\"\\r\\xdfI\\x12\\x01\\x80\\xb6m\\x93\\xa4$I%\\xc9\\x92$\\xb7\\xed\\xae\\x8cgD\\xa8\\xeb\\xba\\xef4\"\\r\\xdfI\\x122\\xb0\\x96\\xe7_R\\x1a\\xbe5\\x0c\\xcd\\x16\\xb7\\xed\\x85\\xe3\\'\\x9d\\x019\\x9a-\\x94\\xce\\xdd\\xf7I\\x12{\\x1c\\'\\x9d\\xff\\xc6\\x9a-l1\\xdd\\xf7\\xb7\\xed\\xceO\\x96\\xe7\\xa1\\xad\\x1a\\xbe\\xcb\\xf3\\xcd\\x16I\\x12RsgDX\\x14\\xba\\xef\\xcc\\xdd\\r\\xdf\\xb7\\xed\\xff\\x7f\\xb6mm[$I\\xdb6\\x92$I\\x12'"
      ]
     },
     "execution_count": 7,
     "metadata": {},
     "output_type": "execute_result"
    }
   ],
   "source": [
    "data"
   ]
  },
  {
   "cell_type": "markdown",
   "metadata": {},
   "source": [
    "We could convert the bytes by means of the [`struct` module](https://docs.python.org/3/library/struct.html), but it's easier with [the `frombuffer()` function from NumPy](http://docs.scipy.org/doc/numpy/reference/generated/numpy.frombuffer.html).\n",
    "We have to specify (similar to how it's done in the `struct` module) how the bytes should be interpreted to yield the desired numbers.\n",
    "\n",
    "If we would interpret them as single (unsigned) bytes, it would look like this (still not very useful):"
   ]
  },
  {
   "cell_type": "code",
   "execution_count": 8,
   "metadata": {
    "collapsed": false
   },
   "outputs": [
    {
     "data": {
      "text/plain": [
       "array([255, 127, 182, 109, 109,  91,  36,  73, 219,  54, 146,  36,  73,\n",
       "        18,  82, 115, 103,  68,  88,  20, 186, 239, 204, 221,  13, 223,\n",
       "       183, 237, 206,  79, 150, 231, 161, 173,  26, 190, 203, 243, 205,\n",
       "        22,  73,  18, 123,  28,  39, 157, 255, 198, 154,  45, 108,  49,\n",
       "       221, 247, 183, 237, 133, 227,  39, 157,   1,  57, 154,  45, 148,\n",
       "       206, 221, 247,  73,  18,  50, 176, 150, 231,  95,  82,  26, 190,\n",
       "        53,  12, 205,  22, 183, 237, 174, 140, 103,  68, 168, 235, 186,\n",
       "       239,  52,  34,  13, 223,  73,  18,   1, 128, 182, 109, 147, 164,\n",
       "        36,  73,  37, 201, 146,  36, 183, 237, 174, 140, 103,  68, 168,\n",
       "       235, 186, 239,  52,  34,  13, 223,  73,  18,  50, 176, 150, 231,\n",
       "        95,  82,  26, 190,  53,  12, 205,  22, 183, 237, 133, 227,  39,\n",
       "       157,   1,  57, 154,  45, 148, 206, 221, 247,  73,  18, 123,  28,\n",
       "        39, 157, 255, 198, 154,  45, 108,  49, 221, 247, 183, 237, 206,\n",
       "        79, 150, 231, 161, 173,  26, 190, 203, 243, 205,  22,  73,  18,\n",
       "        82, 115, 103,  68,  88,  20, 186, 239, 204, 221,  13, 223, 183,\n",
       "       237, 255, 127, 182, 109, 109,  91,  36,  73, 219,  54, 146,  36,\n",
       "        73,  18], dtype=uint8)"
      ]
     },
     "execution_count": 8,
     "metadata": {},
     "output_type": "execute_result"
    }
   ],
   "source": [
    "np.frombuffer(data, dtype='B')"
   ]
  },
  {
   "cell_type": "markdown",
   "metadata": {},
   "source": [
    "To be able to do something useful with the data, we have to take pairs of 2 bytes and convert them to 16-bit integers. Thereby we have to consider that data in WAV files is stored in *little endian* format (the least significant byte comes first and then the most significant byte), which is specified with `'<'` in the format string.\n",
    "\n",
    "Let's also reshape the array to get a column for each channel:"
   ]
  },
  {
   "cell_type": "code",
   "execution_count": 9,
   "metadata": {
    "collapsed": false
   },
   "outputs": [
    {
     "data": {
      "text/plain": [
       "array([[ 32767,  28086,  23405,  18724,  14043,   9362,   4681],\n",
       "       [ 29522,  17511,   5208,  -4166,  -8756,  -8435,  -4681],\n",
       "       [ 20430,  -6250, -21087, -16870,  -3125,   5837,   4681],\n",
       "       [  7291, -25305, -14593,  11674,  12652,  -2083,  -4681],\n",
       "       [ -7291, -25305,  14593,  11674, -12652,  -2083,   4681],\n",
       "       [-20430,  -6250,  21087, -16870,   3125,   5837,  -4681],\n",
       "       [-29522,  17511,  -5208,  -4166,   8756,  -8435,   4681],\n",
       "       [-32767,  28086, -23405,  18724, -14043,   9362,  -4681],\n",
       "       [-29522,  17511,  -5208,  -4166,   8756,  -8435,   4681],\n",
       "       [-20430,  -6250,  21087, -16870,   3125,   5837,  -4681],\n",
       "       [ -7291, -25305,  14593,  11674, -12652,  -2083,   4681],\n",
       "       [  7291, -25305, -14593,  11674,  12652,  -2083,  -4681],\n",
       "       [ 20430,  -6250, -21087, -16870,  -3125,   5837,   4681],\n",
       "       [ 29522,  17511,   5208,  -4166,  -8756,  -8435,  -4681],\n",
       "       [ 32767,  28086,  23405,  18724,  14043,   9362,   4681]], dtype=int16)"
      ]
     },
     "execution_count": 9,
     "metadata": {},
     "output_type": "execute_result"
    }
   ],
   "source": [
    "sig = np.frombuffer(data, dtype='<i2').reshape(-1, channels)\n",
    "sig"
   ]
  },
  {
   "cell_type": "markdown",
   "metadata": {},
   "source": [
    "Let's see how this look like:"
   ]
  },
  {
   "cell_type": "code",
   "execution_count": 10,
   "metadata": {
    "collapsed": false
   },
   "outputs": [
    {
     "data": {
      "image/png": "[encoded data removed]",
      "text/plain": [
       "<matplotlib.figure.Figure at 0x7f787e0c9438>"
      ]
     },
     "metadata": {},
     "output_type": "display_data"
    }
   ],
   "source": [
    "plt.plot(sig);"
   ]
  },
  {
   "cell_type": "markdown",
   "metadata": {},
   "source": [
    "Note that neither `frombuffer()` nor `reshape()` made a copy of the data. We are still using the buffer of bytes we got from `readframes()`. By using the `.base` attribute of the array we get the result of `frombuffer()` (before `reshape()`) and by using `.base` a second time, we get a reference to the original buffer object:"
   ]
  },
  {
   "cell_type": "code",
   "execution_count": 11,
   "metadata": {
    "collapsed": false
   },
   "outputs": [
    {
     "data": {
      "text/plain": [
       "True"
      ]
     },
     "execution_count": 11,
     "metadata": {},
     "output_type": "execute_result"
    }
   ],
   "source": [
    "sig.base.base is data"
   ]
  },
  {
   "cell_type": "markdown",
   "metadata": {},
   "source": [
    "With the `flags` attribute we get a few details about the buffer. `C_CONTIGUOUS` means that the rows are contiguous (in row-major format, like it's used in C). We also see that `sig` doesn't \"own\" the data (it's rather \"borrowed\" from the `data` object) and that it's not writable (because the `bytes` object returned by `readframes()` above happens to be read-only):"
   ]
  },
  {
   "cell_type": "code",
   "execution_count": 12,
   "metadata": {
    "collapsed": false
   },
   "outputs": [
    {
     "data": {
      "text/plain": [
       "  C_CONTIGUOUS : True\n",
       "  F_CONTIGUOUS : False\n",
       "  OWNDATA : False\n",
       "  WRITEABLE : False\n",
       "  ALIGNED : True\n",
       "  UPDATEIFCOPY : False"
      ]
     },
     "execution_count": 12,
     "metadata": {},
     "output_type": "execute_result"
    }
   ],
   "source": [
    "sig.flags"
   ]
  },
  {
   "cell_type": "markdown",
   "metadata": {},
   "source": [
    "We've already got the correct values but if we want to do some signal processing with the data, it's normally easier to convert the numers to floating point format and to normalize them to a range from -1 to 1.\n",
    "\n",
    "To do that, I wrote a little helper function called `utility.pcm2float()`, located in the file [`utility.py`](https://github.com/mgeier/python-audio/blob/master/audio-files/utility.py), let's load it and apply it to our signal:"
   ]
  },
  {
   "cell_type": "code",
   "execution_count": 13,
   "metadata": {
    "collapsed": false
   },
   "outputs": [
    {
     "data": {
      "image/png": "[encoded data removed]",
      "text/plain": [
       "<matplotlib.figure.Figure at 0x7f787ec738d0>"
      ]
     },
     "metadata": {},
     "output_type": "display_data"
    }
   ],
   "source": [
    "import utility\n",
    "\n",
    "normalized = utility.pcm2float(sig, 'float32')\n",
    "\n",
    "plt.plot(normalized);"
   ]
  },
  {
   "cell_type": "markdown",
   "metadata": {},
   "source": [
    "Because we change the data type from int16 to float32, a copy of the array is created, which now is writable and \"owns\" its data:"
   ]
  },
  {
   "cell_type": "code",
   "execution_count": 14,
   "metadata": {
    "collapsed": false
   },
   "outputs": [
    {
     "data": {
      "text/plain": [
       "  C_CONTIGUOUS : True\n",
       "  F_CONTIGUOUS : False\n",
       "  OWNDATA : True\n",
       "  WRITEABLE : True\n",
       "  ALIGNED : True\n",
       "  UPDATEIFCOPY : False"
      ]
     },
     "execution_count": 14,
     "metadata": {},
     "output_type": "execute_result"
    }
   ],
   "source": [
    "normalized.flags"
   ]
  },
  {
   "cell_type": "markdown",
   "metadata": {},
   "source": [
    "24-bit files can be opened with `wave.open()` as well, but the conversion is a little more complicated."
   ]
  },
  {
   "cell_type": "code",
   "execution_count": 15,
   "metadata": {
    "collapsed": false
   },
   "outputs": [
    {
     "name": "stdout",
     "output_type": "stream",
     "text": [
      "sampling rate: 44100 Hz\n",
      "length: 15 samples\n",
      "channels: 7\n",
      "sample width: 3 bytes\n"
     ]
    }
   ],
   "source": [
    "with wave.open('data/test_wav_pcm24.wav') as w:\n",
    "    framerate = w.getframerate()\n",
    "    frames = w.getnframes()\n",
    "    channels = w.getnchannels()\n",
    "    width = w.getsampwidth()\n",
    "    print('sampling rate:', framerate, 'Hz')\n",
    "    print('length:', frames, 'samples')\n",
    "    print('channels:', channels)\n",
    "    print('sample width:', width, 'bytes')\n",
    "    \n",
    "    data = w.readframes(frames)"
   ]
  },
  {
   "cell_type": "markdown",
   "metadata": {},
   "source": [
    "Note that the sample width is 3 bytes (because we loaded a 24-bit file). Sadly, there is no 3-byte integer type in NumPy. Therefore, we have to fill each 3-byte number with a further byte and then convert it to a 4-byte integer.\n",
    "We can add this byte (filled with zero-bits) either as most significant or a least significant byte. This doesn't change the precision of the data, we just have to remember which one it was when we do calculations with the stored values.\n",
    "If we add the zero-byte as LSB, the resulting values will have the full range of a 4-byte integer, therefore we can use the `utility.pcm2float()` function from above.\n",
    "If we would add the zero-byte as MSB, the range would be limited to a 3-byte integer and we would have to write a new function for normalization."
   ]
  },
  {
   "cell_type": "code",
   "execution_count": 16,
   "metadata": {
    "collapsed": false
   },
   "outputs": [
    {
     "data": {
      "text/plain": [
       "array([[  0, 255, 255, 127],\n",
       "       [  0, 219, 182, 109],\n",
       "       [  0, 182, 109,  91],\n",
       "       [  0, 146,  36,  73],\n",
       "       [  0, 109, 219,  54],\n",
       "       [  0,  73, 146,  36],\n",
       "       [  0,  36,  73,  18],\n",
       "       [  0, 242,  82, 115],\n",
       "       [  0, 222, 103,  68],\n",
       "       [  0,  67,  88,  20],\n",
       "       [  0, 100, 185, 239],\n",
       "       [  0,  17, 204, 221],\n",
       "       [  0, 223,  12, 223],\n",
       "       [  0, 220, 182, 237],\n",
       "       [  0, 131, 206,  79],\n",
       "       [  0,  22, 150, 231],\n",
       "       [  0,  47, 160, 173],\n",
       "       [  0, 191,  25, 190],\n",
       "       [  0,  11, 203, 243],\n",
       "       [  0,  74, 205,  22],\n",
       "       [  0,  36,  73,  18],\n",
       "       [  0, 145, 123,  28],\n",
       "       [  0, 158,  38, 157],\n",
       "       [  0, 199, 254, 198],\n",
       "       [  0, 148, 154,  45],\n",
       "       [  0, 177, 108,  49],\n",
       "       [  0, 178, 220, 247],\n",
       "       [  0, 220, 182, 237],\n",
       "       [  0, 111, 132, 227],\n",
       "       [  0, 158,  38, 157],\n",
       "       [  0,  57,   1,  57],\n",
       "       [  0, 148, 154,  45],\n",
       "       [  0,  79, 147, 206],\n",
       "       [  0, 178, 220, 247],\n",
       "       [  0,  36,  73,  18],\n",
       "       [  0, 125,  49, 176],\n",
       "       [  0,  22, 150, 231],\n",
       "       [  0, 209,  95,  82],\n",
       "       [  0, 191,  25, 190],\n",
       "       [  0, 245,  52,  12],\n",
       "       [  0,  74, 205,  22],\n",
       "       [  0, 220, 182, 237],\n",
       "       [  0,  14, 173, 140],\n",
       "       [  0, 222, 103,  68],\n",
       "       [  0, 189, 167, 235],\n",
       "       [  0, 100, 185, 239],\n",
       "       [  0, 239,  51,  34],\n",
       "       [  0, 223,  12, 223],\n",
       "       [  0,  36,  73,  18],\n",
       "       [  0,   1,   0, 128],\n",
       "       [  0, 219, 182, 109],\n",
       "       [  0,  74, 146, 164],\n",
       "       [  0, 146,  36,  73],\n",
       "       [  0, 147,  36, 201],\n",
       "       [  0,  73, 146,  36],\n",
       "       [  0, 220, 182, 237],\n",
       "       [  0,  14, 173, 140],\n",
       "       [  0, 222, 103,  68],\n",
       "       [  0, 189, 167, 235],\n",
       "       [  0, 100, 185, 239],\n",
       "       [  0, 239,  51,  34],\n",
       "       [  0, 223,  12, 223],\n",
       "       [  0,  36,  73,  18],\n",
       "       [  0, 125,  49, 176],\n",
       "       [  0,  22, 150, 231],\n",
       "       [  0, 209,  95,  82],\n",
       "       [  0, 191,  25, 190],\n",
       "       [  0, 245,  52,  12],\n",
       "       [  0,  74, 205,  22],\n",
       "       [  0, 220, 182, 237],\n",
       "       [  0, 111, 132, 227],\n",
       "       [  0, 158,  38, 157],\n",
       "       [  0,  57,   1,  57],\n",
       "       [  0, 148, 154,  45],\n",
       "       [  0,  79, 147, 206],\n",
       "       [  0, 178, 220, 247],\n",
       "       [  0,  36,  73,  18],\n",
       "       [  0, 145, 123,  28],\n",
       "       [  0, 158,  38, 157],\n",
       "       [  0, 199, 254, 198],\n",
       "       [  0, 148, 154,  45],\n",
       "       [  0, 177, 108,  49],\n",
       "       [  0, 178, 220, 247],\n",
       "       [  0, 220, 182, 237],\n",
       "       [  0, 131, 206,  79],\n",
       "       [  0,  22, 150, 231],\n",
       "       [  0,  47, 160, 173],\n",
       "       [  0, 191,  25, 190],\n",
       "       [  0,  11, 203, 243],\n",
       "       [  0,  74, 205,  22],\n",
       "       [  0,  36,  73,  18],\n",
       "       [  0, 242,  82, 115],\n",
       "       [  0, 222, 103,  68],\n",
       "       [  0,  67,  88,  20],\n",
       "       [  0, 100, 185, 239],\n",
       "       [  0,  17, 204, 221],\n",
       "       [  0, 223,  12, 223],\n",
       "       [  0, 220, 182, 237],\n",
       "       [  0, 255, 255, 127],\n",
       "       [  0, 219, 182, 109],\n",
       "       [  0, 182, 109,  91],\n",
       "       [  0, 146,  36,  73],\n",
       "       [  0, 109, 219,  54],\n",
       "       [  0,  73, 146,  36],\n",
       "       [  0,  36,  73,  18]], dtype=uint8)"
      ]
     },
     "execution_count": 16,
     "metadata": {},
     "output_type": "execute_result"
    }
   ],
   "source": [
    "assert width == 3\n",
    "\n",
    "temp = bytearray()\n",
    "\n",
    "for i in range(0, len(data), 3):\n",
    "    temp.append(0)\n",
    "    temp.extend(data[i:i+3])\n",
    "\n",
    "# Using += instead of .extend() may be faster\n",
    "# (see https://youtu.be/z9Hmys8ojno?t=35m50s).\n",
    "# But starting with an empty bytearray and\n",
    "# extending it on each iteration might be slow, anyway.\n",
    "# See further below for how to reserve all necessary memory in the beginning.\n",
    "\n",
    "four_bytes = np.frombuffer(temp, dtype='B').reshape(-1, 4)\n",
    "four_bytes"
   ]
  },
  {
   "cell_type": "markdown",
   "metadata": {},
   "source": [
    "Now we have a bytearray where each group of 4 bytes represents an integer (in little-endian order).\n",
    "\n",
    "Next, let's convert it to actual integers and reshape the channels into columns."
   ]
  },
  {
   "cell_type": "code",
   "execution_count": 17,
   "metadata": {
    "collapsed": false
   },
   "outputs": [
    {
     "data": {
      "text/plain": [
       "array([[ 2147483392,  1840700160,  1533916672,  1227133440,   920349952,\n",
       "          613566720,   306783232],\n",
       "       [ 1934815744,  1147657728,   341328640,  -273062912,  -573828864,\n",
       "         -552804608,  -306783232],\n",
       "       [ 1338934016,  -409594368, -1382011136, -1105608960,  -204797184,\n",
       "          382552576,   306783232],\n",
       "       [  477860096, -1658413568,  -956381440,   765105152,   829206784,\n",
       "         -136531456,  -306783232],\n",
       "       [ -477860096, -1658413568,   956381440,   765105152,  -829206784,\n",
       "         -136531456,   306783232],\n",
       "       [-1338934016,  -409594368,  1382011136, -1105608960,   204797184,\n",
       "          382552576,  -306783232],\n",
       "       [-1934815744,  1147657728,  -341328640,  -273062912,   573828864,\n",
       "         -552804608,   306783232],\n",
       "       [-2147483392,  1840700160, -1533916672,  1227133440,  -920349952,\n",
       "          613566720,  -306783232],\n",
       "       [-1934815744,  1147657728,  -341328640,  -273062912,   573828864,\n",
       "         -552804608,   306783232],\n",
       "       [-1338934016,  -409594368,  1382011136, -1105608960,   204797184,\n",
       "          382552576,  -306783232],\n",
       "       [ -477860096, -1658413568,   956381440,   765105152,  -829206784,\n",
       "         -136531456,   306783232],\n",
       "       [  477860096, -1658413568,  -956381440,   765105152,   829206784,\n",
       "         -136531456,  -306783232],\n",
       "       [ 1338934016,  -409594368, -1382011136, -1105608960,  -204797184,\n",
       "          382552576,   306783232],\n",
       "       [ 1934815744,  1147657728,   341328640,  -273062912,  -573828864,\n",
       "         -552804608,  -306783232],\n",
       "       [ 2147483392,  1840700160,  1533916672,  1227133440,   920349952,\n",
       "          613566720,   306783232]], dtype=int32)"
      ]
     },
     "execution_count": 17,
     "metadata": {},
     "output_type": "execute_result"
    }
   ],
   "source": [
    "sig = np.frombuffer(temp, dtype='<i4').reshape(-1, channels)\n",
    "sig"
   ]
  },
  {
   "cell_type": "markdown",
   "metadata": {},
   "source": [
    "Let's put this into a function, just in case we find ourselves needing to load 24-bit WAV files some time in the future."
   ]
  },
  {
   "cell_type": "code",
   "execution_count": 18,
   "metadata": {
    "collapsed": false
   },
   "outputs": [],
   "source": [
    "def pcm24to32_bytearray(data, channels=1):\n",
    "    if len(data) % 3 != 0:\n",
    "        raise ValueError('Size of data must be a multiple of 3 bytes')\n",
    "\n",
    "    size = len(data) // 3\n",
    "    \n",
    "    # reserve memory (initialized with null bytes):\n",
    "    temp = bytearray(size * 4)\n",
    "\n",
    "    for i in range(size):\n",
    "        newidx = i * 4 + 1\n",
    "        oldidx = i * 3\n",
    "        temp[newidx:newidx+3] = data[oldidx:oldidx+3]\n",
    "\n",
    "    return np.frombuffer(temp, dtype='<i4').reshape(-1, channels)"
   ]
  },
  {
   "cell_type": "markdown",
   "metadata": {},
   "source": [
    "This looks a bit clumsy (*TODO:* timing measurements!), let's try it another way:"
   ]
  },
  {
   "cell_type": "code",
   "execution_count": 19,
   "metadata": {
    "collapsed": false
   },
   "outputs": [],
   "source": [
    "def pcm24to32_view(data, channels=1):\n",
    "    if len(data) % 3 != 0:\n",
    "        raise ValueError('Size of data must be a multiple of 3 bytes')\n",
    "\n",
    "    temp = np.zeros((len(data) // 3, 4), dtype='B')\n",
    "    temp[:, 1:] = np.frombuffer(data, dtype='B').reshape(-1, 3)\n",
    "    return temp.view('<i4').reshape(-1, channels)"
   ]
  },
  {
   "cell_type": "markdown",
   "metadata": {},
   "source": [
    "This is what we're doing here:\n",
    "* create a zero-initialized array of bytes with 4 columns\n",
    "* write the data to the last 3 columns (leaving the first column filled with zeros)\n",
    "* interpret each row (4 bytes) as one integer\n",
    "\n",
    "I think this is better than `pcm24to32_bytearray()`, but it still has a little flaw: the returned array doesn't own it's data."
   ]
  },
  {
   "cell_type": "code",
   "execution_count": 20,
   "metadata": {
    "collapsed": false
   },
   "outputs": [
    {
     "data": {
      "text/plain": [
       "False"
      ]
     },
     "execution_count": 20,
     "metadata": {},
     "output_type": "execute_result"
    }
   ],
   "source": [
    "sig = pcm24to32_view(data, channels)\n",
    "sig.flags.owndata"
   ]
  },
  {
   "cell_type": "markdown",
   "metadata": {},
   "source": [
    "This is because a *view* is returned. The original array (with its 4 columns) has exactly the same values as the array `four_bytes` which we were using before."
   ]
  },
  {
   "cell_type": "code",
   "execution_count": 21,
   "metadata": {
    "collapsed": false
   },
   "outputs": [
    {
     "data": {
      "text/plain": [
       "True"
      ]
     },
     "execution_count": 21,
     "metadata": {},
     "output_type": "execute_result"
    }
   ],
   "source": [
    "np.all(sig.base == four_bytes)"
   ]
  },
  {
   "cell_type": "markdown",
   "metadata": {},
   "source": [
    "So instead of returning a view, let's turn this around and create the correct array first and use a view internally to copy the data.\n",
    "Additionally, instead of using the `reshape()` method (which would also return a view), we directly set the shape."
   ]
  },
  {
   "cell_type": "code",
   "execution_count": 22,
   "metadata": {
    "collapsed": false
   },
   "outputs": [],
   "source": [
    "def pcm24to32(data, channels=1):\n",
    "    if len(data) % 3 != 0:\n",
    "        raise ValueError('Size of data must be a multiple of 3 bytes')\n",
    "    \n",
    "    out = np.zeros(len(data) // 3, dtype='<i4')\n",
    "    out.shape = -1, channels\n",
    "    temp = out.view('B').reshape(-1, 4)\n",
    "    temp[:, 1:] = np.frombuffer(data, dtype='B').reshape(-1, 3)\n",
    "    return out"
   ]
  },
  {
   "cell_type": "markdown",
   "metadata": {},
   "source": [
    "I think this one is better.\n",
    "\n",
    "Now the returned array owns its data:"
   ]
  },
  {
   "cell_type": "code",
   "execution_count": 23,
   "metadata": {
    "collapsed": false
   },
   "outputs": [
    {
     "data": {
      "text/plain": [
       "True"
      ]
     },
     "execution_count": 23,
     "metadata": {},
     "output_type": "execute_result"
    }
   ],
   "source": [
    "sig = pcm24to32(data, channels)\n",
    "sig.flags.owndata"
   ]
  },
  {
   "cell_type": "markdown",
   "metadata": {},
   "source": [
    "I added this implementation (plus a little tweak) to [utility.py](utility.py).\n",
    "Let's have a look at the documentation:"
   ]
  },
  {
   "cell_type": "code",
   "execution_count": 24,
   "metadata": {
    "collapsed": false
   },
   "outputs": [
    {
     "name": "stdout",
     "output_type": "stream",
     "text": [
      "Help on function pcm24to32 in module utility:\n",
      "\n",
      "pcm24to32(data, channels=1, normalize=True)\n",
      "    Convert 24-bit PCM data to 32-bit.\n",
      "    \n",
      "    Parameters\n",
      "    ----------\n",
      "    data : buffer\n",
      "        A buffer object where each group of 3 bytes represents one\n",
      "        little-endian 24-bit value.\n",
      "    channels : int, optional\n",
      "        Number of channels, by default 1.\n",
      "    normalize : bool, optional\n",
      "        If ``True`` (the default) the additional zero-byte is added as\n",
      "        least significant byte, effectively multiplying each value by\n",
      "        256, which leads to the maximum 24-bit value being mapped to the\n",
      "        maximum 32-bit value.  If ``False``, the zero-byte is added as\n",
      "        most significant byte and the values are not changed.\n",
      "    \n",
      "    Returns\n",
      "    -------\n",
      "    numpy.ndarray\n",
      "        The content of *data* converted to an *int32* array, where each\n",
      "        value was padded with zero-bits in the least significant byte\n",
      "        (``normalize=True``) or in the most significant byte\n",
      "        (``normalize=False``).\n",
      "\n"
     ]
    }
   ],
   "source": [
    "help(utility.pcm24to32)"
   ]
  },
  {
   "cell_type": "markdown",
   "metadata": {},
   "source": [
    "As you can see, I added the function argument `normalize`, which allows to select if the zero-byte shall be added as LSB or MSB.\n",
    "The default behavior is unchanged, though."
   ]
  },
  {
   "cell_type": "code",
   "execution_count": 25,
   "metadata": {
    "collapsed": true
   },
   "outputs": [],
   "source": [
    "sig = utility.pcm24to32(data, channels)"
   ]
  },
  {
   "cell_type": "markdown",
   "metadata": {},
   "source": [
    "BTW, the result of all three implementations is of course the same:"
   ]
  },
  {
   "cell_type": "code",
   "execution_count": 26,
   "metadata": {
    "collapsed": false
   },
   "outputs": [
    {
     "data": {
      "text/plain": [
       "(True, True)"
      ]
     },
     "execution_count": 26,
     "metadata": {},
     "output_type": "execute_result"
    }
   ],
   "source": [
    "np.all(sig == pcm24to32_view(data, channels)), np.all(sig == pcm24to32_bytearray(data, channels))"
   ]
  },
  {
   "cell_type": "markdown",
   "metadata": {},
   "source": [
    "Finally, we convert the 32-bit integer values to 32-bit floating point values and normalize them to a range from -1 to 1 (see above)."
   ]
  },
  {
   "cell_type": "code",
   "execution_count": 27,
   "metadata": {
    "collapsed": false
   },
   "outputs": [
    {
     "data": {
      "image/png": "[encoded data removed]",
      "text/plain": [
       "<matplotlib.figure.Figure at 0x7f787c0b9828>"
      ]
     },
     "metadata": {},
     "output_type": "display_data"
    }
   ],
   "source": [
    "normalized = utility.pcm2float(sig, 'float32')\n",
    "plt.plot(normalized);"
   ]
  },
  {
   "cell_type": "markdown",
   "metadata": {},
   "source": [
    "WAVEX doesn't work:"
   ]
  },
  {
   "cell_type": "code",
   "execution_count": 28,
   "metadata": {
    "collapsed": false
   },
   "outputs": [
    {
     "name": "stderr",
     "output_type": "stream",
     "text": [
      "Traceback (most recent call last):\n",
      "  File \"<ipython-input-28-bafe04b0650d>\", line 3, in <module>\n",
      "    w = wave.open('data/test_wavex_pcm16.wav')\n",
      "  File \"/usr/lib/python3.5/wave.py\", line 499, in open\n",
      "    return Wave_read(f)\n",
      "  File \"/usr/lib/python3.5/wave.py\", line 163, in __init__\n",
      "    self.initfp(f)\n",
      "  File \"/usr/lib/python3.5/wave.py\", line 143, in initfp\n",
      "    self._read_fmt_chunk(chunk)\n",
      "  File \"/usr/lib/python3.5/wave.py\", line 260, in _read_fmt_chunk\n",
      "    raise Error('unknown format: %r' % (wFormatTag,))\n",
      "wave.Error: unknown format: 65534\n"
     ]
    }
   ],
   "source": [
    "import traceback\n",
    "try:\n",
    "    w = wave.open('data/test_wavex_pcm16.wav')\n",
    "except:\n",
    "    traceback.print_exc()\n",
    "else:\n",
    "    print('It works (unexpectedly)!')"
   ]
  },
  {
   "cell_type": "markdown",
   "metadata": {},
   "source": [
    "Let's try 32-bit float:"
   ]
  },
  {
   "cell_type": "code",
   "execution_count": 29,
   "metadata": {
    "collapsed": false
   },
   "outputs": [
    {
     "name": "stderr",
     "output_type": "stream",
     "text": [
      "Traceback (most recent call last):\n",
      "  File \"<ipython-input-29-ba74dffa1b20>\", line 2, in <module>\n",
      "    w = wave.open('data/test_wav_float32.wav')\n",
      "  File \"/usr/lib/python3.5/wave.py\", line 499, in open\n",
      "    return Wave_read(f)\n",
      "  File \"/usr/lib/python3.5/wave.py\", line 163, in __init__\n",
      "    self.initfp(f)\n",
      "  File \"/usr/lib/python3.5/wave.py\", line 143, in initfp\n",
      "    self._read_fmt_chunk(chunk)\n",
      "  File \"/usr/lib/python3.5/wave.py\", line 260, in _read_fmt_chunk\n",
      "    raise Error('unknown format: %r' % (wFormatTag,))\n",
      "wave.Error: unknown format: 3\n"
     ]
    }
   ],
   "source": [
    "try:\n",
    "    w = wave.open('data/test_wav_float32.wav')\n",
    "except:\n",
    "    traceback.print_exc()\n",
    "else:\n",
    "    print('It works (unexpectedly)!')"
   ]
  },
  {
   "cell_type": "markdown",
   "metadata": {},
   "source": [
    "## Writing"
   ]
  },
  {
   "cell_type": "markdown",
   "metadata": {},
   "source": [
    "TODO"
   ]
  },
  {
   "cell_type": "code",
   "execution_count": null,
   "metadata": {
    "collapsed": false
   },
   "outputs": [],
   "source": []
  },
  {
   "cell_type": "markdown",
   "metadata": {},
   "source": [
    "Another way (without NumPy): http://soledadpenades.com/2009/10/29/fastest-way-to-generate-wav-files-in-python-using-the-wave-module/\n",
    "\n",
    "Another way for 24-bit WAV files (with NumPy): https://github.com/WarrenWeckesser/wavio"
   ]
  },
  {
   "cell_type": "markdown",
   "metadata": {},
   "source": [
    "## Version Info"
   ]
  },
  {
   "cell_type": "code",
   "execution_count": 30,
   "metadata": {
    "collapsed": false
   },
   "outputs": [
    {
     "name": "stdout",
     "output_type": "stream",
     "text": [
      "Versions: NumPy = 1.12.0.dev0+5d83b69; IPython = 5.0.0\n",
      "Python interpreter:\n",
      "3.5.2+ (default, Aug  5 2016, 08:07:14) \n",
      "[GCC 6.1.1 20160724]\n"
     ]
    }
   ],
   "source": [
    "import sys, IPython\n",
    "print('Versions: NumPy = {}; IPython = {}'.format(np.__version__, IPython.__version__))\n",
    "\n",
    "print('Python interpreter:')\n",
    "print(sys.version)"
   ]
  },
  {
   "cell_type": "markdown",
   "metadata": {},
   "source": [
    "<p xmlns:dct=\"http://purl.org/dc/terms/\">\n",
    "  <a rel=\"license\"\n",
    "     href=\"http://creativecommons.org/publicdomain/zero/1.0/\">\n",
    "    <img src=\"http://i.creativecommons.org/p/zero/1.0/88x31.png\" style=\"border-style: none;\" alt=\"CC0\" />\n",
    "  </a>\n",
    "  <br />\n",
    "  To the extent possible under law,\n",
    "  <span resource=\"[_:publisher]\" rel=\"dct:publisher\">\n",
    "    <span property=\"dct:title\">Matthias Geier</span></span>\n",
    "  has waived all copyright and related or neighboring rights to\n",
    "  this work.\n",
    "</p>"
   ]
  }
 ],
 "metadata": {
  "kernelspec": {
   "display_name": "Python 3",
   "language": "python",
   "name": "python3"
  },
  "language_info": {
   "codemirror_mode": {
    "name": "ipython",
    "version": 3
   },
   "file_extension": ".py",
   "mimetype": "text/x-python",
   "name": "python",
   "nbconvert_exporter": "python",
   "pygments_lexer": "ipython3",
   "version": "3.5.2+"
  }
 },
 "nbformat": 4,
 "nbformat_minor": 1
}
