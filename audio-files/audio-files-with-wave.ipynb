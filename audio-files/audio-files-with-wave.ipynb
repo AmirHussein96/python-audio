{
 "cells": [
  {
   "cell_type": "markdown",
   "metadata": {},
   "source": [
    "# Reading and Writing Audio Files with wave"
   ]
  },
  {
   "cell_type": "markdown",
   "metadata": {},
   "source": [
    "[back to overview page](https://github.com/mgeier/python-audio/blob/master/audio-files)\n",
    "\n",
    "The `wave` module is part of the Python standard library.\n",
    "\n",
    "Documentation:\n",
    "\n",
    "* http://docs.python.org/2/library/wave.html (Python 2.x)\n",
    "* http://docs.python.org/3/library/wave.html (Python 3.x)\n",
    "\n",
    "Audio data is handled with Python strings/buffers.\n",
    "\n",
    "Advantages:\n",
    "\n",
    "* part of the standard library, no further dependencies\n",
    "* 24-bit files can be used (with manual conversion)\n",
    "* partial reading is possible\n",
    "* works with both Python 2 and 3\n",
    "\n",
    "Disadvantages:\n",
    "\n",
    "* 32-bit float not supported\n",
    "* WAVEX doesn't work\n",
    "* manual de-interleaving and conversion is necessary"
   ]
  },
  {
   "cell_type": "markdown",
   "metadata": {},
   "source": [
    "## Reading"
   ]
  },
  {
   "cell_type": "markdown",
   "metadata": {},
   "source": [
    "Reading a 16-bit WAV file is not hard, but it requires a few lines of code:"
   ]
  },
  {
   "cell_type": "code",
   "execution_count": null,
   "metadata": {},
   "outputs": [],
   "source": [
    "import numpy as np\n",
    "import wave\n",
    "from contextlib import closing\n",
    "from utility import pcm2float\n",
    "\n",
    "with closing(wave.open('data/test_wav_pcm16.wav')) as w:\n",
    "    nchannels = w.getnchannels()\n",
    "    assert w.getsampwidth() == 2\n",
    "    data = w.readframes(w.getnframes())\n",
    "\n",
    "sig = np.frombuffer(data, dtype='<i2').reshape(-1, nchannels)\n",
    "\n",
    "normalized = pcm2float(sig, np.float32)"
   ]
  },
  {
   "cell_type": "markdown",
   "metadata": {},
   "source": [
    "But not so fast! Let's do that step-by-step and put a few explanations in between.\n",
    "\n",
    "First, let's enable inline plotting and load all the NumPy goodies into the local namespace:"
   ]
  },
  {
   "cell_type": "code",
   "execution_count": null,
   "metadata": {},
   "outputs": [],
   "source": [
    "%pylab inline"
   ]
  },
  {
   "cell_type": "markdown",
   "metadata": {},
   "source": [
    "The only module we really need to load is `wave`. However, let's also load `contextlib.closing` in order to be able to automagically close all our opened files:"
   ]
  },
  {
   "cell_type": "code",
   "execution_count": null,
   "metadata": {},
   "outputs": [],
   "source": [
    "import wave\n",
    "from contextlib import closing\n",
    "\n",
    "# Note: in Python 3.4, wave.open() will return a context manager, closing() won't be necessary anymore"
   ]
  },
  {
   "cell_type": "markdown",
   "metadata": {},
   "source": [
    "Now we open a 16-bit WAV file, show a few informations and read its contents."
   ]
  },
  {
   "cell_type": "code",
   "execution_count": null,
   "metadata": {},
   "outputs": [],
   "source": [
    "with closing(wave.open('data/test_wav_pcm16.wav')) as w:\n",
    "    framerate = w.getframerate()\n",
    "    nframes = w.getnframes()\n",
    "    nchannels = w.getnchannels()\n",
    "    width = w.getsampwidth()\n",
    "    print(\"sampling rate = {framerate} Hz, length = {nframes} samples, channels = {nchannels}, sample width = {width} bytes\".format(**locals()))\n",
    "    \n",
    "    data = w.readframes(nframes)"
   ]
  },
  {
   "cell_type": "markdown",
   "metadata": {},
   "source": [
    "We see that the *sample width* is 2 bytes, which we expected for a 16-bit file.\n",
    "\n",
    "If the audio file has 7 channels, is 15 samples long and uses 2 bytes (16 bit) per sample, the buffer has a size of $7 \\times 15 \\times 2 = 210$ bytes."
   ]
  },
  {
   "cell_type": "code",
   "execution_count": null,
   "metadata": {},
   "outputs": [],
   "source": [
    "len(data)"
   ]
  },
  {
   "cell_type": "markdown",
   "metadata": {},
   "source": [
    "Audio data is stored in a Python buffer object (basically a contiguous memory area with bytes of data). In Python 2 this looks somehow like a string object, in Python 3 it's an object of type `bytes`."
   ]
  },
  {
   "cell_type": "code",
   "execution_count": null,
   "metadata": {},
   "outputs": [],
   "source": [
    "type(data)"
   ]
  },
  {
   "cell_type": "markdown",
   "metadata": {},
   "source": [
    "The buffer data looks like this (which isn't really helpful):"
   ]
  },
  {
   "cell_type": "code",
   "execution_count": null,
   "metadata": {},
   "outputs": [],
   "source": [
    "data"
   ]
  },
  {
   "cell_type": "markdown",
   "metadata": {},
   "source": [
    "We could convert the bytes by means of the `struct` module, but it's easier with the `frombuffer()` function from NumPy.\n",
    "We have to specify (similar to how it's done in the `struct` module) how the bytes should be interpreted to yield the desired numbers.\n",
    "\n",
    "If we would interpret them as single (unsigned) bytes, it would look like this (still not very useful):"
   ]
  },
  {
   "cell_type": "code",
   "execution_count": null,
   "metadata": {},
   "outputs": [],
   "source": [
    "frombuffer(data, dtype='B')"
   ]
  },
  {
   "cell_type": "markdown",
   "metadata": {},
   "source": [
    "To be able to do something useful with the data, we have to take pairs of 2 bytes and convert the to 16-bit integers. Thereby we have to consider that data in WAV files is stored in *little endian* format (the least significan byte comes first and then the most significant byte), which is specified with `'<'` in the format string.\n",
    "\n",
    "Let's also reshape the array to get a column for each channel:"
   ]
  },
  {
   "cell_type": "code",
   "execution_count": null,
   "metadata": {},
   "outputs": [],
   "source": [
    "sig = frombuffer(data, dtype='<i2').reshape(-1, nchannels)\n",
    "sig"
   ]
  },
  {
   "cell_type": "markdown",
   "metadata": {},
   "source": [
    "Note that neither `frombuffer()` nor `reshape()` made a copy of the data. We are still using the buffer of bytes we got from `readframes()`:"
   ]
  },
  {
   "cell_type": "code",
   "execution_count": null,
   "metadata": {},
   "outputs": [],
   "source": [
    "sig.base.base is data"
   ]
  },
  {
   "cell_type": "markdown",
   "metadata": {},
   "source": [
    "With the `flags` attribute we get a few details about the buffer. `C_CONTIGUOUS` means that the rows are contiguous (in row-major format, like it's used in C). We also see that `sig` doesn't \"own\" the data and that it's not writable:"
   ]
  },
  {
   "cell_type": "code",
   "execution_count": null,
   "metadata": {},
   "outputs": [],
   "source": [
    "sig.flags"
   ]
  },
  {
   "cell_type": "markdown",
   "metadata": {},
   "source": [
    "We've already got the correct values but if we want to do some signal processing with the data, it's normally easier to convert the numers to floating point format and to normalize them to a range from -1 to 1.\n",
    "\n",
    "To do that, I wrote a little helper function called `pcm2float()`, located in the file [`utility.py`](https://github.com/mgeier/python-audio/blob/master/audio-files/utility.py), let's load it and apply it to our signal:"
   ]
  },
  {
   "cell_type": "code",
   "execution_count": null,
   "metadata": {},
   "outputs": [],
   "source": [
    "from utility import pcm2float\n",
    "\n",
    "normalized = pcm2float(sig, float32)\n",
    "\n",
    "plot(normalized)\n",
    "show()"
   ]
  },
  {
   "cell_type": "markdown",
   "metadata": {},
   "source": [
    "Because we change the data type from int16 to float32, a copy of the array is created, which now is writable and \"owns\" its data:"
   ]
  },
  {
   "cell_type": "code",
   "execution_count": null,
   "metadata": {},
   "outputs": [],
   "source": [
    "normalized.flags"
   ]
  },
  {
   "cell_type": "markdown",
   "metadata": {},
   "source": [
    "24-bit files can be opened with `wave.open()` as well, but the conversion is a little more complicated. (See also http://stackoverflow.com/a/17443437/500098)"
   ]
  },
  {
   "cell_type": "code",
   "execution_count": null,
   "metadata": {},
   "outputs": [],
   "source": [
    "with closing(wave.open('data/test_wav_pcm24.wav')) as w:\n",
    "    framerate = w.getframerate()\n",
    "    nframes = w.getnframes()\n",
    "    nchannels = w.getnchannels()\n",
    "    width = w.getsampwidth()\n",
    "    print(\"sampling rate = {framerate} Hz, length = {nframes} samples, channels = {nchannels}, sample width = {width} bytes\".format(**locals()))\n",
    "    \n",
    "    data = w.readframes(nframes)"
   ]
  },
  {
   "cell_type": "markdown",
   "metadata": {},
   "source": [
    "Note that the sample width is 3 bytes (because we loaded a 24-bit file). Sadly, there is no 3-byte integer type in NumPy. Therefore, we have to fill each 3-byte number with a further byte and then convert it to a 4-byte integer.\n",
    "We can add this byte (filled with zeros) either as most significant or a least significant byte. This doesn't change the precision of the data, we just have to remember which one it was when we do calculations with the stored values.\n",
    "If we add the zero-byte as LSB, the resulting values will have the full range of a 4-byte integer, therefore we can use the `pcm2float()` function from above.\n",
    "If we would add the zero-byte as MSB, the range would be limited to a 3-byte integer and we would have to write a new function for normalization."
   ]
  },
  {
   "cell_type": "code",
   "execution_count": null,
   "metadata": {},
   "outputs": [],
   "source": [
    "assert width == 3\n",
    "\n",
    "temp = bytearray()\n",
    "\n",
    "for i in range(0, len(data), 3):\n",
    "    temp.append(0)\n",
    "    temp.extend(data[i:i+3])\n",
    "\n",
    "frombuffer(temp, dtype=uint8)"
   ]
  },
  {
   "cell_type": "markdown",
   "metadata": {},
   "source": [
    "Now we have a bytearray where each group of 4 bytes represents an integer (in little-endian order).\n",
    "\n",
    "Next, let's convert it to actual integers and reshape the channels into columns."
   ]
  },
  {
   "cell_type": "code",
   "execution_count": null,
   "metadata": {},
   "outputs": [],
   "source": [
    "sig = frombuffer(temp, dtype='<i4').reshape(-1, nchannels)"
   ]
  },
  {
   "cell_type": "markdown",
   "metadata": {},
   "source": [
    "Let's put this into a function, just in case we find ourselves needing to load 24-bit WAV files some time in the future."
   ]
  },
  {
   "cell_type": "code",
   "execution_count": null,
   "metadata": {},
   "outputs": [],
   "source": [
    "def pcm24to32_bytearray(data, nchannels=1):\n",
    "    assert len(data) % 3 == 0\n",
    "\n",
    "    size = len(data) // 3\n",
    "\n",
    "    temp = bytearray(size * 4)\n",
    "\n",
    "    for i in range(size):\n",
    "        newidx = i * 4 + 1\n",
    "        oldidx = i * 3\n",
    "        temp[newidx:newidx+3] = data[oldidx:oldidx+3]\n",
    "\n",
    "    return np.frombuffer(temp, dtype='<i4').reshape(-1, nchannels)"
   ]
  },
  {
   "cell_type": "markdown",
   "metadata": {},
   "source": [
    "This looks a bit clumsy, let's try it another way:"
   ]
  },
  {
   "cell_type": "code",
   "execution_count": null,
   "metadata": {},
   "outputs": [],
   "source": [
    "def pcm24to32(data, nchannels=1):\n",
    "    assert len(data) % 3 == 0\n",
    "    temp = np.zeros((len(data) // 3, 4), dtype='b')\n",
    "    \n",
    "    temp[:, 1:] = np.frombuffer(data, dtype='b').reshape(-1, 3)\n",
    "\n",
    "    return temp.view('<i4').reshape(-1, nchannels)"
   ]
  },
  {
   "cell_type": "markdown",
   "metadata": {},
   "source": [
    "TODO: timing measurements!"
   ]
  },
  {
   "cell_type": "code",
   "execution_count": null,
   "metadata": {},
   "outputs": [],
   "source": [
    "sig = pcm24to32(data, nchannels)"
   ]
  },
  {
   "cell_type": "markdown",
   "metadata": {},
   "source": [
    "Finally, we normalize the values to a range from -1 to 1 (see above)."
   ]
  },
  {
   "cell_type": "code",
   "execution_count": null,
   "metadata": {},
   "outputs": [],
   "source": [
    "normalized = pcm2float(sig, float32)\n",
    "\n",
    "plot(normalized)\n",
    "show()"
   ]
  },
  {
   "cell_type": "markdown",
   "metadata": {},
   "source": [
    "WAVEX doesn't work:"
   ]
  },
  {
   "cell_type": "code",
   "execution_count": null,
   "metadata": {},
   "outputs": [],
   "source": [
    "try:\n",
    "    w = wave.open('data/test_wavex_pcm16.wav')\n",
    "except:\n",
    "    import traceback\n",
    "    traceback.print_exc()\n",
    "else:\n",
    "    print(\"It works (unexpectedly)!\")"
   ]
  },
  {
   "cell_type": "markdown",
   "metadata": {},
   "source": [
    "Let's try 32-bit float:"
   ]
  },
  {
   "cell_type": "code",
   "execution_count": null,
   "metadata": {},
   "outputs": [],
   "source": [
    "try:\n",
    "    w = wave.open('data/test_wav_float32.wav')\n",
    "except:\n",
    "    import traceback\n",
    "    traceback.print_exc()\n",
    "else:\n",
    "    print(\"It works (unexpectedly)!\")"
   ]
  },
  {
   "cell_type": "markdown",
   "metadata": {},
   "source": [
    "## Writing"
   ]
  },
  {
   "cell_type": "markdown",
   "metadata": {},
   "source": [
    "TODO"
   ]
  },
  {
   "cell_type": "code",
   "execution_count": null,
   "metadata": {},
   "outputs": [],
   "source": []
  },
  {
   "cell_type": "markdown",
   "metadata": {},
   "source": [
    "Another way (without NumPy): http://soledadpenades.com/2009/10/29/fastest-way-to-generate-wav-files-in-python-using-the-wave-module/\n",
    "\n"
   ]
  },
  {
   "cell_type": "markdown",
   "metadata": {},
   "source": [
    "## Version Info"
   ]
  },
  {
   "cell_type": "code",
   "execution_count": null,
   "metadata": {},
   "outputs": [],
   "source": [
    "import sys, IPython\n",
    "print(\"Versions: NumPy = {}; IPython = {}\".format(numpy.__version__, IPython.__version__))\n",
    "\n",
    "print(\"Python interpreter:\")\n",
    "print(sys.version)"
   ]
  }
 ],
 "metadata": {},
 "nbformat": 4,
 "nbformat_minor": 2
}
