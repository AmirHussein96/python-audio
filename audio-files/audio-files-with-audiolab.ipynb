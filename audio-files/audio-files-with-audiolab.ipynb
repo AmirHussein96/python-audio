{
 "cells": [
  {
   "cell_type": "markdown",
   "metadata": {},
   "source": [
    "# Reading and Writing Audio Files with (scikits.)audiolab"
   ]
  },
  {
   "cell_type": "markdown",
   "metadata": {},
   "source": [
    "[back to overview page](index.ipynb)"
   ]
  },
  {
   "cell_type": "markdown",
   "metadata": {},
   "source": [
    "http://scikits.appspot.com/audiolab\n",
    "\n",
    "This has support for a lot of formats, but you may have to install it manually.\n",
    "\n",
    "Works with pcm16, pcm24, pcm32, float32 (both WAV and WAVEX).\n",
    "\n",
    "Audio data is returned as NumPy array, default `dtype` is `float64`.\n",
    "This can be changed with the `dtype=` argument, but there is currently (in version 0.11.0) a bug (see https://github.com/cournape/audiolab/issues/3)!\n",
    "\n",
    "Advantages:\n",
    "\n",
    "* based on [libsndfile](http://www.mega-nerd.com/libsndfile/), can read WAV, OGG, FLAC, ...\n",
    "  * see `audiolab.available_file_formats()` and `audiolab.available_encodings()`\n",
    "* can read all variants of WAV files (including 24-bit and WAVEX)\n",
    "* can read parts of audio files\n",
    "* automatic type conversion and normalization\n",
    "\n",
    "Disadvantages:\n",
    "\n",
    "* in most cases, it has to be installed manually (but it's not too hard)\n",
    "* there is a bug if `dtype != float64`\n",
    "* needs NumPy (which normally isn't a problem)\n",
    "* doesn't work (yet?) on Python 3"
   ]
  },
  {
   "cell_type": "code",
   "execution_count": null,
   "metadata": {},
   "outputs": [],
   "source": [
    "%pylab inline"
   ]
  },
  {
   "cell_type": "markdown",
   "metadata": {},
   "source": [
    "## Reading"
   ]
  },
  {
   "cell_type": "code",
   "execution_count": null,
   "metadata": {},
   "outputs": [],
   "source": [
    "from audiolab import Sndfile, Format\n",
    "from contextlib import closing\n",
    "\n",
    "with closing(Sndfile('data/test_wav_pcm16.wav')) as f:\n",
    "    print(\"sampling rate = {} Hz, length = {} samples, channels = {}\".format(f.samplerate, f.nframes, f.channels))\n",
    "\n",
    "    # default dtype: float64\n",
    "    sig = f.read_frames(f.nframes)\n",
    "\n",
    "print(\"dtype: {}\".format(sig.dtype))\n",
    "\n",
    "plot(sig)\n",
    "show()"
   ]
  },
  {
   "cell_type": "markdown",
   "metadata": {},
   "source": [
    "32-bit float and WAVEX are supported:"
   ]
  },
  {
   "cell_type": "code",
   "execution_count": null,
   "metadata": {},
   "outputs": [],
   "source": [
    "with closing(Sndfile('data/test_wavex_float32.wav')) as f:\n",
    "    sig = f.read_frames(f.nframes)\n",
    "\n",
    "print(\"dtype: {}\".format(sig.dtype))\n",
    "\n",
    "plot(sig)\n",
    "show()"
   ]
  },
  {
   "cell_type": "markdown",
   "metadata": {},
   "source": [
    "But, if another type than `float64` is requested, things go wrong!\n",
    "\n",
    "... at least in version 0.11.0, see https://github.com/cournape/audiolab/issues/3."
   ]
  },
  {
   "cell_type": "code",
   "execution_count": null,
   "metadata": {},
   "outputs": [],
   "source": [
    "with closing(Sndfile('data/test_wavex_pcm16.wav')) as f:\n",
    "    sig = f.read_frames(f.nframes, dtype=float32)\n",
    "    \n",
    "plot(sig)\n",
    "show()"
   ]
  },
  {
   "cell_type": "markdown",
   "metadata": {},
   "source": [
    "Nice format information:"
   ]
  },
  {
   "cell_type": "code",
   "execution_count": null,
   "metadata": {},
   "outputs": [],
   "source": [
    "Sndfile('data/test_wavex_float32.wav').format"
   ]
  },
  {
   "cell_type": "markdown",
   "metadata": {},
   "source": [
    "## Writing"
   ]
  },
  {
   "cell_type": "markdown",
   "metadata": {},
   "source": [
    "TODO"
   ]
  },
  {
   "cell_type": "markdown",
   "metadata": {},
   "source": [
    "## Version"
   ]
  },
  {
   "cell_type": "code",
   "execution_count": null,
   "metadata": {},
   "outputs": [],
   "source": [
    "import audiolab\n",
    "audiolab.__version__"
   ]
  }
 ],
 "metadata": {},
 "nbformat": 4,
 "nbformat_minor": 2
}
