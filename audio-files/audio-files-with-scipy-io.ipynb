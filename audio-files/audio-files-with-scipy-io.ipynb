{
 "cells": [
  {
   "cell_type": "markdown",
   "metadata": {},
   "source": [
    "# Reading and Writing Audio Files with scipy.io"
   ]
  },
  {
   "cell_type": "markdown",
   "metadata": {},
   "source": [
    "[back to overview page](https://github.com/mgeier/python-audio/blob/master/audio-files/README.md)\n",
    "\n",
    "The package `scipy.io` is part of [SciPy](http://www.scipy.org/), a library for scientific computing, which itself depends heavily on [NumPy](http://www.numpy.org/).\n",
    "\n",
    "Documentation: http://docs.scipy.org/doc/scipy/reference/io.html\n",
    "\n",
    "Audio data is stored in NumPy arrays, which is convenient.\n",
    "Audio channels are represented by the columns of the array.\n",
    "\n",
    "16-bit files are stored with data type `int16`, normalization to the range (-1, 1) must be done manually.\n",
    "\n",
    "Advantages:\n",
    "\n",
    "* already installed if you have SciPy\n",
    "* 32-bit float files supported (since version 0.13, see https://github.com/scipy/scipy/commit/ccbdff8)\n",
    "* can read some WAVEX files (but a warning message may be generated)\n",
    "* works with both Python 2 and 3\n",
    "\n",
    "Disadvantages:\n",
    "\n",
    "* 24-bit PCM not supported\n",
    "* 32-bit float WAVEX files don't work\n",
    "* conversion from PCM data to floating point and normalization must be done manually\n",
    "* always loads whole file, cannot read part of a file\n",
    "* needs NumPy and SciPy (which is normally not a problem)"
   ]
  },
  {
   "cell_type": "markdown",
   "metadata": {},
   "source": [
    "## Reading"
   ]
  },
  {
   "cell_type": "markdown",
   "metadata": {},
   "source": [
    "Reading a 16-bit WAV file into a floating-point array is simple, here's the summary:"
   ]
  },
  {
   "cell_type": "code",
   "execution_count": null,
   "metadata": {},
   "outputs": [],
   "source": [
    "from scipy.io import wavfile\n",
    "from utility import pcm2float\n",
    "\n",
    "fs, sig = wavfile.read('data/test_wav_pcm16.wav')\n",
    "normalized = pcm2float(sig, 'float32')"
   ]
  },
  {
   "cell_type": "markdown",
   "metadata": {},
   "source": [
    "But let's do that step-by-step, shall we? First, let's use inline plotting and import all the nice NumPy stuff:"
   ]
  },
  {
   "cell_type": "code",
   "execution_count": null,
   "metadata": {},
   "outputs": [],
   "source": [
    "%pylab inline"
   ]
  },
  {
   "cell_type": "markdown",
   "metadata": {},
   "source": [
    "All relevant functions are in the `wavfile` module from the `scipy.io` package. That's all we have to import for reading and writing WAV files:"
   ]
  },
  {
   "cell_type": "code",
   "execution_count": null,
   "metadata": {},
   "outputs": [],
   "source": [
    "from scipy.io import wavfile"
   ]
  },
  {
   "cell_type": "markdown",
   "metadata": {},
   "source": [
    "Now let's open a WAV file, get some information about it, show its actual sample values and plot it:"
   ]
  },
  {
   "cell_type": "code",
   "execution_count": null,
   "metadata": {},
   "outputs": [],
   "source": [
    "fs, sig = wavfile.read('data/test_wav_pcm16.wav')\n",
    "print(\"sampling rate = {} Hz, length = {} samples, channels = {}\".format(fs, *sig.shape))\n",
    "print(sig)\n",
    "plot(sig);"
   ]
  },
  {
   "cell_type": "markdown",
   "metadata": {},
   "source": [
    "So far, so good.\n",
    "\n",
    "Before further processing, we normally want to convert the signals to floating point values and normalize them to a range from -1 to 1 by dividing all values by the largest possible value.\n",
    "\n",
    "To do that, I wrote a little helper function called `pcm2float()`, located in the file [`utility.py`](https://github.com/mgeier/python-audio/blob/master/audio-files/utility.py), let's load it:\n"
   ]
  },
  {
   "cell_type": "code",
   "execution_count": null,
   "metadata": {},
   "outputs": [],
   "source": [
    "from utility import pcm2float"
   ]
  },
  {
   "cell_type": "markdown",
   "metadata": {},
   "source": [
    "As always, you can get help with `pcm2float?` and show its source code with `pcm2float??`."
   ]
  },
  {
   "cell_type": "code",
   "execution_count": null,
   "metadata": {},
   "outputs": [],
   "source": [
    "print(\"old dtype: {}\".format(sig.dtype))\n",
    "normalized = pcm2float(sig, 'float32')\n",
    "print(\"new dtype: {}\".format(normalized.dtype))\n",
    "set_printoptions(precision=6)\n",
    "print(normalized)\n",
    "plot(normalized);"
   ]
  },
  {
   "cell_type": "markdown",
   "metadata": {},
   "source": [
    "That's it! Now we have a floating point signal with values ranging from -1 to 1 and we can start working with it.\n",
    "If you prefer double precision numbers instead of single precision, use `'float64'` instead of `'float32'`."
   ]
  },
  {
   "cell_type": "markdown",
   "metadata": {},
   "source": [
    "Let's check if WAVEX works (there might be a warning):"
   ]
  },
  {
   "cell_type": "code",
   "execution_count": null,
   "metadata": {},
   "outputs": [],
   "source": [
    "fs, sig = wavfile.read('data/test_wavex_pcm16.wav')\n",
    "plot(sig);"
   ]
  },
  {
   "cell_type": "markdown",
   "metadata": {},
   "source": [
    "24-bit files may raise a `TypeError` (\"data type not understood\") or a `ValueError` (\"total size of new array must be unchanged\") or another `ValueError` (\"string size must be a multiple of element size\") or probably something else.\n",
    "This depends on the version of SciPy (and maybe Python itself)."
   ]
  },
  {
   "cell_type": "code",
   "execution_count": null,
   "metadata": {},
   "outputs": [],
   "source": [
    "import traceback\n",
    "\n",
    "try:\n",
    "    fs, sig = wavfile.read('data/test_wav_pcm24.wav')\n",
    "except:\n",
    "    traceback.print_exc()\n",
    "else:\n",
    "    print(\"Surprisingly, wav_pcm24 seems to work!\")\n",
    "    plot(sig)\n",
    "\n",
    "try:\n",
    "    fs, sig = wavfile.read('data/test_wavex_pcm24.wav')\n",
    "except:\n",
    "    traceback.print_exc()\n",
    "else:\n",
    "    print(\"Surprisingly, wavex_pcm24 seems to work!\")\n",
    "    plot(sig)"
   ]
  },
  {
   "cell_type": "markdown",
   "metadata": {},
   "source": [
    "32-bit float files can be used since version 0.13 (see https://github.com/scipy/scipy/commit/ccbdff8)."
   ]
  },
  {
   "cell_type": "code",
   "execution_count": null,
   "metadata": {},
   "outputs": [],
   "source": [
    "fs, sig = wavfile.read('data/test_wav_float32.wav')\n",
    "plot(sig);"
   ]
  },
  {
   "cell_type": "markdown",
   "metadata": {},
   "source": [
    "32-bit float files in WAVEX format, however, still don't work. They don't raise an error (maybe a warning) but yield wrong data (because int32 is used instead of float32)."
   ]
  },
  {
   "cell_type": "code",
   "execution_count": null,
   "metadata": {},
   "outputs": [],
   "source": [
    "fs, sig = wavfile.read('data/test_wavex_float32.wav')\n",
    "plot(sig);"
   ]
  },
  {
   "cell_type": "markdown",
   "metadata": {},
   "source": [
    "Wow! That's not supposed to look like that!"
   ]
  },
  {
   "cell_type": "markdown",
   "metadata": {},
   "source": [
    "## Writing"
   ]
  },
  {
   "cell_type": "markdown",
   "metadata": {},
   "source": [
    "That's easy, you just need a NumPy array with an appropriate data type where each column represents a channel of audio data:"
   ]
  },
  {
   "cell_type": "code",
   "execution_count": null,
   "metadata": {},
   "outputs": [],
   "source": [
    "data = array([[1.0,  -1.0],\n",
    "              [0.75, -0.75],\n",
    "              [0.5,  -0.5],\n",
    "              [0.25, -0.25]], dtype='float32')\n",
    "\n",
    "wavfile.write('scipy_float32.wav', 44100, data)"
   ]
  },
  {
   "cell_type": "markdown",
   "metadata": {},
   "source": [
    "If you want to save 16-bit PCM files, you have to provide the NumPy array with data type `'int16'`. You can use my function `float2pcm()` from [`utility.py`](https://github.com/mgeier/python-audio/blob/master/audio-files/utility.py) to do the conversion:"
   ]
  },
  {
   "cell_type": "code",
   "execution_count": null,
   "metadata": {},
   "outputs": [],
   "source": [
    "from utility import float2pcm\n",
    "\n",
    "wavfile.write('scipy_pcm16.wav', 44100, float2pcm(data, 'int16'))"
   ]
  },
  {
   "cell_type": "markdown",
   "metadata": {},
   "source": [
    "That's it! If you want a 32-bit PCM file, you can use `'int32'` instead of `'int16'`."
   ]
  },
  {
   "cell_type": "markdown",
   "metadata": {},
   "source": [
    "## Epilogue"
   ]
  },
  {
   "cell_type": "markdown",
   "metadata": {},
   "source": [
    "Finally, let's see what versions we were using:"
   ]
  },
  {
   "cell_type": "code",
   "execution_count": null,
   "metadata": {},
   "outputs": [],
   "source": [
    "import scipy\n",
    "import IPython\n",
    "print(\"Versions: SciPy = {}; NumPy = {}; IPython = {}\".format(scipy.__version__, numpy.__version__, IPython.__version__))\n",
    "\n",
    "import sys\n",
    "print(\"Python interpreter:\")\n",
    "print(sys.version)"
   ]
  }
 ],
 "metadata": {},
 "nbformat": 4,
 "nbformat_minor": 2
}
