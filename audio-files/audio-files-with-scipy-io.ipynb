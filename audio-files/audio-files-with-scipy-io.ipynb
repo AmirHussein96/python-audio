{
 "cells": [
  {
   "cell_type": "markdown",
   "metadata": {},
   "source": [
    "# Reading and Writing Audio Files with scipy.io"
   ]
  },
  {
   "cell_type": "markdown",
   "metadata": {},
   "source": [
    "[back to overview page](https://github.com/mgeier/python-audio/blob/master/audio-files/README.md)\n",
    "\n",
    "The module `scipy.io` is part of [SciPy](http://www.scipy.org/), a library for scientific computing, which itself depends heavily on [NumPy](http://www.numpy.org/).\n",
    "\n",
    "Documentation: http://docs.scipy.org/doc/scipy/reference/io.html\n",
    "\n",
    "Audio data is stored in NumPy arrays, which is convenient.\n",
    "Audio channels are represented by the columns of the array.\n",
    "\n",
    "16-bit files are stored with data type `int16`, normalization to the range (-1, 1) must be done manually.\n",
    "\n",
    "Advantages:\n",
    "\n",
    "* already installed if you have SciPy\n",
    "* can read WAVEX files (but a warning message may be generated)\n",
    "* works with both Python 2 and 3\n",
    "\n",
    "Disadvantages:\n",
    "\n",
    "* 24-bit not supported\n",
    "* 32-bit float not supported (probably after 0.12.0, see https://github.com/scipy/scipy/commit/ccbdff8)\n",
    "* conversion to floating point and normalization must be done manually\n",
    "* always loads whole file, cannot read part of a file\n",
    "* needs NumPy and SciPy (which is normally not a problem)"
   ]
  },
  {
   "cell_type": "markdown",
   "metadata": {},
   "source": [
    "## Reading"
   ]
  },
  {
   "cell_type": "markdown",
   "metadata": {},
   "source": [
    "Reading a 16-bit WAV file into a floating-point array is simple, here's the summary:"
   ]
  },
  {
   "cell_type": "code",
   "execution_count": null,
   "metadata": {},
   "outputs": [],
   "source": [
    "import numpy as np\n",
    "from scipy.io import wavfile\n",
    "from utility import pcm2float\n",
    "\n",
    "fs, sig = wavfile.read('data/test_wav_pcm16.wav')\n",
    "normalized = pcm2float(sig, np.float32)"
   ]
  },
  {
   "cell_type": "markdown",
   "metadata": {},
   "source": [
    "But let's do that step-by-step, shall we? First, let's use inline plotting and import all the nice NumPy stuff:"
   ]
  },
  {
   "cell_type": "code",
   "execution_count": null,
   "metadata": {},
   "outputs": [],
   "source": [
    "%pylab inline"
   ]
  },
  {
   "cell_type": "markdown",
   "metadata": {},
   "source": [
    "All relevant functions are in the module `wavfile`, that's all we have to import for reading and writing WAV files:"
   ]
  },
  {
   "cell_type": "code",
   "execution_count": null,
   "metadata": {},
   "outputs": [],
   "source": [
    "from scipy.io import wavfile"
   ]
  },
  {
   "cell_type": "markdown",
   "metadata": {},
   "source": [
    "Now let's open a WAV file, get some information about it, show its actual sample values and plot it:"
   ]
  },
  {
   "cell_type": "code",
   "execution_count": null,
   "metadata": {},
   "outputs": [],
   "source": [
    "fs, sig = wavfile.read('data/test_wav_pcm16.wav')\n",
    "\n",
    "print(\"sampling rate = {} Hz, length = {} samples, channels = {}\".format(fs, *sig.shape))\n",
    "\n",
    "print(sig)\n",
    "\n",
    "plot(sig)\n",
    "show()"
   ]
  },
  {
   "cell_type": "markdown",
   "metadata": {},
   "source": [
    "So far, so good.\n",
    "\n",
    "Before further processing, we normally want to convert the signals to floating point values and normalize them to a range from -1 to 1 by dividing all values by the largest possible value.\n",
    "\n",
    "To do that, I wrote a little helper function called `pcm2float()`, located in the file `utility.py`, let's load it:\n"
   ]
  },
  {
   "cell_type": "code",
   "execution_count": null,
   "metadata": {},
   "outputs": [],
   "source": [
    "from utility import pcm2float"
   ]
  },
  {
   "cell_type": "markdown",
   "metadata": {},
   "source": [
    "As always, you can get help with `pcm2float?` and even more help with `pcm2float??`."
   ]
  },
  {
   "cell_type": "code",
   "execution_count": null,
   "metadata": {},
   "outputs": [],
   "source": [
    "print(\"old dtype: {}\".format(sig.dtype))\n",
    "\n",
    "normalized = pcm2float(sig, float32)\n",
    "\n",
    "print(\"new dtype: {}\".format(normalized.dtype))\n",
    "\n",
    "from utility import printoptions\n",
    "\n",
    "with printoptions(precision=6):\n",
    "    print(normalized)\n",
    "\n",
    "plot(normalized)\n",
    "show()"
   ]
  },
  {
   "cell_type": "markdown",
   "metadata": {},
   "source": [
    "That's it! Now we have a floating point signal with values ranging from -1 to 1 and we can start working with it.\n",
    "If you prefer double precision numbers instead of single precision, use `float64` instead of `float32`."
   ]
  },
  {
   "cell_type": "markdown",
   "metadata": {},
   "source": [
    "Let's check if WAVEX works (there might be a warning):"
   ]
  },
  {
   "cell_type": "code",
   "execution_count": null,
   "metadata": {},
   "outputs": [],
   "source": [
    "fs, sig = wavfile.read('data/test_wavex_pcm16.wav')\n",
    "plot(sig)\n",
    "show()"
   ]
  },
  {
   "cell_type": "markdown",
   "metadata": {},
   "source": [
    "24-bit files may raise a `TypeError` (\"data type not understood\") or a `ValueError` (\"total size of new array must be unchanged\"). This depends on the version of SciPy (and maybe Python itself)."
   ]
  },
  {
   "cell_type": "code",
   "execution_count": null,
   "metadata": {},
   "outputs": [],
   "source": [
    "print(\"Watch out for exceptions!\")\n",
    "\n",
    "try:\n",
    "    fs, sig = wavfile.read('data/test_wav_pcm24.wav')\n",
    "except:\n",
    "    import traceback\n",
    "    traceback.print_exc()\n",
    "else:\n",
    "    print(\"Surprisingly, wav_pcm24 seems to work!\")\n",
    "    plot(sig)\n",
    "    show()\n",
    "\n",
    "try:\n",
    "    fs, sig = wavfile.read('data/test_wavex_pcm24.wav')\n",
    "except:\n",
    "    import traceback\n",
    "    traceback.print_exc()\n",
    "else:\n",
    "    print(\"Surprisingly, wavex_pcm24 seems to work!\")\n",
    "    plot(sig)\n",
    "    show()"
   ]
  },
  {
   "cell_type": "markdown",
   "metadata": {},
   "source": [
    "32-bit float files don't raise an error (maybe a warning) but yield wrong data (because int32 is used instead of float32).\n",
    "However, this should work with newer versions (probably after 0.12.0), see https://github.com/scipy/scipy/commit/ccbdff8."
   ]
  },
  {
   "cell_type": "code",
   "execution_count": null,
   "metadata": {},
   "outputs": [],
   "source": [
    "fs, sig = wavfile.read('data/test_wav_float32.wav')\n",
    "plot(sig)\n",
    "show()\n",
    "\n",
    "fs, sig = wavfile.read('data/test_wavex_float32.wav')\n",
    "plot(sig)\n",
    "show()"
   ]
  },
  {
   "cell_type": "markdown",
   "metadata": {},
   "source": [
    "## Writing"
   ]
  },
  {
   "cell_type": "markdown",
   "metadata": {},
   "source": [
    "TODO"
   ]
  },
  {
   "cell_type": "markdown",
   "metadata": {},
   "source": [
    "## Epilogue"
   ]
  },
  {
   "cell_type": "markdown",
   "metadata": {},
   "source": [
    "Finally, let's see what versions we were using:"
   ]
  },
  {
   "cell_type": "code",
   "execution_count": null,
   "metadata": {},
   "outputs": [],
   "source": [
    "import scipy\n",
    "import IPython\n",
    "print(\"Versions: SciPy = {}; NumPy = {}; IPython = {}\".format(scipy.__version__, numpy.__version__, IPython.__version__))\n",
    "\n",
    "import sys\n",
    "print(\"Python interpreter:\")\n",
    "print(sys.version)"
   ]
  }
 ],
 "metadata": {},
 "nbformat": 4,
 "nbformat_minor": 2
}
