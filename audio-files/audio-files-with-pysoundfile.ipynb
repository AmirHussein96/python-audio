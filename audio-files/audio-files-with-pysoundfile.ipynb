{
 "cells": [
  {
   "cell_type": "markdown",
   "metadata": {},
   "source": [
    "# Reading and Writing Audio Files with PySoundFile"
   ]
  },
  {
   "cell_type": "markdown",
   "metadata": {},
   "source": [
    "[back to overview page](https://github.com/mgeier/python-audio/blob/master/audio-files)\n",
    "\n",
    "http://github.com/bastibe/PySoundFile\n",
    "\n",
    "TODO: downloading and installing PySoundFile\n",
    "\n",
    "Advantages: \n",
    "\n",
    "* supports many file formats (thanks to libsndfile)\n",
    "* supports 24-bit PCM and 32-bit floating point WAV files\n",
    "* WAVEX support\n",
    "* can read parts of audio files\n",
    "* automatic type conversion and normalization\n",
    "\n",
    "Disadvantages:\n",
    "\n",
    "* has to be downloaded and installed manually (but it's easy)\n",
    "* not widely known (yet!)\n",
    "* needs NumPy (which isn't really a problem at all)"
   ]
  },
  {
   "cell_type": "markdown",
   "metadata": {},
   "source": [
    "## Reading"
   ]
  },
  {
   "cell_type": "markdown",
   "metadata": {},
   "source": [
    "This is the quickest way to load a WAV file into a NumPy array:"
   ]
  },
  {
   "cell_type": "code",
   "execution_count": null,
   "metadata": {},
   "outputs": [],
   "source": [
    "from pysoundfile import SoundFile\n",
    "sig = SoundFile('data/test_wav_pcm16.wav')[:]"
   ]
  },
  {
   "cell_type": "markdown",
   "metadata": {},
   "source": [
    "That's all. Easy, isn't it?\n",
    "\n",
    "But let's have a closer look ..."
   ]
  },
  {
   "cell_type": "code",
   "execution_count": null,
   "metadata": {},
   "outputs": [],
   "source": [
    "%pylab inline"
   ]
  },
  {
   "cell_type": "code",
   "execution_count": null,
   "metadata": {},
   "outputs": [],
   "source": [
    "plot(sig)\n",
    "show()"
   ]
  },
  {
   "cell_type": "markdown",
   "metadata": {},
   "source": [
    "TODO: There's something wrong at the end!"
   ]
  },
  {
   "cell_type": "code",
   "execution_count": null,
   "metadata": {},
   "outputs": [],
   "source": [
    "w = SoundFile('data/test_wav_pcm16.wav')"
   ]
  },
  {
   "cell_type": "code",
   "execution_count": null,
   "metadata": {},
   "outputs": [],
   "source": [
    "w.channels, w.frames, w.sample_rate"
   ]
  },
  {
   "cell_type": "code",
   "execution_count": null,
   "metadata": {},
   "outputs": [],
   "source": [
    "w.format"
   ]
  },
  {
   "cell_type": "code",
   "execution_count": null,
   "metadata": {},
   "outputs": [],
   "source": [
    "sig.shape"
   ]
  },
  {
   "cell_type": "markdown",
   "metadata": {},
   "source": [
    "TODO: locate the off-by-one error!\n",
    "See https://github.com/bastibe/PySoundFile/issues/6"
   ]
  },
  {
   "cell_type": "code",
   "execution_count": null,
   "metadata": {},
   "outputs": [],
   "source": [
    "test = w.read(20)"
   ]
  },
  {
   "cell_type": "code",
   "execution_count": null,
   "metadata": {},
   "outputs": [],
   "source": [
    "test.shape"
   ]
  },
  {
   "cell_type": "code",
   "execution_count": null,
   "metadata": {},
   "outputs": [],
   "source": [
    "plot(test)\n",
    "show()"
   ]
  },
  {
   "cell_type": "markdown",
   "metadata": {},
   "source": [
    "OK, read() works as expected.\n",
    "\n",
    "But it would be nice to have a parameter to read the whole file, e.g. `read()` or `read(-1)`.\n",
    "See https://github.com/bastibe/PySoundFile/pull/8"
   ]
  },
  {
   "cell_type": "code",
   "execution_count": null,
   "metadata": {},
   "outputs": [],
   "source": [
    "w[3:6]"
   ]
  },
  {
   "cell_type": "markdown",
   "metadata": {},
   "source": [
    "Nice, but indexing into columns would be great!\n",
    "\n",
    "Also, it might be better if a mono sound file would turn into a one-dimensional NumPy array?\n",
    "This would be consistent with the rest of NumPy (although not expected by Octave users)."
   ]
  },
  {
   "cell_type": "code",
   "execution_count": null,
   "metadata": {},
   "outputs": [],
   "source": [
    "# TODO: indexing shouldn't move the read pointer!?!"
   ]
  },
  {
   "cell_type": "code",
   "execution_count": null,
   "metadata": {},
   "outputs": [],
   "source": [
    "# TODO: load 24-bit file 'data/test_wav_pcm24.wav'"
   ]
  },
  {
   "cell_type": "code",
   "execution_count": null,
   "metadata": {},
   "outputs": [],
   "source": [
    "# TODO: load WAVEX 'data/test_wavex_pcm16.wav' and 'data/test_wavex_pcm24.wav'"
   ]
  },
  {
   "cell_type": "code",
   "execution_count": null,
   "metadata": {},
   "outputs": [],
   "source": [
    "# TODO: load 32-bit float files 'test_wav_float32.wav' and 'test_wavex_float32.wav'"
   ]
  },
  {
   "cell_type": "code",
   "execution_count": null,
   "metadata": {},
   "outputs": [],
   "source": [
    "# TODO: test PyPy support"
   ]
  },
  {
   "cell_type": "markdown",
   "metadata": {},
   "source": [
    "## Writing"
   ]
  },
  {
   "cell_type": "code",
   "execution_count": null,
   "metadata": {},
   "outputs": [],
   "source": [
    "# TODO!"
   ]
  },
  {
   "cell_type": "markdown",
   "metadata": {},
   "source": [
    "## Version Info"
   ]
  },
  {
   "cell_type": "code",
   "execution_count": null,
   "metadata": {},
   "outputs": [],
   "source": [
    "import pysoundfile\n",
    "\n",
    "import sys, IPython\n",
    "print(\"Versions: NumPy = {}; IPython = {}\".format(numpy.__version__, IPython.__version__))\n",
    "\n",
    "print(\"Python interpreter:\")\n",
    "print(sys.version)\n",
    "\n",
    "try:\n",
    "    print(\"PySoundFile version =\", pysoundfile.__version__)\n",
    "except:\n",
    "    import traceback\n",
    "    traceback.print_exc()"
   ]
  },
  {
   "cell_type": "markdown",
   "metadata": {},
   "source": [
    "Bug report for missing version number: https://github.com/bastibe/PySoundFile/issues/7"
   ]
  },
  {
   "cell_type": "code",
   "execution_count": null,
   "metadata": {},
   "outputs": [],
   "source": [
    "pysoundfile.snd_types"
   ]
  },
  {
   "cell_type": "code",
   "execution_count": null,
   "metadata": {},
   "outputs": [],
   "source": [
    "pysoundfile.snd_subtypes"
   ]
  }
 ],
 "metadata": {},
 "nbformat": 4,
 "nbformat_minor": 2
}
