{
 "cells": [
  {
   "cell_type": "markdown",
   "metadata": {},
   "source": [
    "# Reading and Writing Audio Files with audioread"
   ]
  },
  {
   "cell_type": "markdown",
   "metadata": {},
   "source": [
    "[back to overview page](index.ipynb)"
   ]
  },
  {
   "cell_type": "markdown",
   "metadata": {},
   "source": [
    "The module `audioread` can be found there: https://github.com/sampsyo/audioread\n",
    "\n",
    "This isn't really an option because it has the same disadvantages as the wave module (and more) and it has to be installed manually (but at least it's available as Debian package).\n",
    "\n",
    "Advantages:\n",
    "\n",
    "* WAVEX seems to (kinda) work\n",
    "* kinda works for both Python 2 and 3\n",
    "\n",
    "Disadvantages:\n",
    "\n",
    "* always 16-bit values are returned (even if file has different data, e.g. pcm32)\n",
    "* manual de-interleaving and conversion is necessary\n",
    "* the number of channels is wrong in some cases (it should work for 1 and 2-channel files though)\n",
    "* no error/warning messages if something goes wrong"
   ]
  },
  {
   "cell_type": "markdown",
   "metadata": {},
   "source": [
    "## Reading"
   ]
  },
  {
   "cell_type": "markdown",
   "metadata": {},
   "source": [
    "I don't recommend the module `audioread`, but you can have a look how it is supposed to work, anyway.\n",
    "\n",
    "First, let's enable inline plotting and load everything NumPy-related into the local namespace:"
   ]
  },
  {
   "cell_type": "code",
   "execution_count": null,
   "metadata": {},
   "outputs": [],
   "source": [
    "%pylab inline"
   ]
  },
  {
   "cell_type": "markdown",
   "metadata": {},
   "source": [
    "Following code should read a 16-bit WAV file.\n",
    "\n",
    "To convert it to floating point values and to normalize to a range from -1 to 1, we're using the function `pcm2float()`, located in the file [`utility.py`](https://github.com/mgeier/python-audio/blob/master/audio-files/utility.py)."
   ]
  },
  {
   "cell_type": "code",
   "execution_count": null,
   "metadata": {},
   "outputs": [],
   "source": [
    "import audioread\n",
    "from utility import pcm2float\n",
    "\n",
    "temp = bytearray()\n",
    "    \n",
    "with audioread.audio_open('data/test_wav_pcm16.wav') as f:\n",
    "    framerate = f.samplerate\n",
    "    duration = f.duration\n",
    "    nchannels = f.channels\n",
    "    print(\"sampling rate = {framerate} Hz, duration = {duration} seconds, channels = {nchannels}\".format(**locals()))\n",
    "\n",
    "    # chunk size can be specified with 'block_samples' (default 1024):\n",
    "    for chunk in f.read_data():\n",
    "        temp.extend(chunk)\n",
    "\n",
    "sig = frombuffer(temp, dtype='<i2').reshape(-1, nchannels)\n",
    "\n",
    "normalized = pcm2float(sig, np.float32)"
   ]
  },
  {
   "cell_type": "markdown",
   "metadata": {},
   "source": [
    "This is now it normally would be done, but, the number of channels should be 7 and not 1!"
   ]
  },
  {
   "cell_type": "markdown",
   "metadata": {},
   "source": [
    "## Writing"
   ]
  },
  {
   "cell_type": "markdown",
   "metadata": {},
   "source": [
    "I won't even try that."
   ]
  },
  {
   "cell_type": "markdown",
   "metadata": {},
   "source": [
    "## Version Info"
   ]
  },
  {
   "cell_type": "code",
   "execution_count": null,
   "metadata": {},
   "outputs": [],
   "source": [
    "import sys, IPython\n",
    "print(\"Versions: NumPy = {}; IPython = {}\".format(numpy.__version__, IPython.__version__))\n",
    "\n",
    "print(\"Python interpreter:\")\n",
    "print(sys.version)\n",
    "\n",
    "try:\n",
    "    print(\"audioread version =\", audioread.__version__)\n",
    "except:\n",
    "    import traceback\n",
    "    traceback.print_exc()"
   ]
  },
  {
   "cell_type": "markdown",
   "metadata": {},
   "source": [
    "<p xmlns:dct=\"http://purl.org/dc/terms/\">\n",
    "  <a rel=\"license\"\n",
    "     href=\"http://creativecommons.org/publicdomain/zero/1.0/\">\n",
    "    <img src=\"http://i.creativecommons.org/p/zero/1.0/88x31.png\" style=\"border-style: none;\" alt=\"CC0\" />\n",
    "  </a>\n",
    "  <br />\n",
    "  To the extent possible under law,\n",
    "  <span resource=\"[_:publisher]\" rel=\"dct:publisher\">\n",
    "    <span property=\"dct:title\">Matthias Geier</span></span>\n",
    "  has waived all copyright and related or neighboring rights to\n",
    "  this work.\n",
    "</p>"
   ]
  }
 ],
 "metadata": {},
 "nbformat": 4,
 "nbformat_minor": 2
}
