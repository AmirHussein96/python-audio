{
 "cells": [
  {
   "cell_type": "markdown",
   "metadata": {},
   "source": [
    "# Generating Simple Audio Signals"
   ]
  },
  {
   "cell_type": "markdown",
   "metadata": {},
   "source": [
    "[back to main page](index.ipynb)"
   ]
  },
  {
   "cell_type": "markdown",
   "metadata": {},
   "source": [
    "We create a simple sine wave as an introductory example using Python and NumPy.\n",
    "\n",
    "Let's start with some basic Python. We create three numbers and give each of them a name.\n",
    "\n",
    "> Sometimes these are called *variables*, but that is actually misleading.\n",
    "> Think about objects and names. An object is created (in our case a number) and we specify a name by which we want to access this object."
   ]
  },
  {
   "cell_type": "code",
   "execution_count": null,
   "metadata": {},
   "outputs": [],
   "source": [
    "dur = 1.5  # duration in seconds\n",
    "freq = 440.  # frequency in Hertz\n",
    "fs = 44100  # sampling frequency in Hertz"
   ]
  },
  {
   "cell_type": "markdown",
   "metadata": {},
   "source": [
    "Everything following a `#` sign is a comment.\n",
    "\n",
    "There is no output. If you want to see which object a certain name refers to, just type the name:"
   ]
  },
  {
   "cell_type": "code",
   "execution_count": null,
   "metadata": {},
   "outputs": [],
   "source": [
    "dur"
   ]
  },
  {
   "cell_type": "markdown",
   "metadata": {},
   "source": [
    "In Python, *everything* is an object. And every object has a *type*. Let's see ..."
   ]
  },
  {
   "cell_type": "code",
   "execution_count": null,
   "metadata": {},
   "outputs": [],
   "source": [
    "type(dur), type(freq), type(fs)"
   ]
  },
  {
   "cell_type": "markdown",
   "metadata": {},
   "source": [
    "Note that we didn't specify any types explicitly, we just got Python's default types. Numbers with a comma are by default of type `float`, values without comma are of type `int`.\n",
    "\n",
    "There are many more types in Python (strings, tuples, lists, dictionaries, ...), but let's ignore them for now.\n",
    "\n",
    "If you want an overview about all the objects you have defined up to now, use `%who` or its more verbose cousin `%whos`."
   ]
  },
  {
   "cell_type": "code",
   "execution_count": null,
   "metadata": {},
   "outputs": [],
   "source": [
    "%whos"
   ]
  },
  {
   "cell_type": "markdown",
   "metadata": {},
   "source": [
    "Now, let's bring NumPy into the game. The canonical way to do that in a Python script is"
   ]
  },
  {
   "cell_type": "code",
   "execution_count": null,
   "metadata": {},
   "outputs": [],
   "source": [
    "import numpy as np"
   ]
  },
  {
   "cell_type": "markdown",
   "metadata": {},
   "source": [
    "With this, we'll have to prepend \"`np.`\" to all NumPy functions, types etc.\n",
    "\n",
    "Now let's create the most basic signal, a sine. This is kind of the \"Hello World!\" of signals.\n",
    "\n",
    "In order to create a sine tone, we need first a series of time instances to represent our sampling times. The distance between those instances is the *sampling interval* $\\tau = \\frac{1}{f_s}$, where $f_s$ is the *sampling frequency*.\n",
    "\n",
    "To create a series of regularly ascending (or descending) values, NumPy provides the function `arange()`. Let's use that."
   ]
  },
  {
   "cell_type": "code",
   "execution_count": null,
   "metadata": {},
   "outputs": [],
   "source": [
    "t = np.arange(0, np.ceil(dur * fs)) / fs\n",
    "t"
   ]
  },
  {
   "cell_type": "markdown",
   "metadata": {},
   "source": [
    "As you can see, this creates an array of numbers from 0 to just below the value specified in `dur`. These are a lot of numbers, so to avoid flooding us with heaps of useless output, IPython just shows the first and last few values. Very handy.\n",
    "\n",
    "> Note that in Python 2 and before, the division operator works a little differently then in Python 3. Here we assume we're using the latter, where the division of two `int`s returns a `float` value (and not an `int` with the truncated result!).\n",
    "> To make sure this also works as expected in Python 2, you can convert one operand to `float` before the division or use a special `import` statement:\n",
    ">\n",
    ">     1. / fs\n",
    ">\n",
    "> or\n",
    ">\n",
    ">     1 / float(fs)\n",
    "> or\n",
    ">\n",
    ">     from __future__ import division\n",
    ">     1 / fs\n",
    "\n",
    "Let's check the type of `t`."
   ]
  },
  {
   "cell_type": "code",
   "execution_count": null,
   "metadata": {},
   "outputs": [],
   "source": [
    "type(t)"
   ]
  },
  {
   "cell_type": "markdown",
   "metadata": {},
   "source": [
    "The `ndarray` is the single most important type of NumPy. It can handle arrays with an arbitrary number of dimensions. All values stored in an `ndarray` have the same data type. This makes most operations on them faster then on Python's built-in `list`s.\n",
    "\n",
    "Let's get some information about our brand new array named `t`."
   ]
  },
  {
   "cell_type": "code",
   "execution_count": null,
   "metadata": {},
   "outputs": [],
   "source": [
    "t.dtype, t.size, t.ndim"
   ]
  },
  {
   "cell_type": "markdown",
   "metadata": {},
   "source": [
    "By default, NumPy stores floating point numbers as `float64`, i.e. each number using 64 bits. This is sometimes called _double precision_. If you want _single precision_, you can use `float32`. The length of our array is stored in `t.size` and `t.ndim` shows how many dimensions the array has. This one has only one. Boring.\n",
    "\n",
    "Now that we have our time instances, we can compute the sine for each of them, according to the equation $x(t) = \\sin(\\omega t)$ with $\\omega = 2\\pi f$ and $f$ being the desired frequency of the resulting sine tone."
   ]
  },
  {
   "cell_type": "code",
   "execution_count": null,
   "metadata": {},
   "outputs": [],
   "source": [
    "sig = np.sin(2 * np.pi * freq * t)\n",
    "sig"
   ]
  },
  {
   "cell_type": "markdown",
   "metadata": {},
   "source": [
    "Note that we didn't have to explicitly loop over all array elements. Most NumPy functions - including `sin()` - work element-wise. If an array is multiplied by a scalar, the multiplication is also applied element-wise.\n",
    "\n",
    "> This is called \"broadcasting\", but more about that another time ...\n",
    "\n",
    "To check if this actually worked, we plot the signal, but first we'll set up inline plotting."
   ]
  },
  {
   "cell_type": "code",
   "execution_count": null,
   "metadata": {},
   "outputs": [],
   "source": [
    "%matplotlib inline\n",
    "import matplotlib.pyplot as plt"
   ]
  },
  {
   "cell_type": "code",
   "execution_count": null,
   "metadata": {},
   "outputs": [],
   "source": [
    "plt.plot(sig)\n",
    "plt.ylim(-1.1, 1.1);"
   ]
  },
  {
   "cell_type": "markdown",
   "metadata": {},
   "source": [
    "Hmmm ... maybe we recognize something if we only plot the first 200 values."
   ]
  },
  {
   "cell_type": "code",
   "execution_count": null,
   "metadata": {},
   "outputs": [],
   "source": [
    "plt.plot(sig[:200])\n",
    "plt.xlabel(\"time (samples)\")\n",
    "plt.ylim(-1.1, 1.1);"
   ]
  },
  {
   "cell_type": "markdown",
   "metadata": {},
   "source": [
    "Better.\n",
    "\n",
    "If we want to show the time in milliseconds instead of samples, we have to specify the time instances:"
   ]
  },
  {
   "cell_type": "code",
   "execution_count": null,
   "metadata": {},
   "outputs": [],
   "source": [
    "plt.plot(t[:200] * 1000, sig[:200])\n",
    "plt.ylim(-1.1, 1.1);"
   ]
  },
  {
   "cell_type": "markdown",
   "metadata": {},
   "source": [
    "To avoid specifying the same range twice, we can use a `slice` object."
   ]
  },
  {
   "cell_type": "code",
   "execution_count": null,
   "metadata": {},
   "outputs": [],
   "source": [
    "sl = slice(200)\n",
    "plt.plot(t[sl] * 1000, sig[sl])\n",
    "plt.title(\"sine tone\")\n",
    "plt.xlabel(\"time (milliseconds)\")\n",
    "plt.ylim(-1.1, 1.1);"
   ]
  },
  {
   "cell_type": "code",
   "execution_count": null,
   "metadata": {},
   "outputs": [],
   "source": [
    "# TODO: savefig(\"sinetone.pgf\")"
   ]
  },
  {
   "cell_type": "code",
   "execution_count": null,
   "metadata": {},
   "outputs": [],
   "source": [
    "# TODO: save WAV file"
   ]
  },
  {
   "cell_type": "code",
   "execution_count": null,
   "metadata": {},
   "outputs": [],
   "source": [
    "# TODO: stereo signal, row vs. column"
   ]
  },
  {
   "cell_type": "code",
   "execution_count": null,
   "metadata": {},
   "outputs": [],
   "source": []
  },
  {
   "cell_type": "code",
   "execution_count": null,
   "metadata": {},
   "outputs": [],
   "source": [
    "freq = np.array((500, 600))\n",
    "\n",
    "sig = np.sin(2 * np.pi * freq * t.reshape(-1, 1))\n",
    "\n",
    "sig"
   ]
  },
  {
   "cell_type": "code",
   "execution_count": null,
   "metadata": {},
   "outputs": [],
   "source": [
    "plt.plot(sig[:200])\n",
    "plt.ylim(-1.1, 1.1);"
   ]
  },
  {
   "cell_type": "code",
   "execution_count": null,
   "metadata": {},
   "outputs": [],
   "source": []
  },
  {
   "cell_type": "markdown",
   "metadata": {},
   "source": [
    "<p xmlns:dct=\"http://purl.org/dc/terms/\">\n",
    "  <a rel=\"license\"\n",
    "     href=\"http://creativecommons.org/publicdomain/zero/1.0/\">\n",
    "    <img src=\"http://i.creativecommons.org/p/zero/1.0/88x31.png\" style=\"border-style: none;\" alt=\"CC0\" />\n",
    "  </a>\n",
    "  <br />\n",
    "  To the extent possible under law,\n",
    "  <span resource=\"[_:publisher]\" rel=\"dct:publisher\">\n",
    "    <span property=\"dct:title\">Matthias Geier</span></span>\n",
    "  has waived all copyright and related or neighboring rights to\n",
    "  this work.\n",
    "</p>"
   ]
  }
 ],
 "metadata": {},
 "nbformat": 4,
 "nbformat_minor": 2
}
