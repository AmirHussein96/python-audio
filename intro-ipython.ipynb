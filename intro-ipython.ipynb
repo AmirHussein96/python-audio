{
 "cells": [
  {
   "cell_type": "markdown",
   "metadata": {},
   "source": [
    "# A Short Introduction to IPython"
   ]
  },
  {
   "cell_type": "markdown",
   "metadata": {},
   "source": [
    "[back to main page](https://github.com/mgeier/python-audio)\n",
    "\n",
    "interactive ...\n",
    "\n",
    "  - classic console\n",
    "  - qtconsole\n",
    "  - notebook\n",
    "\n",
    "Start like this:\n",
    "\n",
    "    ipython3\n",
    "\n",
    "or\n",
    "\n",
    "    ipython3 qtconsole\n",
    "\n",
    "or\n",
    "\n",
    "    ipython3 notebook\n",
    "\n",
    "http://ipython.org/notebook.html\n",
    "\n",
    "http://nbviewer.ipython.org/"
   ]
  },
  {
   "cell_type": "code",
   "execution_count": null,
   "metadata": {},
   "outputs": [],
   "source": [
    "# magic functions\n",
    "%quickref"
   ]
  },
  {
   "cell_type": "markdown",
   "metadata": {},
   "source": [
    "Text can be written in [Markdown](http://daringfireball.net/projects/markdown/).\n",
    "\n",
    "Support for $\\LaTeX$ equations: $a^2+b^2=c^2$ (using [MathJax](http://www.mathjax.org/))."
   ]
  },
  {
   "cell_type": "markdown",
   "metadata": {},
   "source": [
    "`qtconsole` can also be started from a running notebook session:"
   ]
  },
  {
   "cell_type": "code",
   "execution_count": null,
   "metadata": {},
   "outputs": [],
   "source": [
    "%qtconsole"
   ]
  },
  {
   "cell_type": "code",
   "execution_count": null,
   "metadata": {},
   "outputs": [],
   "source": [
    "help?"
   ]
  },
  {
   "cell_type": "code",
   "execution_count": null,
   "metadata": {},
   "outputs": [],
   "source": [
    "help??"
   ]
  },
  {
   "cell_type": "code",
   "execution_count": null,
   "metadata": {},
   "outputs": [],
   "source": [
    "%pylab inline"
   ]
  },
  {
   "cell_type": "code",
   "execution_count": null,
   "metadata": {},
   "outputs": [],
   "source": [
    "# TODO: TikZ backend?"
   ]
  },
  {
   "cell_type": "code",
   "execution_count": null,
   "metadata": {},
   "outputs": [],
   "source": [
    "%timeit?\n",
    "\n",
    "# or:\n",
    "#%run -t"
   ]
  },
  {
   "cell_type": "code",
   "execution_count": null,
   "metadata": {},
   "outputs": [],
   "source": [
    "%debug?\n",
    "\n",
    "# or:\n",
    "#%run -d"
   ]
  },
  {
   "cell_type": "code",
   "execution_count": null,
   "metadata": {},
   "outputs": [],
   "source": [
    "%who?"
   ]
  },
  {
   "cell_type": "markdown",
   "metadata": {},
   "source": [
    "You can also do crazy things like running shell commands. You can even pass Python names and use the shell output again in Python:"
   ]
  },
  {
   "cell_type": "code",
   "execution_count": null,
   "metadata": {},
   "outputs": [],
   "source": [
    "extension = 'ipynb'\n",
    "a =! ls *.$extension\n",
    "a"
   ]
  },
  {
   "cell_type": "code",
   "execution_count": null,
   "metadata": {},
   "outputs": [],
   "source": [
    "d =! ddate\n",
    "print(d.n)"
   ]
  },
  {
   "cell_type": "code",
   "execution_count": null,
   "metadata": {},
   "outputs": [],
   "source": [
    "%%bash\n",
    "tmp=$(tempfile).txt\n",
    "echo some text > $tmp\n",
    "echo more text >> $tmp\n",
    "sed -i s/text/nonsense/ $tmp\n",
    "cat $tmp\n",
    "rm $tmp"
   ]
  },
  {
   "cell_type": "markdown",
   "metadata": {},
   "source": [
    "... but it doesn't stop there, you can also run Ruby, Octave or R code!\n",
    "\n",
    "This is of course beyond the scope of this little tutorial, if you are interested, have a look at these commands:\n",
    "\n",
    "    %%ruby\n",
    "    %load_ext octavemagic\n",
    "    %%octave\n",
    "    %load_ext rmagic\n",
    "    %%R\n",
    "\n",
    "See also [Running Scripts from IPython](http://nbviewer.ipython.org/github/ipython/ipython/blob/master/examples/notebooks/Script%20Magics.ipynb)\n",
    "\n",
    "[Example notebook using Octave](http://nbviewer.ipython.org/github/ipython/ipython/blob/master/examples/notebooks/Octave%20Magic.ipynb)\n",
    "\n",
    "[Example notebook using R](http://nbviewer.ipython.org/github/ipython/ipython/blob/master/examples/notebooks/R%20Magics.ipynb)"
   ]
  }
 ],
 "metadata": {},
 "nbformat": 4,
 "nbformat_minor": 2
}
