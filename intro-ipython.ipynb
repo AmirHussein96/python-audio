{
 "metadata": {
  "name": "intro-ipython"
 },
 "nbformat": 3,
 "nbformat_minor": 0,
 "worksheets": [
  {
   "cells": [
    {
     "cell_type": "heading",
     "level": 1,
     "metadata": {},
     "source": [
      "A Short Introduction to IPython"
     ]
    },
    {
     "cell_type": "markdown",
     "metadata": {},
     "source": [
      "[back to main page](https://github.com/mgeier/python-audio/blob/master)\n",
      "\n",
      "interactive ...\n",
      "\n",
      "  - classic console\n",
      "  - qtconsole\n",
      "  - notebook\n",
      "\n",
      "Start like this:\n",
      "\n",
      "    ipython3\n",
      "\n",
      "or\n",
      "\n",
      "    ipython3 qtconsole\n",
      "\n",
      "or\n",
      "\n",
      "    ipython3 notebook\n",
      "\n",
      "http://ipython.org/notebook.html\n",
      "\n",
      "http://nbviewer.ipython.org/"
     ]
    },
    {
     "cell_type": "code",
     "collapsed": false,
     "input": [],
     "language": "python",
     "metadata": {},
     "outputs": []
    },
    {
     "cell_type": "code",
     "collapsed": false,
     "input": [
      "# magic functions\n",
      "%quickref"
     ],
     "language": "python",
     "metadata": {},
     "outputs": []
    },
    {
     "cell_type": "code",
     "collapsed": false,
     "input": [],
     "language": "python",
     "metadata": {},
     "outputs": []
    },
    {
     "cell_type": "markdown",
     "metadata": {},
     "source": [
      "Text can be written in [Markdown](http://daringfireball.net/projects/markdown/).\n",
      "\n",
      "Support for $\\LaTeX$ equations: $a^2+b^2=c^2$ (using [MathJax](http://www.mathjax.org/))."
     ]
    },
    {
     "cell_type": "markdown",
     "metadata": {},
     "source": [
      "`qtconsole` can also be started from a running notebook session:"
     ]
    },
    {
     "cell_type": "code",
     "collapsed": false,
     "input": [
      "%qtconsole"
     ],
     "language": "python",
     "metadata": {},
     "outputs": []
    },
    {
     "cell_type": "code",
     "collapsed": false,
     "input": [],
     "language": "python",
     "metadata": {},
     "outputs": []
    },
    {
     "cell_type": "code",
     "collapsed": false,
     "input": [
      "help?"
     ],
     "language": "python",
     "metadata": {},
     "outputs": [],
     "prompt_number": 3
    },
    {
     "cell_type": "code",
     "collapsed": false,
     "input": [
      "help??"
     ],
     "language": "python",
     "metadata": {},
     "outputs": []
    },
    {
     "cell_type": "code",
     "collapsed": false,
     "input": [],
     "language": "python",
     "metadata": {},
     "outputs": []
    },
    {
     "cell_type": "code",
     "collapsed": false,
     "input": [
      "%pylab inline"
     ],
     "language": "python",
     "metadata": {},
     "outputs": [
      {
       "output_type": "stream",
       "stream": "stdout",
       "text": [
        "\n",
        "Welcome to pylab, a matplotlib-based Python environment [backend: module://IPython.zmq.pylab.backend_inline].\n",
        "For more information, type 'help(pylab)'.\n"
       ]
      }
     ],
     "prompt_number": 5
    },
    {
     "cell_type": "code",
     "collapsed": false,
     "input": [
      "# TODO: TikZ backend?"
     ],
     "language": "python",
     "metadata": {},
     "outputs": []
    },
    {
     "cell_type": "code",
     "collapsed": false,
     "input": [],
     "language": "python",
     "metadata": {},
     "outputs": []
    },
    {
     "cell_type": "code",
     "collapsed": true,
     "input": [
      "%timeit\n",
      "\n",
      "# or\n",
      "\n",
      "%run -t"
     ],
     "language": "python",
     "metadata": {},
     "outputs": [],
     "prompt_number": 2
    },
    {
     "cell_type": "code",
     "collapsed": false,
     "input": [
      "%cpaste"
     ],
     "language": "python",
     "metadata": {},
     "outputs": []
    },
    {
     "cell_type": "code",
     "collapsed": false,
     "input": [
      "%debug # and locals()\n",
      "%run -d"
     ],
     "language": "python",
     "metadata": {},
     "outputs": []
    },
    {
     "cell_type": "code",
     "collapsed": false,
     "input": [],
     "language": "python",
     "metadata": {},
     "outputs": []
    },
    {
     "cell_type": "markdown",
     "metadata": {},
     "source": [
      "You can also do crazy things like running shell commands (and using their output in Python):"
     ]
    },
    {
     "cell_type": "code",
     "collapsed": false,
     "input": [
      "a =! ls *.ipynb\n",
      "a"
     ],
     "language": "python",
     "metadata": {},
     "outputs": [
      {
       "output_type": "pyout",
       "prompt_number": 11,
       "text": [
        "['intro-ipython.ipynb',\n",
        " 'intro-numpy.ipynb',\n",
        " 'intro-python.ipynb',\n",
        " 'simple-signals.ipynb']"
       ]
      }
     ],
     "prompt_number": 11
    },
    {
     "cell_type": "code",
     "collapsed": false,
     "input": [
      "d =! ddate\n",
      "print(d.n)"
     ],
     "language": "python",
     "metadata": {},
     "outputs": [
      {
       "output_type": "stream",
       "stream": "stdout",
       "text": [
        "Today is Setting Orange, the 61st day of Bureaucracy in the YOLD 3179\n"
       ]
      }
     ],
     "prompt_number": 1
    },
    {
     "cell_type": "code",
     "collapsed": false,
     "input": [
      "%%bash\n",
      "tmp=$(tempfile).txt\n",
      "echo some text > $tmp\n",
      "echo more text >> $tmp\n",
      "sed -i s/text/nonsense/ $tmp\n",
      "cat $tmp\n",
      "rm $tmp"
     ],
     "language": "python",
     "metadata": {},
     "outputs": [
      {
       "output_type": "stream",
       "stream": "stdout",
       "text": [
        "some nonsense\n",
        "more nonsense\n"
       ]
      }
     ],
     "prompt_number": 2
    },
    {
     "cell_type": "markdown",
     "metadata": {},
     "source": [
      "... but it doesn't stop there, you can also run Ruby, Octave or R code!\n",
      "\n",
      "This is of course beyond the scope of this little tutorial, if you are interested, have a look at these commands:\n",
      "\n",
      "    %%ruby\n",
      "    %load_ext octavemagic\n",
      "    %%octave\n",
      "    %load_ext rmagic\n",
      "    %%R"
     ]
    },
    {
     "cell_type": "heading",
     "level": 2,
     "metadata": {},
     "source": [
      "Links"
     ]
    },
    {
     "cell_type": "markdown",
     "metadata": {},
     "source": [
      "TODO: more links"
     ]
    }
   ],
   "metadata": {}
  }
 ]
}